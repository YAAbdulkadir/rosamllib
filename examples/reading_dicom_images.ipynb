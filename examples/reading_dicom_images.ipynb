{
 "cells": [
  {
   "cell_type": "markdown",
   "metadata": {},
   "source": [
    "# Reading and Visualizing DICOM Images\n",
    "---\n"
   ]
  },
  {
   "cell_type": "code",
   "execution_count": null,
   "metadata": {},
   "outputs": [],
   "source": [
    "import numpy as np\n",
    "import matplotlib.pyplot as plt\n",
    "from rosamllib.readers import DICOMImageReader\n",
    "from rosamllib.viewers import interactive_image_viewer"
   ]
  },
  {
   "cell_type": "code",
   "execution_count": null,
   "metadata": {},
   "outputs": [],
   "source": [
    "# paths to a DICOM image\n",
    "ct_path = r\"path/to/ct/dicoms/series\""
   ]
  },
  {
   "cell_type": "code",
   "execution_count": null,
   "metadata": {},
   "outputs": [],
   "source": [
    "# read the ct image\n",
    "ct_reader = DICOMImageReader(ct_path)\n",
    "ct_image = ct_reader.read()"
   ]
  },
  {
   "cell_type": "markdown",
   "metadata": {},
   "source": [
    "---\n",
    "## Notes:\n",
    "- The `DICOMImage` class returned by the `DICOMImageReader` wraps a `SimpleITK.Image` object, so it inherits all SimpleITK functionality.\n",
    "- You can use `get_image_array()` to convert the DICOM image into a NumPy array for further processing.\n",
    "- You can also use dot notation to get dicom metadata\n",
    "\n",
    "---"
   ]
  },
  {
   "cell_type": "code",
   "execution_count": null,
   "metadata": {},
   "outputs": [],
   "source": [
    "# you can get DICOM metadata using dot notation\n",
    "ct_image.SOPClassUID"
   ]
  },
  {
   "cell_type": "code",
   "execution_count": null,
   "metadata": {},
   "outputs": [],
   "source": [
    "# you can also use SimpleITK methods to get info about the image\n",
    "ct_image.GetDirection()"
   ]
  },
  {
   "cell_type": "code",
   "execution_count": null,
   "metadata": {},
   "outputs": [],
   "source": [
    "# Get the image as numpy array\n",
    "img = ct_image.get_image_array()\n",
    "img.shape"
   ]
  },
  {
   "cell_type": "code",
   "execution_count": null,
   "metadata": {},
   "outputs": [],
   "source": [
    "# plot the axial slice (assuming standard orientation)\n",
    "slice = img.shape[0] // 2\n",
    "z = ct_image.TransformIndexToPhysicalPoint((0, 0, slice))[2]\n",
    "window = 400\n",
    "level = 50\n",
    "min_val = level - (window / 2)\n",
    "max_val = level + (window / 2)\n",
    "windowed_img = np.clip(img, min_val, max_val)\n",
    "plt.imshow(windowed_img[slice], cmap='gray')\n",
    "plt.title(f\"Axial slice at {z=}mm\")\n",
    "plt.axis('off')\n",
    "plt.show()\n"
   ]
  },
  {
   "cell_type": "code",
   "execution_count": null,
   "metadata": {},
   "outputs": [],
   "source": [
    "# you can print the docstring for the different methods of each class\n",
    "help(ct_image.visualize)"
   ]
  },
  {
   "cell_type": "code",
   "execution_count": null,
   "metadata": {},
   "outputs": [],
   "source": [
    "# show the axial, coronal and sagittal slices\n",
    "ct_image.visualize(axial_index=160)"
   ]
  },
  {
   "cell_type": "code",
   "execution_count": null,
   "metadata": {},
   "outputs": [],
   "source": [
    "# you can also use the interactive viewer to scroll through slices on a given axis\n",
    "interactive_image_viewer(ct_image, window=400, level=50, cmap='gray')"
   ]
  },
  {
   "cell_type": "code",
   "execution_count": null,
   "metadata": {},
   "outputs": [],
   "source": [
    "# you can also use the interactive viewer to scroll through slices on a given axis\n",
    "interactive_image_viewer(ct_image, window=400, level=50, axis=1, cmap='gray', origin='lower')"
   ]
  }
 ],
 "metadata": {
  "kernelspec": {
   "display_name": "ergalio",
   "language": "python",
   "name": "python3"
  },
  "language_info": {
   "codemirror_mode": {
    "name": "ipython",
    "version": 3
   },
   "file_extension": ".py",
   "mimetype": "text/x-python",
   "name": "python",
   "nbconvert_exporter": "python",
   "pygments_lexer": "ipython3",
   "version": "3.11.9"
  }
 },
 "nbformat": 4,
 "nbformat_minor": 2
}
