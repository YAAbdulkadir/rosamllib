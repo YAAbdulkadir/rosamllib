{
 "cells": [
  {
   "cell_type": "markdown",
   "metadata": {},
   "source": [
    "### Advanced DICOM Handling in Radiation Therapy Using **rosamllib**\n",
    "\n",
    "---\n",
    "\n",
    "### **Summary**:\n",
    "This tutorial introduces the **rosamllib** Python library, a tool designed for efficient and advanced handling of DICOM files in radiation therapy. It covers the following key features:\n",
    "\n",
    "1. **Installation**: Setting up the environment to use rosamllib.\n",
    "2. **DICOM Data Management**: Loading and querying DICOM datasets.\n",
    "3. **Visualization**: Interactive tools for image visualization and Dose-Volume Histogram (DVH) analysis.\n",
    "4. **Hands-on Examples**: Demonstrations with real DICOM datasets, showcasing the library’s capabilities.\n"
   ]
  },
  {
   "cell_type": "markdown",
   "metadata": {},
   "source": [
    "### Installation\n",
    "\n",
    "Before diving into the functionalities of **rosamllib**, ensure the library is installed and up-to-date. Use the command below to install the library:\n",
    "\n",
    "```python\n",
    "%pip install rosamllib --upgrade\n",
    "```\n",
    "This will install the library along with any dependencies required for its advanced DICOM handling features.\n",
    "\n",
    "#### Installing Graphviz\n",
    "\n",
    "To enable visualization of series references using **rosamllib**, the **Graphviz** software must be installed on your system. This is separate from the Python package and can be installed as follows:\n",
    "\n",
    "- **Windows**: \n",
    "  Download the installer from [Graphviz Download Page](https://graphviz.org/download/) and follow the installation instructions. Make sure to add Graphviz to your system PATH during installation.\n",
    "\n",
    "- **Linux**:\n",
    "  Use your package manager to install Graphviz:\n",
    "  ```bash\n",
    "  sudo apt-get install graphviz"
   ]
  },
  {
   "cell_type": "code",
   "execution_count": 1,
   "metadata": {},
   "outputs": [],
   "source": [
    "# %pip install rosamllib --upgrade"
   ]
  },
  {
   "cell_type": "markdown",
   "metadata": {},
   "source": [
    "### Library Imports and Initial Setup\n",
    "\n",
    "We start by importing the necessary libraries:\n",
    "\n",
    "- **rosamllib**: The main library for DICOM management and visualization.\n",
    "- **SimpleITK**: A library for medical image processing.\n",
    "- **matplotlib**: For plotting and visualization.\n",
    "- **pathlib**: To handle file and directory paths.\n",
    "\n",
    "Additionally, set the matplotlib plotting style for consistency:"
   ]
  },
  {
   "cell_type": "code",
   "execution_count": 2,
   "metadata": {},
   "outputs": [
    {
     "data": {
      "text/html": [
       "\n",
       "        <style>\n",
       "            .cell-output-ipywidget-background {\n",
       "                background-color: transparent !important;\n",
       "            }\n",
       "            :root {\n",
       "                --jp-widgets-color: var(--vscode-editor-foreground);\n",
       "                --jp-widgets-font-size: var(--vscode-editor-font-size);\n",
       "            } \n",
       "        </style>\n",
       "        "
      ],
      "text/plain": [
       "<IPython.core.display.HTML object>"
      ]
     },
     "metadata": {},
     "output_type": "display_data"
    },
    {
     "data": {
      "text/html": [
       "\n",
       "        <style>\n",
       "            .cell-output-ipywidget-background {\n",
       "                background-color: transparent !important;\n",
       "            }\n",
       "            :root {\n",
       "                --jp-widgets-color: var(--vscode-editor-foreground);\n",
       "                --jp-widgets-font-size: var(--vscode-editor-font-size);\n",
       "            } \n",
       "        </style>\n",
       "        "
      ],
      "text/plain": [
       "<IPython.core.display.HTML object>"
      ]
     },
     "metadata": {},
     "output_type": "display_data"
    },
    {
     "data": {
      "text/plain": [
       "'0.4.5'"
      ]
     },
     "execution_count": 2,
     "metadata": {},
     "output_type": "execute_result"
    }
   ],
   "source": [
    "import rosamllib\n",
    "import numpy as np\n",
    "import SimpleITK as sitk\n",
    "import matplotlib.pyplot as plt\n",
    "from rosamllib.readers import DICOMLoader\n",
    "from pathlib import Path\n",
    "from rosamllib.viewers import interactive_image_viewer, dvh_viewer\n",
    "plt.style.use('default')\n",
    "rosamllib.__version__"
   ]
  },
  {
   "cell_type": "markdown",
   "metadata": {},
   "source": [
    "### Defining the Data Path\n",
    "\n",
    "Set the path to the directory containing the DICOM datasets. Ensure the path is accessible, especially if it resides on a network-shared location:\n",
    "\n",
    "Modify this path as needed to point to your local or networked dataset."
   ]
  },
  {
   "cell_type": "code",
   "execution_count": 3,
   "metadata": {},
   "outputs": [],
   "source": [
    "data_path = Path(r\"D:\\GDP_Challenge_datasets\\Radiotherapy_HaN_Lung_AIRTP\\DICOM_data\")"
   ]
  },
  {
   "cell_type": "markdown",
   "metadata": {},
   "source": [
    "### Metadata Tags for Indexing\n",
    "\n",
    "Specify the DICOM tags to be indexed when loading the datasets. These tags help in querying and organizing the data efficiently:\n",
    "\n",
    "These tags capture essential metadata for radiotherapy planning and delivery datasets."
   ]
  },
  {
   "cell_type": "code",
   "execution_count": 4,
   "metadata": {},
   "outputs": [],
   "source": [
    "tags_to_index=[\n",
    "    \"StudyDate\", \n",
    "    \"StudyDescription\", \n",
    "    \"SeriesDate\", \n",
    "    \"SeriesDescription\", \n",
    "    \"BodyPartExamined\", \n",
    "    \"Manufacturer\", \n",
    "    \"ManufacturerModelName\", \n",
    "    \"InstitutionName\", \n",
    "    \"PhysiciansOfRecord\", \n",
    "    \"ReferringPhysicianName\", \n",
    "    \"OperatorsName\", \n",
    "    \"ImageOrientationPatient\", \n",
    "    \"ImagePositionPatient\",\n",
    "    \"SpacingBetweenSlices\", \n",
    "    \"RTPlanLabel\", \n",
    "    \"RTPlanDate\", \n",
    "    \"PlanIntent\", \n",
    "    \"TreatmentMachineName\", \n",
    "    \"ApprovalStatus\", \n",
    "    \"ReviewerName\", \n",
    "    ]"
   ]
  },
  {
   "cell_type": "markdown",
   "metadata": {},
   "source": [
    "### Loading the DICOM Data\n",
    "\n",
    "The **DICOMLoader** class in **rosamllib** provides robust capabilities for loading and organizing DICOM data. Initialize the loader with the data path and load the datasets with the specified tags.\n",
    "\n",
    "This step ensures that all relevant DICOM files are loaded into memory, indexed by the specified tags for easy access and querying."
   ]
  },
  {
   "cell_type": "code",
   "execution_count": 5,
   "metadata": {},
   "outputs": [
    {
     "data": {
      "application/vnd.jupyter.widget-view+json": {
       "model_id": "af9086cda3f74a9eac1ac09f06dda705",
       "version_major": 2,
       "version_minor": 0
      },
      "text/plain": [
       "Scanning directories: 0it [00:00, ?it/s]"
      ]
     },
     "metadata": {},
     "output_type": "display_data"
    },
    {
     "name": "stdout",
     "output_type": "stream",
     "text": [
      "Found 225859 files.\n"
     ]
    },
    {
     "data": {
      "application/vnd.jupyter.widget-view+json": {
       "model_id": "70d18fbaa56e4195bc0d848b4cb3b7da",
       "version_major": 2,
       "version_minor": 0
      },
      "text/plain": [
       "Loading DICOM files:   0%|          | 0/225859 [00:00<?, ?file/s]"
      ]
     },
     "metadata": {},
     "output_type": "display_data"
    }
   ],
   "source": [
    "loader = DICOMLoader(data_path)\n",
    "loader.load(tags_to_index)"
   ]
  },
  {
   "cell_type": "code",
   "execution_count": 6,
   "metadata": {},
   "outputs": [
    {
     "data": {
      "text/plain": [
       "{'total_patients': 1494,\n",
       " 'total_studies': 1494,\n",
       " 'total_series': 8506,\n",
       " 'total_instances': 225859}"
      ]
     },
     "execution_count": 6,
     "metadata": {},
     "output_type": "execute_result"
    }
   ],
   "source": [
    "# The `loader.get_summary()` method provides a concise overview of the loaded DICOM dataset.\n",
    "loader.get_summary()"
   ]
  },
  {
   "cell_type": "code",
   "execution_count": 7,
   "metadata": {},
   "outputs": [
    {
     "data": {
      "text/plain": [
       "{'CT': 1494, 'RTDOSE': 2759, 'RTPLAN': 2759, 'RTSTRUCT': 1494}"
      ]
     },
     "execution_count": 7,
     "metadata": {},
     "output_type": "execute_result"
    }
   ],
   "source": [
    "# The `loader.get_modality_distribution()` method displays the distribution of different imaging modalities (e.g., CT, MR, RTSTRUCT) in the dataset.\n",
    "loader.get_modality_distribution()"
   ]
  },
  {
   "cell_type": "code",
   "execution_count": 8,
   "metadata": {},
   "outputs": [],
   "source": [
    "# The`loader.get_patient_ids()` method retrieves all patient IDs in the loaded dataset. These IDs can be used for querying specific patient data or exploring series references.\n",
    "pt_ids = loader.get_patient_ids()"
   ]
  },
  {
   "cell_type": "markdown",
   "metadata": {},
   "source": [
    "### Visualizing Series References\n",
    "\n",
    "The **`loader.visualize_series_references()`** method provides a graphical view of the relationships between series for a given patient. This includes references such as:\n",
    "- RTSTRUCT → RTDOSE → RTPLAN.\n",
    "- CT and other imaging modalities linked by the Frame of Reference UID.\n",
    "\n",
    "This tool is especially useful for:\n",
    "* Understanding the linkages between various DICOM entities for a specific patient.\n",
    "* Verifying data completeness in radiotherapy workflows.\n",
    "The visualization simplifies navigating complex relationships in multi-modality DICOM datasets.\n",
    "\n",
    "Tip: To learn more about this method or any other method in rosamllib, use the help function in Jupyter:\n",
    "```python\n",
    "help(loader.visualize_series_references)\n",
    "```\n",
    "This command displays the method's documentation, including details about its parameters and usage"
   ]
  },
  {
   "cell_type": "code",
   "execution_count": 28,
   "metadata": {},
   "outputs": [],
   "source": [
    "indx = -1"
   ]
  },
  {
   "cell_type": "code",
   "execution_count": 29,
   "metadata": {},
   "outputs": [
    {
     "name": "stdout",
     "output_type": "stream",
     "text": [
      "0\n"
     ]
    },
    {
     "data": {
      "image/svg+xml": [
       "<svg xmlns=\"http://www.w3.org/2000/svg\" xmlns:xlink=\"http://www.w3.org/1999/xlink\" width=\"532pt\" height=\"358pt\" viewBox=\"0.00 0.00 532.00 357.50\">\n",
       "<g id=\"graph0\" class=\"graph\" transform=\"scale(1 1) rotate(0) translate(4 353.5)\">\n",
       "<polygon fill=\"white\" stroke=\"none\" points=\"-4,4 -4,-353.5 528,-353.5 528,4 -4,4\"/>\n",
       "<g id=\"clust1\" class=\"cluster\">\n",
       "<title>cluster_1.3.6.1.4.1.22213.2.26555</title>\n",
       "<polygon fill=\"honeydew\" stroke=\"black\" points=\"8,-8 8,-300.5 516,-300.5 516,-8 8,-8\"/>\n",
       "<text text-anchor=\"middle\" x=\"262\" y=\"-283.2\" font-family=\"Times New Roman,serif\" font-size=\"14.00\">StudyDescription: None</text>\n",
       "</g>\n",
       "<!-- 0522c0001 -->\n",
       "<g id=\"node1\" class=\"node\">\n",
       "<title>0522c0001</title>\n",
       "<polygon fill=\"dodgerblue\" stroke=\"black\" points=\"331.5,-349.5 192.5,-349.5 192.5,-308.5 331.5,-308.5 331.5,-349.5\"/>\n",
       "<text text-anchor=\"middle\" x=\"262\" y=\"-332.2\" font-family=\"Times New Roman,serif\" font-size=\"14.00\">Patient ID: 0522c0001</text>\n",
       "<text text-anchor=\"middle\" x=\"262\" y=\"-315.7\" font-family=\"Times New Roman,serif\" font-size=\"14.00\">0522c0001</text>\n",
       "</g>\n",
       "<!-- 1.3.6.1.4.1.22213.2.26555.2 -->\n",
       "<g id=\"node2\" class=\"node\">\n",
       "<title>1.3.6.1.4.1.22213.2.26555.2</title>\n",
       "<polygon fill=\"lightsteelblue\" stroke=\"black\" points=\"352.5,-268 171.5,-268 171.5,-232 352.5,-232 352.5,-268\"/>\n",
       "<text text-anchor=\"middle\" x=\"262\" y=\"-244.95\" font-family=\"Times New Roman,serif\" font-size=\"14.00\">CT: CTs from rtog conversion</text>\n",
       "</g>\n",
       "<!-- 1.3.6.1.4.1.22213.2.26555.2&#45;&gt;0522c0001 -->\n",
       "<!-- 1.2.246.352.71.7.413130124983.224673.20241114190315 -->\n",
       "<g id=\"node3\" class=\"node\">\n",
       "<title>1.2.246.352.71.7.413130124983.224673.20241114190315</title>\n",
       "<polygon fill=\"lightpink\" stroke=\"black\" points=\"167.88,-52 16.12,-52 16.12,-16 167.88,-16 167.88,-52\"/>\n",
       "<text text-anchor=\"middle\" x=\"92\" y=\"-28.95\" font-family=\"Times New Roman,serif\" font-size=\"14.00\">RTDOSE: Eclipse Doses</text>\n",
       "</g>\n",
       "<!-- 1.2.246.352.71.5.413130124983.235208.20241114185423 -->\n",
       "<g id=\"node6\" class=\"node\">\n",
       "<title>1.2.246.352.71.5.413130124983.235208.20241114185423</title>\n",
       "<polygon fill=\"lightgoldenrodyellow\" stroke=\"black\" points=\"168,-124 50,-124 50,-88 168,-88 168,-124\"/>\n",
       "<text text-anchor=\"middle\" x=\"109\" y=\"-100.95\" font-family=\"Times New Roman,serif\" font-size=\"14.00\">RTPLAN: A4AcI1</text>\n",
       "</g>\n",
       "<!-- 1.2.246.352.71.7.413130124983.224673.20241114190315&#45;&gt;1.2.246.352.71.5.413130124983.235208.20241114185423 -->\n",
       "<g id=\"edge1\" class=\"edge\">\n",
       "<title>1.2.246.352.71.7.413130124983.224673.20241114190315-&gt;1.2.246.352.71.5.413130124983.235208.20241114185423</title>\n",
       "<path fill=\"none\" stroke=\"black\" d=\"M96.2,-52.3C97.99,-59.68 100.13,-68.48 102.14,-76.75\"/>\n",
       "<polygon fill=\"black\" stroke=\"black\" points=\"98.73,-77.53 104.49,-86.42 105.53,-75.88 98.73,-77.53\"/>\n",
       "</g>\n",
       "<!-- 1.2.246.352.71.7.413130124983.227713.20241118151901 -->\n",
       "<g id=\"node4\" class=\"node\">\n",
       "<title>1.2.246.352.71.7.413130124983.227713.20241118151901</title>\n",
       "<polygon fill=\"lightpink\" stroke=\"black\" points=\"337.88,-52 186.12,-52 186.12,-16 337.88,-16 337.88,-52\"/>\n",
       "<text text-anchor=\"middle\" x=\"262\" y=\"-28.95\" font-family=\"Times New Roman,serif\" font-size=\"14.00\">RTDOSE: Eclipse Doses</text>\n",
       "</g>\n",
       "<!-- 1.2.246.352.71.5.413130124983.245843.20241118151659 -->\n",
       "<g id=\"node7\" class=\"node\">\n",
       "<title>1.2.246.352.71.5.413130124983.245843.20241118151659</title>\n",
       "<polygon fill=\"lightgoldenrodyellow\" stroke=\"black\" points=\"320.25,-124 203.75,-124 203.75,-88 320.25,-88 320.25,-124\"/>\n",
       "<text text-anchor=\"middle\" x=\"262\" y=\"-100.95\" font-family=\"Times New Roman,serif\" font-size=\"14.00\">RTPLAN: 15AgI1</text>\n",
       "</g>\n",
       "<!-- 1.2.246.352.71.7.413130124983.227713.20241118151901&#45;&gt;1.2.246.352.71.5.413130124983.245843.20241118151659 -->\n",
       "<g id=\"edge2\" class=\"edge\">\n",
       "<title>1.2.246.352.71.7.413130124983.227713.20241118151901-&gt;1.2.246.352.71.5.413130124983.245843.20241118151659</title>\n",
       "<path fill=\"none\" stroke=\"black\" d=\"M262,-52.3C262,-59.59 262,-68.27 262,-76.46\"/>\n",
       "<polygon fill=\"black\" stroke=\"black\" points=\"258.5,-76.38 262,-86.38 265.5,-76.38 258.5,-76.38\"/>\n",
       "</g>\n",
       "<!-- 1.2.246.352.71.7.413130124983.227721.20241118152107 -->\n",
       "<g id=\"node5\" class=\"node\">\n",
       "<title>1.2.246.352.71.7.413130124983.227721.20241118152107</title>\n",
       "<polygon fill=\"lightpink\" stroke=\"black\" points=\"507.88,-52 356.12,-52 356.12,-16 507.88,-16 507.88,-52\"/>\n",
       "<text text-anchor=\"middle\" x=\"432\" y=\"-28.95\" font-family=\"Times New Roman,serif\" font-size=\"14.00\">RTDOSE: Eclipse Doses</text>\n",
       "</g>\n",
       "<!-- 1.2.246.352.71.5.413130124983.245876.20241118151921 -->\n",
       "<g id=\"node8\" class=\"node\">\n",
       "<title>1.2.246.352.71.5.413130124983.245876.20241118151921</title>\n",
       "<polygon fill=\"lightgoldenrodyellow\" stroke=\"black\" points=\"462.5,-124 359.5,-124 359.5,-88 462.5,-88 462.5,-124\"/>\n",
       "<text text-anchor=\"middle\" x=\"411\" y=\"-100.95\" font-family=\"Times New Roman,serif\" font-size=\"14.00\">RTPLAN: 9AgI</text>\n",
       "</g>\n",
       "<!-- 1.2.246.352.71.7.413130124983.227721.20241118152107&#45;&gt;1.2.246.352.71.5.413130124983.245876.20241118151921 -->\n",
       "<g id=\"edge3\" class=\"edge\">\n",
       "<title>1.2.246.352.71.7.413130124983.227721.20241118152107-&gt;1.2.246.352.71.5.413130124983.245876.20241118151921</title>\n",
       "<path fill=\"none\" stroke=\"black\" d=\"M426.81,-52.3C424.57,-59.76 421.9,-68.68 419.39,-77.03\"/>\n",
       "<polygon fill=\"black\" stroke=\"black\" points=\"416.09,-75.86 416.57,-86.45 422.79,-77.87 416.09,-75.86\"/>\n",
       "</g>\n",
       "<!-- 1.2.276.0.7230010.3.1.4.2836367763.1540.1729193423.833 -->\n",
       "<g id=\"node9\" class=\"node\">\n",
       "<title>1.2.276.0.7230010.3.1.4.2836367763.1540.1729193423.833</title>\n",
       "<polygon fill=\"navajowhite\" stroke=\"black\" points=\"406.5,-196 117.5,-196 117.5,-160 406.5,-160 406.5,-196\"/>\n",
       "<text text-anchor=\"middle\" x=\"262\" y=\"-172.95\" font-family=\"Times New Roman,serif\" font-size=\"14.00\">RTSTRUCT: MultiOrganSegmentation Structures</text>\n",
       "</g>\n",
       "<!-- 1.2.246.352.71.5.413130124983.235208.20241114185423&#45;&gt;1.2.276.0.7230010.3.1.4.2836367763.1540.1729193423.833 -->\n",
       "<g id=\"edge4\" class=\"edge\">\n",
       "<title>1.2.246.352.71.5.413130124983.235208.20241114185423-&gt;1.2.276.0.7230010.3.1.4.2836367763.1540.1729193423.833</title>\n",
       "<path fill=\"none\" stroke=\"black\" d=\"M147.21,-124.48C167.37,-133.71 192.31,-145.11 213.78,-154.94\"/>\n",
       "<polygon fill=\"black\" stroke=\"black\" points=\"212.08,-158.01 222.63,-158.99 214.99,-151.65 212.08,-158.01\"/>\n",
       "</g>\n",
       "<!-- 1.2.246.352.71.5.413130124983.245843.20241118151659&#45;&gt;1.2.276.0.7230010.3.1.4.2836367763.1540.1729193423.833 -->\n",
       "<g id=\"edge5\" class=\"edge\">\n",
       "<title>1.2.246.352.71.5.413130124983.245843.20241118151659-&gt;1.2.276.0.7230010.3.1.4.2836367763.1540.1729193423.833</title>\n",
       "<path fill=\"none\" stroke=\"black\" d=\"M262,-124.3C262,-131.59 262,-140.27 262,-148.46\"/>\n",
       "<polygon fill=\"black\" stroke=\"black\" points=\"258.5,-148.38 262,-158.38 265.5,-148.38 258.5,-148.38\"/>\n",
       "</g>\n",
       "<!-- 1.2.246.352.71.5.413130124983.245876.20241118151921&#45;&gt;1.2.276.0.7230010.3.1.4.2836367763.1540.1729193423.833 -->\n",
       "<g id=\"edge6\" class=\"edge\">\n",
       "<title>1.2.246.352.71.5.413130124983.245876.20241118151921-&gt;1.2.276.0.7230010.3.1.4.2836367763.1540.1729193423.833</title>\n",
       "<path fill=\"none\" stroke=\"black\" d=\"M373.79,-124.48C354.24,-133.66 330.09,-145.01 309.24,-154.8\"/>\n",
       "<polygon fill=\"black\" stroke=\"black\" points=\"307.93,-151.55 300.37,-158.97 310.91,-157.89 307.93,-151.55\"/>\n",
       "</g>\n",
       "<!-- 1.2.276.0.7230010.3.1.4.2836367763.1540.1729193423.833&#45;&gt;1.3.6.1.4.1.22213.2.26555.2 -->\n",
       "<g id=\"edge7\" class=\"edge\">\n",
       "<title>1.2.276.0.7230010.3.1.4.2836367763.1540.1729193423.833-&gt;1.3.6.1.4.1.22213.2.26555.2</title>\n",
       "<path fill=\"none\" stroke=\"black\" d=\"M262,-196.3C262,-203.59 262,-212.27 262,-220.46\"/>\n",
       "<polygon fill=\"black\" stroke=\"black\" points=\"258.5,-220.38 262,-230.38 265.5,-220.38 258.5,-220.38\"/>\n",
       "</g>\n",
       "</g>\n",
       "</svg>"
      ],
      "text/plain": [
       "<IPython.core.display.SVG object>"
      ]
     },
     "metadata": {},
     "output_type": "display_data"
    }
   ],
   "source": [
    "indx += 1\n",
    "print(indx) \n",
    "# visualize series references for a given patient\n",
    "loader.visualize_series_references(patient_id=pt_ids[indx], include_uid=False)"
   ]
  },
  {
   "cell_type": "markdown",
   "metadata": {},
   "source": [
    "### Extracting Series and Referenced Data for a Patient\n",
    "\n",
    "To access series and associated referenced data for a specific patient, we now use the generalized utility functions:\n",
    "\n",
    "#### Key Functions:\n",
    "- `DICOMLoader.get_nodes_for_patient(patient_node, level, modality=None)`: Retrieves nodes (Study, Series, or Instance) under a patient, filtered by level and optionally modality.\n",
    "- `DICOMLoader.get_referenced_nodes(node, modality, level, recursive=True)`: Retrieves directly or indirectly referenced nodes of a given type and modality from any instance or series node.\n",
    "- `loader.read_series(SeriesInstanceUID)`: Reads a DICOM series and returns one or more associated objects.\n",
    "- `loader.read_instance(SOPInstanceUID)`: Reads a single DICOM instance (e.g., RTSTRUCT, RTDOSE, RTPLAN).\n"
   ]
  },
  {
   "cell_type": "code",
   "execution_count": 30,
   "metadata": {},
   "outputs": [
    {
     "data": {
      "text/plain": [
       "[SeriesNode(SeriesInstanceUID='1.3.6.1.4.1.22213.2.26555.2', Modality='CT', SeriesDescription='CTs from rtog conversion', NumInstances=107),\n",
       " SeriesNode(SeriesInstanceUID='1.2.246.352.71.2.413130124983.264841.20241114185421', Modality='RTDOSE', SeriesDescription='Eclipse Doses', NumInstances=1),\n",
       " SeriesNode(SeriesInstanceUID='1.2.246.352.71.2.413130124983.284001.20241118151657', Modality='RTDOSE', SeriesDescription='Eclipse Doses', NumInstances=1),\n",
       " SeriesNode(SeriesInstanceUID='1.2.246.352.71.2.413130124983.284037.20241118151920', Modality='RTDOSE', SeriesDescription='Eclipse Doses', NumInstances=1),\n",
       " SeriesNode(SeriesInstanceUID='1.2.246.352.71.2.413130124983.264840.20241114185418', Modality='RTPLAN', SeriesDescription='A4AcI1', NumInstances=1),\n",
       " SeriesNode(SeriesInstanceUID='1.2.246.352.71.2.413130124983.284000.20241118151648', Modality='RTPLAN', SeriesDescription='15AgI1', NumInstances=1),\n",
       " SeriesNode(SeriesInstanceUID='1.2.246.352.71.2.413130124983.284036.20241118151920', Modality='RTPLAN', SeriesDescription='9AgI', NumInstances=1),\n",
       " SeriesNode(SeriesInstanceUID='1.2.276.0.7230010.3.1.3.2836367763.1540.1729193423.834', Modality='RTSTRUCT', SeriesDescription='MultiOrganSegmentation Structures', NumInstances=1)]"
      ]
     },
     "execution_count": 30,
     "metadata": {},
     "output_type": "execute_result"
    }
   ],
   "source": [
    "# Get a patient node\n",
    "patient_node = loader.get_patient(pt_ids[indx])\n",
    "\n",
    "# Get all series for this patient\n",
    "all_series = DICOMLoader.get_nodes_for_patient(patient_node, level=\"SERIES\")\n",
    "all_series"
   ]
  },
  {
   "cell_type": "code",
   "execution_count": 31,
   "metadata": {},
   "outputs": [],
   "source": [
    "# Get all RTDOSE instances and pick the first one\n",
    "doses = DICOMLoader.get_nodes_for_patient(patient_node, level=\"INSTANCE\", modality=\"RTDOSE\")\n",
    "dose0 = doses[0]\n",
    "\n",
    "# Recursively find the CT, RTSTRUCT, and RTPLAN referenced by this RTDOSE\n",
    "ref_ct = DICOMLoader.get_referenced_nodes(dose0, modality=\"CT\", level=\"SERIES\", recursive=True)[0]\n",
    "ref_struct = DICOMLoader.get_referenced_nodes(dose0, modality=\"RTSTRUCT\", level=\"INSTANCE\", recursive=True)[0]\n",
    "ref_plan = DICOMLoader.get_referenced_nodes(dose0, modality=\"RTPLAN\", level=\"INSTANCE\", recursive=True)[0]"
   ]
  },
  {
   "cell_type": "code",
   "execution_count": 32,
   "metadata": {},
   "outputs": [],
   "source": [
    "# Read the CT, the RTDose, RTStruct and RTPlan\n",
    "ct_image = loader.read_series(ref_ct.SeriesInstanceUID)[0]\n",
    "dose = loader.read_instance(dose0.SOPInstanceUID)\n",
    "rtstruct = loader.read_instance(ref_struct.SOPInstanceUID)\n",
    "rtplan = loader.read_instance(ref_plan.SOPInstanceUID)"
   ]
  },
  {
   "cell_type": "markdown",
   "metadata": {},
   "source": [
    "### Resampling the Dose to CT Image Grid\n",
    "\n",
    "The dose distribution often needs to be resampled to match the CT image grid for accurate overlay and analysis.\n",
    "\n",
    "Explanation:\n",
    "* `dose.resample_dose_to_image_grid(ct_image)`: Aligns the dose grid with the spatial resolution and orientation of the CT image.\n",
    "* `res_dose.get_dose_array()`: Extracts the dose values as a NumPy array for further processing or visualization.\n",
    "This step ensures consistency between dose and image data for visualization and analysis."
   ]
  },
  {
   "cell_type": "code",
   "execution_count": 33,
   "metadata": {},
   "outputs": [],
   "source": [
    "# resample the dose to the ct image grid\n",
    "res_dose = dose.resample_dose_to_image_grid(ct_image)\n",
    "res_dose_array = res_dose.get_dose_array()"
   ]
  },
  {
   "cell_type": "markdown",
   "metadata": {},
   "source": [
    "### Extracting Structure Masks\n",
    "\n",
    "To visualize ROIs, we extract structure masks from the RTSTRUCT and align them with the CT image grid.\n",
    "\n",
    "Explanation:\n",
    "\n",
    "* `rtstruct.set_referenced_image(ct_image)`: Links the RTSTRUCT to the CT image for proper spatial alignment.\n",
    "* `rtstruct.get_structure_names()`: Retrieves the names of all structures in the RTSTRUCT.\n",
    "* `rtstruct.get_structure_mask(structure)`: Extracts the binary mask for each structure.\n",
    "* `rtstruct.get_structure_color(structure)`: Retrieves the color assigned to each structure.\n",
    "\n",
    "The resulting `structure_masks` dictionary contains:\n",
    "\n",
    "* `mask`: Binary mask as a NumPy array (1 for the structure, 0 for the background).\n",
    "* `color`: The assigned visualization color."
   ]
  },
  {
   "cell_type": "code",
   "execution_count": 35,
   "metadata": {},
   "outputs": [],
   "source": [
    "# get the structure masks as numpy array for all structures in the rtstruct\n",
    "rtstruct.set_referenced_image(ct_image)\n",
    "structures = rtstruct.get_structure_names()\n",
    "structure_masks = {}\n",
    "for structure in structures:\n",
    "    structure_masks[structure] = {\"mask\": sitk.GetArrayFromImage(rtstruct.get_structure_mask(structure)),\n",
    "                                  \"color\": rtstruct.get_structure_color(structure)}"
   ]
  },
  {
   "cell_type": "markdown",
   "metadata": {},
   "source": [
    "### Visualizing the CT Image with Structures and Dose Overlay\n",
    "\n",
    "Finally, we use the `interactive_image_viewer` function to visualize the CT image, structure masks, and dose distribution."
   ]
  },
  {
   "cell_type": "code",
   "execution_count": 38,
   "metadata": {},
   "outputs": [
    {
     "data": {
      "application/vnd.jupyter.widget-view+json": {
       "model_id": "cb4e5bdef9cc4f3ca169e62ae5e67877",
       "version_major": 2,
       "version_minor": 0
      },
      "text/plain": [
       "IntSlider(value=256, description='Slice', max=511)"
      ]
     },
     "metadata": {},
     "output_type": "display_data"
    },
    {
     "data": {
      "application/vnd.jupyter.widget-view+json": {
       "model_id": "4d3f77b4339b458f98c5c0ca23e4d549",
       "version_major": 2,
       "version_minor": 0
      },
      "text/plain": [
       "VBox(children=(HBox(children=(VBox(children=(Output(),)), GridBox(children=(HTML(value=\"<div style='width: 15p…"
      ]
     },
     "metadata": {},
     "output_type": "display_data"
    }
   ],
   "source": [
    "# use the interactive image viewer function to visualize the ct image with all the structures and the dose distribution overlayed\n",
    "ct_image_array = sitk.GetArrayFromImage(ct_image)\n",
    "interactive_image_viewer(ct_image, masks=structure_masks, dose_array=res_dose_array, dose_units=res_dose.DoseUnits, cmap='grey', axis=2, origin='lower')"
   ]
  },
  {
   "cell_type": "markdown",
   "metadata": {},
   "source": [
    "### Preparing Structure Masks for DVH Visualization\n",
    "\n",
    "To compute and visualize Dose-Volume Histograms (DVHs), structure masks must be in SimpleITK image format. The following code prepares these masks.\n",
    "\n",
    "Explanation:\n",
    "* `rtstruct.get_structure_mask(structure)`: Retrieves the binary mask for each structure as a SimpleITK image.\n",
    "* `structure_masks_dvh`: A dictionary with structure names as keys and corresponding masks as values.\n",
    "\n",
    "This format is essential for accurate DVH calculations, as it retains spatial and geometric information.\n"
   ]
  },
  {
   "cell_type": "code",
   "execution_count": 39,
   "metadata": {},
   "outputs": [],
   "source": [
    "# get the structure masks in SimpleITK image format for DVH visualizations\n",
    "structure_masks_dvh = {}\n",
    "for structure in structures:\n",
    "    structure_masks_dvh[structure] = rtstruct.get_structure_mask(structure)"
   ]
  },
  {
   "cell_type": "markdown",
   "metadata": {},
   "source": [
    "### Visualizing Dose-Volume Histograms (DVHs)\n",
    "\n",
    "The `dvh_viewer` function in **rosamllib** provides an interactive way to visualize DVHs for multiple structures. The following example demonstrates its usage:\n"
   ]
  },
  {
   "cell_type": "code",
   "execution_count": 42,
   "metadata": {},
   "outputs": [],
   "source": [
    "# visualize the DVHs\n",
    "prescription_dose = rtplan.plan_dataset.DoseReferenceSequence[0].TargetPrescriptionDose\n",
    "dvh_viewer(res_dose, structure_masks_dvh, prescription_dose=prescription_dose, bin_width=0.01, template=\"seaborn\")"
   ]
  },
  {
   "cell_type": "markdown",
   "metadata": {},
   "source": [
    "### Filtering Approved Plans Since 2015 (Excluding Boost Plans)\n",
    "\n",
    "The `loader.query` method allows filtering datasets based on various criteria. In this example, we filter for:\n",
    "- **Modality**: RTPLAN.\n",
    "- **Study Date**: On or after January 1, 2015.\n",
    "- **Approval Status**: Approved plans only.\n",
    "- **RT Plan Label**: Excludes plans starting with \"B\" or \"b\" using a regular expression.\n",
    "\n",
    "Explanation:\n",
    "\n",
    "* `query_level`: Specifies the granularity of the query (INSTANCE level retrieves individual instances).\n",
    "* `StudyDate`: Filters for plans created on or after January 1, 2015 (gte means \"greater than or equal to\").\n",
    "* `RTPlanLabel`: Uses a RegEx to exclude plan labels beginning with \"B\" or \"b\".\n",
    "\n",
    "**Output**: The result is a Pandas DataFrame containing RT Plans that match the criteria. Use .head() to view the first few rows for validation.\n",
    "\n",
    "Tip: To explore more about the query method, run:\n",
    "```python\n",
    "help(loader.query)\n",
    "```\n",
    "\n",
    "The filter is applied as follows:"
   ]
  },
  {
   "cell_type": "code",
   "execution_count": 53,
   "metadata": {},
   "outputs": [
    {
     "data": {
      "text/html": [
       "<div>\n",
       "<style scoped>\n",
       "    .dataframe tbody tr th:only-of-type {\n",
       "        vertical-align: middle;\n",
       "    }\n",
       "\n",
       "    .dataframe tbody tr th {\n",
       "        vertical-align: top;\n",
       "    }\n",
       "\n",
       "    .dataframe thead th {\n",
       "        text-align: right;\n",
       "    }\n",
       "</style>\n",
       "<table border=\"1\" class=\"dataframe\">\n",
       "  <thead>\n",
       "    <tr style=\"text-align: right;\">\n",
       "      <th></th>\n",
       "      <th>SOPInstanceUID</th>\n",
       "      <th>RTPlanLabel</th>\n",
       "      <th>Modality</th>\n",
       "      <th>PatientID</th>\n",
       "      <th>SeriesInstanceUID</th>\n",
       "      <th>StudyDate</th>\n",
       "      <th>StudyInstanceUID</th>\n",
       "    </tr>\n",
       "  </thead>\n",
       "  <tbody>\n",
       "    <tr>\n",
       "      <th>0</th>\n",
       "      <td>1.2.246.352.71.5.413130124983.235268.202411142...</td>\n",
       "      <td>A4AcI1</td>\n",
       "      <td>RTPLAN</td>\n",
       "      <td>0522c0014</td>\n",
       "      <td>1.2.246.352.71.2.413130124983.264900.202411142...</td>\n",
       "      <td>2000-01-09</td>\n",
       "      <td>1.3.6.1.4.1.22213.2.26561</td>\n",
       "    </tr>\n",
       "    <tr>\n",
       "      <th>1</th>\n",
       "      <td>1.2.246.352.71.5.413130124983.246456.202411181...</td>\n",
       "      <td>15AgI</td>\n",
       "      <td>RTPLAN</td>\n",
       "      <td>0522c0014</td>\n",
       "      <td>1.2.246.352.71.2.413130124983.285136.202411181...</td>\n",
       "      <td>2000-01-09</td>\n",
       "      <td>1.3.6.1.4.1.22213.2.26561</td>\n",
       "    </tr>\n",
       "    <tr>\n",
       "      <th>2</th>\n",
       "      <td>1.2.246.352.71.5.413130124983.246532.202411181...</td>\n",
       "      <td>9AgI1</td>\n",
       "      <td>RTPLAN</td>\n",
       "      <td>0522c0014</td>\n",
       "      <td>1.2.246.352.71.2.413130124983.285278.202411181...</td>\n",
       "      <td>2000-01-09</td>\n",
       "      <td>1.3.6.1.4.1.22213.2.26561</td>\n",
       "    </tr>\n",
       "    <tr>\n",
       "      <th>3</th>\n",
       "      <td>1.2.246.352.71.5.413130124983.235278.202411142...</td>\n",
       "      <td>A4AcI1</td>\n",
       "      <td>RTPLAN</td>\n",
       "      <td>0522c0017</td>\n",
       "      <td>1.2.246.352.71.2.413130124983.264910.202411142...</td>\n",
       "      <td>2000-01-11</td>\n",
       "      <td>1.3.6.1.4.1.22213.2.26563</td>\n",
       "    </tr>\n",
       "    <tr>\n",
       "      <th>4</th>\n",
       "      <td>1.2.246.352.71.5.413130124983.246583.202411181...</td>\n",
       "      <td>15AgI1</td>\n",
       "      <td>RTPLAN</td>\n",
       "      <td>0522c0017</td>\n",
       "      <td>1.2.246.352.71.2.413130124983.285350.202411181...</td>\n",
       "      <td>2000-01-11</td>\n",
       "      <td>1.3.6.1.4.1.22213.2.26563</td>\n",
       "    </tr>\n",
       "  </tbody>\n",
       "</table>\n",
       "</div>"
      ],
      "text/plain": [
       "                                      SOPInstanceUID RTPlanLabel Modality  \\\n",
       "0  1.2.246.352.71.5.413130124983.235268.202411142...      A4AcI1   RTPLAN   \n",
       "1  1.2.246.352.71.5.413130124983.246456.202411181...       15AgI   RTPLAN   \n",
       "2  1.2.246.352.71.5.413130124983.246532.202411181...       9AgI1   RTPLAN   \n",
       "3  1.2.246.352.71.5.413130124983.235278.202411142...      A4AcI1   RTPLAN   \n",
       "4  1.2.246.352.71.5.413130124983.246583.202411181...      15AgI1   RTPLAN   \n",
       "\n",
       "   PatientID                                  SeriesInstanceUID  StudyDate  \\\n",
       "0  0522c0014  1.2.246.352.71.2.413130124983.264900.202411142... 2000-01-09   \n",
       "1  0522c0014  1.2.246.352.71.2.413130124983.285136.202411181... 2000-01-09   \n",
       "2  0522c0014  1.2.246.352.71.2.413130124983.285278.202411181... 2000-01-09   \n",
       "3  0522c0017  1.2.246.352.71.2.413130124983.264910.202411142... 2000-01-11   \n",
       "4  0522c0017  1.2.246.352.71.2.413130124983.285350.202411181... 2000-01-11   \n",
       "\n",
       "            StudyInstanceUID  \n",
       "0  1.3.6.1.4.1.22213.2.26561  \n",
       "1  1.3.6.1.4.1.22213.2.26561  \n",
       "2  1.3.6.1.4.1.22213.2.26561  \n",
       "3  1.3.6.1.4.1.22213.2.26563  \n",
       "4  1.3.6.1.4.1.22213.2.26563  "
      ]
     },
     "execution_count": 53,
     "metadata": {},
     "output_type": "execute_result"
    }
   ],
   "source": [
    "# filter for approved plans since 2015 that are not boost plans\n",
    "# to get more information on how to use the query method, run help(loader.query)\n",
    "filters = {\n",
    "    \"Modality\": \"RTPLAN\", \n",
    "    \"StudyDate\": \"*\",\n",
    "    \"StudyDate\": {\"gte\":\"2000-01-01\"}, \n",
    "    # \"ApprovalStatus\":\"APPROVED\", \n",
    "    \"RTPlanLabel\":{\"RegEx\": r\"^(?![bB]).*\"}, # uses regular expression to filter out b* and B*\n",
    "    }\n",
    "filtered_df = loader.query(query_level=\"INSTANCE\", **filters)\n",
    "filtered_df.head()"
   ]
  },
  {
   "cell_type": "markdown",
   "metadata": {},
   "source": [
    "### Visualizing RT Plan Creation Trends by Year\n",
    "\n",
    "To understand trends in RT Plan creation over time, group the filtered DataFrame by year and visualize the yearly counts using a bar chart:\n"
   ]
  },
  {
   "cell_type": "code",
   "execution_count": 54,
   "metadata": {},
   "outputs": [
    {
     "data": {
      "image/png": "[encoded data removed]",
      "text/plain": [
       "<Figure size 1200x600 with 1 Axes>"
      ]
     },
     "metadata": {},
     "output_type": "display_data"
    }
   ],
   "source": [
    "# plot the yearly plan counts\n",
    "yearly_plan_counts = filtered_df.groupby(filtered_df[\"StudyDate\"].dt.year).size()\n",
    "plt.figure(figsize=(12,6))\n",
    "plt.bar(yearly_plan_counts.index, yearly_plan_counts.values, color=\"skyblue\", edgecolor=\"black\")\n",
    "plt.title(\"RT Plan Creation Trend by Year\", fontsize=14)\n",
    "plt.xlabel(\"Year\", fontsize=12)\n",
    "plt.ylabel(\"Number of Plans\", fontsize=12)\n",
    "plt.grid(axis=\"y\", linestyle=\"--\", alpha=0.7)\n",
    "plt.xticks(yearly_plan_counts.index, rotation=45)\n",
    "plt.tight_layout()\n",
    "plt.show()"
   ]
  },
  {
   "cell_type": "code",
   "execution_count": null,
   "metadata": {},
   "outputs": [],
   "source": []
  }
 ],
 "metadata": {
  "kernelspec": {
   "display_name": "ergalio",
   "language": "python",
   "name": "python3"
  },
  "language_info": {
   "codemirror_mode": {
    "name": "ipython",
    "version": 3
   },
   "file_extension": ".py",
   "mimetype": "text/x-python",
   "name": "python",
   "nbconvert_exporter": "python",
   "pygments_lexer": "ipython3",
   "version": "3.11.9"
  }
 },
 "nbformat": 4,
 "nbformat_minor": 4
}
