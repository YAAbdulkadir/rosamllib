{
 "cells": [
  {
   "cell_type": "code",
   "execution_count": 1,
   "metadata": {},
   "outputs": [],
   "source": [
    "import numpy as np\n",
    "import SimpleITK as sitk\n",
    "import matplotlib.pyplot as plt\n",
    "from pathlib import Path\n",
    "from rosamllib.readers import DICOMImageReader, REGReader\n",
    "from rosamllib.registration import ImageRegistration\n",
    "from rosamllib.viewers import visualize_fusion, interactive_image_viewer\n",
    "from rosamllib.readers import DICOMLoader\n",
    "# %matplotlib widget\n",
    "# %matplotlib inline"
   ]
  },
  {
   "cell_type": "code",
   "execution_count": 2,
   "metadata": {},
   "outputs": [],
   "source": [
    "ct_path = r\"C:\\Users\\yabdulkadir\\Box\\debugging_02_20_2025\\CT.2.16.840.1.114362.1.6.6.5.16628.10016070767.481419547.381.5\"\n",
    "cbct_path = r\"C:\\Users\\yabdulkadir\\Box\\debugging_02_20_2025\\2018-04-23\\CBCT.1.2.246.352.62.2.4865292173510488370.4940580856509997236\"\n",
    "reg_path = r\"C:\\Users\\yabdulkadir\\Box\\debugging_02_20_2025\\2018-04-23\\REG.1.2.246.352.62.5.5528070767293797374.15043424007885100688.dcm\""
   ]
  },
  {
   "cell_type": "code",
   "execution_count": 3,
   "metadata": {},
   "outputs": [
    {
     "name": "stderr",
     "output_type": "stream",
     "text": [
      "Scanning directories: 18it [00:00, 5009.12it/s]\n"
     ]
    },
    {
     "name": "stdout",
     "output_type": "stream",
     "text": [
      "Found 639 files.\n"
     ]
    },
    {
     "name": "stderr",
     "output_type": "stream",
     "text": [
      "Loading DICOM files: 100%|██████████| 639/639 [00:01<00:00, 393.04file/s]\n"
     ]
    }
   ],
   "source": [
    "path = Path(r\"C:\\Users\\yabdulkadir\\Desktop\\open_source\\Registration\\test_files\")\n",
    "loader = DICOMLoader(path)\n",
    "loader.load()"
   ]
  },
  {
   "cell_type": "code",
   "execution_count": 4,
   "metadata": {},
   "outputs": [
    {
     "data": {
      "text/plain": [
       "{'total_patients': 2,\n",
       " 'total_studies': 4,\n",
       " 'total_series': 11,\n",
       " 'total_instances': 636}"
      ]
     },
     "execution_count": 4,
     "metadata": {},
     "output_type": "execute_result"
    }
   ],
   "source": [
    "loader.get_summary()"
   ]
  },
  {
   "cell_type": "code",
   "execution_count": 5,
   "metadata": {},
   "outputs": [],
   "source": [
    "pids = loader.get_patient_ids()"
   ]
  },
  {
   "cell_type": "code",
   "execution_count": 16,
   "metadata": {},
   "outputs": [
    {
     "data": {
      "text/plain": [
       "{'PT': 1, 'CT': 2, 'RTDOSE': 4, 'RTSTRUCT': 3, 'MR': 1, 'REG': 1}"
      ]
     },
     "execution_count": 16,
     "metadata": {},
     "output_type": "execute_result"
    }
   ],
   "source": [
    "loader.get_modality_distribution()"
   ]
  },
  {
   "cell_type": "code",
   "execution_count": 17,
   "metadata": {},
   "outputs": [
    {
     "data": {
      "image/svg+xml": [
       "<svg xmlns=\"http://www.w3.org/2000/svg\" xmlns:xlink=\"http://www.w3.org/1999/xlink\" width=\"1465pt\" height=\"317pt\" viewBox=\"0.00 0.00 1465.00 317.00\">\n",
       "<g id=\"graph0\" class=\"graph\" transform=\"scale(1 1) rotate(0) translate(4 313)\">\n",
       "<polygon fill=\"white\" stroke=\"none\" points=\"-4,4 -4,-313 1461,-313 1461,4 -4,4\"/>\n",
       "<g id=\"clust1\" class=\"cluster\">\n",
       "<title>cluster_1.2.840.114350.2.300.2.798268.2.301493607.1</title>\n",
       "<polygon fill=\"honeydew\" stroke=\"black\" points=\"8,-162 8,-260 440,-260 440,-162 8,-162\"/>\n",
       "<text text-anchor=\"middle\" x=\"224\" y=\"-242.7\" font-family=\"Times New Roman,serif\" font-size=\"14.00\">StudyDescription: PET-CT BODY, OUTSIDE IMAGING</text>\n",
       "<text text-anchor=\"middle\" x=\"224\" y=\"-226.2\" font-family=\"Times New Roman,serif\" font-size=\"14.00\">StudyInstanceUID: 1.2.840.114350.2.300.2.798268.2.301493607.1</text>\n",
       "</g>\n",
       "<g id=\"clust2\" class=\"cluster\">\n",
       "<title>cluster_1.2.840.114350.2.300.2.798268.2.303463934.1</title>\n",
       "<polygon fill=\"lavenderblush\" stroke=\"black\" points=\"448,-8 448,-260 1449,-260 1449,-8 448,-8\"/>\n",
       "<text text-anchor=\"middle\" x=\"948.5\" y=\"-242.7\" font-family=\"Times New Roman,serif\" font-size=\"14.00\">StudyDescription: Neck^01_HEAD_NECK (Adult)</text>\n",
       "<text text-anchor=\"middle\" x=\"948.5\" y=\"-226.2\" font-family=\"Times New Roman,serif\" font-size=\"14.00\">StudyInstanceUID: 1.2.840.114350.2.300.2.798268.2.303463934.1</text>\n",
       "</g>\n",
       "<!-- 5360656 -->\n",
       "<g id=\"node1\" class=\"node\">\n",
       "<title>5360656</title>\n",
       "<polygon fill=\"dodgerblue\" stroke=\"black\" points=\"532.88,-309 381.12,-309 381.12,-268 532.88,-268 532.88,-309\"/>\n",
       "<text text-anchor=\"middle\" x=\"457\" y=\"-291.7\" font-family=\"Times New Roman,serif\" font-size=\"14.00\">Patient ID: 5360656</text>\n",
       "<text text-anchor=\"middle\" x=\"457\" y=\"-275.2\" font-family=\"Times New Roman,serif\" font-size=\"14.00\">BORODINA^NATALIA</text>\n",
       "</g>\n",
       "<!-- 2.25.183548345963525782157664221494573240581 -->\n",
       "<g id=\"node2\" class=\"node\">\n",
       "<title>2.25.183548345963525782157664221494573240581</title>\n",
       "<polygon fill=\"lightcoral\" stroke=\"black\" points=\"432.25,-211 15.75,-211 15.75,-170 432.25,-170 432.25,-211\"/>\n",
       "<text text-anchor=\"middle\" x=\"224\" y=\"-193.7\" font-family=\"Times New Roman,serif\" font-size=\"14.00\">PT: PET</text>\n",
       "<text text-anchor=\"middle\" x=\"224\" y=\"-177.2\" font-family=\"Times New Roman,serif\" font-size=\"14.00\">SeriesInstanceUID: 2.25.183548345963525782157664221494573240581</text>\n",
       "</g>\n",
       "<!-- 2.25.183548345963525782157664221494573240581&#45;&gt;5360656 -->\n",
       "<!-- 1.3.12.2.1107.5.1.4.49208.30000017122115313353100000895 -->\n",
       "<g id=\"node3\" class=\"node\">\n",
       "<title>1.3.12.2.1107.5.1.4.49208.30000017122115313353100000895</title>\n",
       "<polygon fill=\"lightsteelblue\" stroke=\"black\" points=\"925.88,-211 456.12,-211 456.12,-170 925.88,-170 925.88,-211\"/>\n",
       "<text text-anchor=\"middle\" x=\"691\" y=\"-193.7\" font-family=\"Times New Roman,serif\" font-size=\"14.00\">CT: Neck  3.0  B31s</text>\n",
       "<text text-anchor=\"middle\" x=\"691\" y=\"-177.2\" font-family=\"Times New Roman,serif\" font-size=\"14.00\">SeriesInstanceUID: 1.3.12.2.1107.5.1.4.49208.30000017122115313353100000895</text>\n",
       "</g>\n",
       "<!-- 1.3.12.2.1107.5.1.4.49208.30000017122115313353100000895&#45;&gt;5360656 -->\n",
       "<!-- 1.2.246.352.71.7.62096346807.1033466.20180104104546 -->\n",
       "<g id=\"node4\" class=\"node\">\n",
       "<title>1.2.246.352.71.7.62096346807.1033466.20180104104546</title>\n",
       "<polygon fill=\"lightpink\" stroke=\"black\" points=\"909.75,-57 472.25,-57 472.25,-16 909.75,-16 909.75,-57\"/>\n",
       "<text text-anchor=\"middle\" x=\"691\" y=\"-39.7\" font-family=\"Times New Roman,serif\" font-size=\"14.00\">RTDOSE: Eclipse Doses</text>\n",
       "<text text-anchor=\"middle\" x=\"691\" y=\"-23.2\" font-family=\"Times New Roman,serif\" font-size=\"14.00\">SOPInstanceUID: 1.2.246.352.71.7.62096346807.1033466.20180104104546</text>\n",
       "</g>\n",
       "<!-- 1.2.246.352.205.5362762409370421824.7023846863458821306 -->\n",
       "<g id=\"node5\" class=\"node\">\n",
       "<title>1.2.246.352.205.5362762409370421824.7023846863458821306</title>\n",
       "<polygon fill=\"navajowhite\" stroke=\"black\" points=\"926.25,-134 455.75,-134 455.75,-93 926.25,-93 926.25,-134\"/>\n",
       "<text text-anchor=\"middle\" x=\"691\" y=\"-116.7\" font-family=\"Times New Roman,serif\" font-size=\"14.00\">RTSTRUCT: ARIA RadOnc Structure Sets</text>\n",
       "<text text-anchor=\"middle\" x=\"691\" y=\"-100.2\" font-family=\"Times New Roman,serif\" font-size=\"14.00\">SOPInstanceUID: 1.2.246.352.205.5362762409370421824.7023846863458821306</text>\n",
       "</g>\n",
       "<!-- 1.2.246.352.71.7.62096346807.1033466.20180104104546&#45;&gt;1.2.246.352.205.5362762409370421824.7023846863458821306 -->\n",
       "<g id=\"edge1\" class=\"edge\">\n",
       "<title>1.2.246.352.71.7.62096346807.1033466.20180104104546-&gt;1.2.246.352.205.5362762409370421824.7023846863458821306</title>\n",
       "<path fill=\"none\" stroke=\"black\" d=\"M691,-57.21C691,-64.55 691,-73.09 691,-81.22\"/>\n",
       "<polygon fill=\"black\" stroke=\"black\" points=\"687.5,-81.15 691,-91.15 694.5,-81.15 687.5,-81.15\"/>\n",
       "</g>\n",
       "<!-- 1.2.246.352.205.5362762409370421824.7023846863458821306&#45;&gt;1.3.12.2.1107.5.1.4.49208.30000017122115313353100000895 -->\n",
       "<g id=\"edge2\" class=\"edge\">\n",
       "<title>1.2.246.352.205.5362762409370421824.7023846863458821306-&gt;1.3.12.2.1107.5.1.4.49208.30000017122115313353100000895</title>\n",
       "<path fill=\"none\" stroke=\"black\" d=\"M691,-134.21C691,-141.55 691,-150.09 691,-158.22\"/>\n",
       "<polygon fill=\"black\" stroke=\"black\" points=\"687.5,-158.15 691,-168.15 694.5,-158.15 687.5,-158.15\"/>\n",
       "</g>\n",
       "<!-- 2.16.840.1.114362.1.6.6.5.16628.11679370362.475319963.1054.442 -->\n",
       "<g id=\"node6\" class=\"node\">\n",
       "<title>2.16.840.1.114362.1.6.6.5.16628.11679370362.475319963.1054.442</title>\n",
       "<polygon fill=\"navajowhite\" stroke=\"black\" points=\"1441.38,-134 944.62,-134 944.62,-93 1441.38,-93 1441.38,-134\"/>\n",
       "<text text-anchor=\"middle\" x=\"1193\" y=\"-116.7\" font-family=\"Times New Roman,serif\" font-size=\"14.00\">RTSTRUCT: CT_12-21-2017</text>\n",
       "<text text-anchor=\"middle\" x=\"1193\" y=\"-100.2\" font-family=\"Times New Roman,serif\" font-size=\"14.00\">SOPInstanceUID: 2.16.840.1.114362.1.6.6.5.16628.11679370362.475319963.1054.442</text>\n",
       "</g>\n",
       "<!-- 2.16.840.1.114362.1.6.6.5.16628.11679370362.475319963.1054.442&#45;&gt;1.3.12.2.1107.5.1.4.49208.30000017122115313353100000895 -->\n",
       "<g id=\"edge3\" class=\"edge\">\n",
       "<title>2.16.840.1.114362.1.6.6.5.16628.11679370362.475319963.1054.442-&gt;1.3.12.2.1107.5.1.4.49208.30000017122115313353100000895</title>\n",
       "<path fill=\"none\" stroke=\"black\" d=\"M1059.46,-134.45C990.53,-144.75 906.35,-157.33 835.85,-167.86\"/>\n",
       "<polygon fill=\"black\" stroke=\"black\" points=\"835.53,-164.37 826.16,-169.31 836.57,-171.29 835.53,-164.37\"/>\n",
       "</g>\n",
       "</g>\n",
       "</svg>"
      ],
      "text/plain": [
       "<IPython.core.display.SVG object>"
      ]
     },
     "metadata": {},
     "output_type": "display_data"
    }
   ],
   "source": [
    "loader.visualize_series_references(patient_id=pids[0], include_uid=True)"
   ]
  },
  {
   "cell_type": "code",
   "execution_count": 7,
   "metadata": {},
   "outputs": [],
   "source": [
    "ct2_image = loader.read_series(\"1.2.276.0.20.1.3.5.550353714951.34820.1597700821.355000\")[0]\n",
    "mr2_image = loader.read_series(\"1.3.12.2.1107.5.2.12.21264.30000020081014414360900016770\")[0]\n",
    "reg2 = loader.read_instance(\"2.16.840.1.114362.1.11775105.23599837070.555500807.249.156\")"
   ]
  },
  {
   "cell_type": "code",
   "execution_count": 8,
   "metadata": {},
   "outputs": [
    {
     "data": {
      "application/vnd.jupyter.widget-view+json": {
       "model_id": "347c8cc29cc94d7d87807fa81dc02e64",
       "version_major": 2,
       "version_minor": 0
      },
      "text/plain": [
       "interactive(children=(IntSlider(value=87, description='slice_idx', max=175), FloatSlider(value=0.5, descriptio…"
      ]
     },
     "metadata": {},
     "output_type": "display_data"
    }
   ],
   "source": [
    "visualize_fusion(mr2_image, ct2_image, center_align=True, axis=0, cmap=plt.cm.Greys_r)"
   ]
  },
  {
   "cell_type": "code",
   "execution_count": 9,
   "metadata": {},
   "outputs": [],
   "source": [
    "img_reg = ImageRegistration(reg2, ct2_image, mr2_image)\n",
    "registered_mr = img_reg.apply_registration()"
   ]
  },
  {
   "cell_type": "code",
   "execution_count": 10,
   "metadata": {},
   "outputs": [
    {
     "name": "stdout",
     "output_type": "stream",
     "text": [
      "[[ 9.98564124e-01 -4.99182567e-02 -1.94296781e-02 -4.25049973e+00]\n",
      " [ 4.98608164e-02  9.98750269e-01 -3.43069434e-03  2.01772156e+02]\n",
      " [ 1.95766650e-02  2.45705247e-03  9.99805212e-01 -5.21274231e+02]\n",
      " [ 0.00000000e+00  0.00000000e+00  0.00000000e+00  1.00000000e+00]]\n"
     ]
    }
   ],
   "source": [
    "print(reg2.moving_image_info[\"transformation_matrix\"])"
   ]
  },
  {
   "cell_type": "code",
   "execution_count": 11,
   "metadata": {},
   "outputs": [
    {
     "name": "stdout",
     "output_type": "stream",
     "text": [
      "[[ 9.98564468e-01  4.98608092e-02  1.95766567e-02  4.38868170e+00]\n",
      " [-4.99182814e-02  9.98750298e-01  2.45698945e-03 -2.00451413e+02]\n",
      " [-1.94296949e-02 -3.43075852e-03  9.99805467e-01  5.21782472e+02]\n",
      " [ 0.00000000e+00  0.00000000e+00  0.00000000e+00  1.00000000e+00]]\n"
     ]
    }
   ],
   "source": [
    "print(np.linalg.inv(reg2.moving_image_info[\"transformation_matrix\"]))"
   ]
  },
  {
   "cell_type": "code",
   "execution_count": 12,
   "metadata": {},
   "outputs": [
    {
     "data": {
      "application/vnd.jupyter.widget-view+json": {
       "model_id": "f6552dfd252d48ac9fc41e980eb5fb6b",
       "version_major": 2,
       "version_minor": 0
      },
      "text/plain": [
       "IntSlider(value=88, description='Slice', max=175)"
      ]
     },
     "metadata": {},
     "output_type": "display_data"
    },
    {
     "data": {
      "application/vnd.jupyter.widget-view+json": {
       "model_id": "281e7e43c2d74e0ba1f981575400d230",
       "version_major": 2,
       "version_minor": 0
      },
      "text/plain": [
       "VBox(children=(VBox(children=(Output(),)),))"
      ]
     },
     "metadata": {},
     "output_type": "display_data"
    }
   ],
   "source": [
    "interactive_image_viewer(mr2_image, cmap='grey', axis=0)"
   ]
  },
  {
   "cell_type": "code",
   "execution_count": 13,
   "metadata": {},
   "outputs": [
    {
     "data": {
      "application/vnd.jupyter.widget-view+json": {
       "model_id": "4da1fa9b0e87414dac8f1d6f78284474",
       "version_major": 2,
       "version_minor": 0
      },
      "text/plain": [
       "IntSlider(value=114, description='Slice', max=227)"
      ]
     },
     "metadata": {},
     "output_type": "display_data"
    },
    {
     "data": {
      "application/vnd.jupyter.widget-view+json": {
       "model_id": "4041d0b8a0b546af8e5f7b528009e55b",
       "version_major": 2,
       "version_minor": 0
      },
      "text/plain": [
       "VBox(children=(VBox(children=(Output(),)),))"
      ]
     },
     "metadata": {},
     "output_type": "display_data"
    }
   ],
   "source": [
    "interactive_image_viewer(ct2_image, axis=0, cmap=\"grey\")"
   ]
  },
  {
   "cell_type": "code",
   "execution_count": 14,
   "metadata": {},
   "outputs": [
    {
     "data": {
      "application/vnd.jupyter.widget-view+json": {
       "model_id": "f7b230fe10b54daa9ec7f4910a6d0a83",
       "version_major": 2,
       "version_minor": 0
      },
      "text/plain": [
       "IntSlider(value=114, description='Slice', max=227)"
      ]
     },
     "metadata": {},
     "output_type": "display_data"
    },
    {
     "data": {
      "application/vnd.jupyter.widget-view+json": {
       "model_id": "4b088f68242645ce8779dd954fc883eb",
       "version_major": 2,
       "version_minor": 0
      },
      "text/plain": [
       "VBox(children=(VBox(children=(Output(),)),))"
      ]
     },
     "metadata": {},
     "output_type": "display_data"
    }
   ],
   "source": [
    "interactive_image_viewer(registered_mr, axis=0, cmap=\"grey\")"
   ]
  },
  {
   "cell_type": "code",
   "execution_count": 15,
   "metadata": {},
   "outputs": [
    {
     "data": {
      "application/vnd.jupyter.widget-view+json": {
       "model_id": "6454fa17e7c74312873dcbbd38871b1e",
       "version_major": 2,
       "version_minor": 0
      },
      "text/plain": [
       "interactive(children=(IntSlider(value=75, description='slice_idx', max=151), FloatSlider(value=0.5, descriptio…"
      ]
     },
     "metadata": {},
     "output_type": "display_data"
    }
   ],
   "source": [
    "visualize_fusion(ct2_image, registered_mr, center_align=True, axis=0, cmap=plt.cm.Greys_r)"
   ]
  },
  {
   "cell_type": "code",
   "execution_count": 18,
   "metadata": {},
   "outputs": [
    {
     "name": "stdout",
     "output_type": "stream",
     "text": [
      "mr2_image.GetOrigin()=(-137.28320483351, -179.58431781439, -38.217242431222), mr2_image.GetDirection()=(0.99866184141248, 0.01427517854292, 0.0497065969888, -1.22049035e-10, 0.96114869048003, -0.2760311482216, -0.05171582452827428, 0.27566177476411763, 0.9598625211077229)\n",
      "registered_ct.GetOrigin()=(-137.28320483351, -179.58431781439, -38.217242431222), registered_ct.GetDirection()=(0.99866184141248, 0.01427517854292, 0.0497065969888, -1.22049035e-10, 0.96114869048003, -0.2760311482216, -0.05171582452827428, 0.27566177476411763, 0.9598625211077229)\n"
     ]
    }
   ],
   "source": [
    "print(f\"{mr2_image.GetOrigin()=}, {mr2_image.GetDirection()=}\")\n",
    "print(f\"{registered_ct.GetOrigin()=}, {registered_ct.GetDirection()=}\")"
   ]
  },
  {
   "cell_type": "code",
   "execution_count": 23,
   "metadata": {},
   "outputs": [],
   "source": [
    "ct_image = DICOMImageReader(ct_path).read()\n",
    "cbct_image = DICOMImageReader(cbct_path).read()\n",
    "reg = REGReader(reg_path).read()"
   ]
  },
  {
   "cell_type": "code",
   "execution_count": 24,
   "metadata": {},
   "outputs": [
    {
     "data": {
      "text/plain": [
       "(512, 512, 135)"
      ]
     },
     "execution_count": 24,
     "metadata": {},
     "output_type": "execute_result"
    }
   ],
   "source": [
    "ct_image.GetSize()"
   ]
  },
  {
   "cell_type": "code",
   "execution_count": 25,
   "metadata": {},
   "outputs": [],
   "source": [
    "ct_img = ct_image.get_image_array()\n",
    "mr_img = cbct_image.get_image_array()"
   ]
  },
  {
   "cell_type": "code",
   "execution_count": 26,
   "metadata": {},
   "outputs": [
    {
     "name": "stdout",
     "output_type": "stream",
     "text": [
      "(135, 512, 512)\n",
      "(93, 512, 512)\n"
     ]
    }
   ],
   "source": [
    "print(ct_img.shape)\n",
    "print(mr_img.shape)"
   ]
  },
  {
   "cell_type": "code",
   "execution_count": 27,
   "metadata": {},
   "outputs": [
    {
     "data": {
      "application/vnd.jupyter.widget-view+json": {
       "model_id": "1ed2a6fe1e8a4e77b4ed90b49d9def53",
       "version_major": 2,
       "version_minor": 0
      },
      "text/plain": [
       "interactive(children=(IntSlider(value=255, description='slice_idx', max=511), FloatSlider(value=0.5, descripti…"
      ]
     },
     "metadata": {},
     "output_type": "display_data"
    }
   ],
   "source": [
    "visualize_fusion(ct_image, cbct_image, center_align=True, axis=2, cmap=plt.cm.Greys_r, origin=\"lower\")"
   ]
  },
  {
   "cell_type": "code",
   "execution_count": 28,
   "metadata": {},
   "outputs": [],
   "source": [
    "# registered_img = register_images(ct_reader, mr_reader, reg_reader)\n",
    "img_reg = ImageRegistration(reg, ct_image, cbct_image)\n",
    "registered_image = img_reg.apply_registration()"
   ]
  },
  {
   "cell_type": "code",
   "execution_count": 29,
   "metadata": {},
   "outputs": [
    {
     "data": {
      "application/vnd.jupyter.widget-view+json": {
       "model_id": "21bfedc6e83048d2896a3e777458c3eb",
       "version_major": 2,
       "version_minor": 0
      },
      "text/plain": [
       "interactive(children=(IntSlider(value=255, description='slice_idx', max=511), FloatSlider(value=0.5, descripti…"
      ]
     },
     "metadata": {},
     "output_type": "display_data"
    }
   ],
   "source": [
    "visualize_fusion(ct_image, registered_image, center_align=True, axis=2, cmap=plt.cm.Greys_r, origin='lower')"
   ]
  },
  {
   "cell_type": "code",
   "execution_count": 59,
   "metadata": {},
   "outputs": [
    {
     "name": "stdout",
     "output_type": "stream",
     "text": [
      "[[ 9.99999985e-01  0.00000000e+00 -1.71042266e-04  4.44742745e+01]\n",
      " [ 0.00000000e+00  1.00000000e+00  0.00000000e+00 -2.37564834e+02]\n",
      " [ 1.71042266e-04  0.00000000e+00  9.99999985e-01  5.52317859e+02]\n",
      " [ 0.00000000e+00  0.00000000e+00  0.00000000e+00  1.00000000e+00]]\n"
     ]
    }
   ],
   "source": [
    "print(reg.moving_image_info[\"transformation_matrix\"])"
   ]
  },
  {
   "cell_type": "code",
   "execution_count": 30,
   "metadata": {},
   "outputs": [
    {
     "data": {
      "text/plain": [
       "(512, 512, 135)"
      ]
     },
     "execution_count": 30,
     "metadata": {},
     "output_type": "execute_result"
    }
   ],
   "source": [
    "registered_image.GetSize()"
   ]
  },
  {
   "cell_type": "code",
   "execution_count": 31,
   "metadata": {},
   "outputs": [
    {
     "data": {
      "application/vnd.jupyter.widget-view+json": {
       "model_id": "5a8bac7b35c14ec09258df95a081cd95",
       "version_major": 2,
       "version_minor": 0
      },
      "text/plain": [
       "IntSlider(value=202, description='Slice', max=404)"
      ]
     },
     "metadata": {},
     "output_type": "display_data"
    },
    {
     "data": {
      "application/vnd.jupyter.widget-view+json": {
       "model_id": "7a969f1204ee4dd1a8f615e49366902d",
       "version_major": 2,
       "version_minor": 0
      },
      "text/plain": [
       "VBox(children=(VBox(children=(Output(),)),))"
      ]
     },
     "metadata": {},
     "output_type": "display_data"
    }
   ],
   "source": [
    "interactive_image_viewer(img=registered_image, cmap=\"gray\")"
   ]
  },
  {
   "cell_type": "code",
   "execution_count": 16,
   "metadata": {},
   "outputs": [
    {
     "name": "stdout",
     "output_type": "stream",
     "text": [
      "[[ 9.99999985e-01  0.00000000e+00 -1.71042266e-04  4.44742745e+01]\n",
      " [ 0.00000000e+00  1.00000000e+00  0.00000000e+00 -2.37564834e+02]\n",
      " [ 1.71042266e-04  0.00000000e+00  9.99999985e-01  5.52317859e+02]\n",
      " [ 0.00000000e+00  0.00000000e+00  0.00000000e+00  1.00000000e+00]]\n"
     ]
    }
   ],
   "source": [
    "print(reg.moving_image_info[\"transformation_matrix\"])"
   ]
  },
  {
   "cell_type": "code",
   "execution_count": 18,
   "metadata": {},
   "outputs": [],
   "source": [
    "from pydicom import dcmread"
   ]
  },
  {
   "cell_type": "code",
   "execution_count": 19,
   "metadata": {},
   "outputs": [],
   "source": [
    "path = Path(r\"C:\\Users\\yabdulkadir\\Desktop\\temp_reg\\2020-08__Studies\\DOE^JOHN_ANON30013_REG_2020-08-10_174754_MR.BRAIN.WO+W.CONTRAST_CHART.ROUNDS.Aug.2020_n1__00000\\2.16.840.1.114362.1.12289667.25176973841.698218352.148.1.dcm\")"
   ]
  },
  {
   "cell_type": "code",
   "execution_count": 20,
   "metadata": {},
   "outputs": [],
   "source": [
    "reg_ds = dcmread(path)"
   ]
  },
  {
   "cell_type": "code",
   "execution_count": 52,
   "metadata": {},
   "outputs": [],
   "source": [
    "reg_json = reg_ds.to_json_dict()"
   ]
  },
  {
   "cell_type": "code",
   "execution_count": 53,
   "metadata": {},
   "outputs": [
    {
     "data": {
      "text/plain": [
       "dict_keys(['00080005', '00080012', '00080013', '00080016', '00080018', '00080020', '00080021', '00080023', '00080030', '00080031', '00080033', '00080050', '00080060', '00080070', '00080080', '00080090', '00081030', '0008103E', '00081090', '00081115', '00081200', '00100010', '00100020', '00100030', '00100040', '00101010', '00101020', '00101030', '00120062', '00120063', '00181020', '0020000D', '0020000E', '00200010', '00200011', '00200013', '00200052', '00201040', '00700080', '00700081', '00700084', '00700308'])"
      ]
     },
     "execution_count": 53,
     "metadata": {},
     "output_type": "execute_result"
    }
   ],
   "source": [
    "reg_json.keys()"
   ]
  },
  {
   "cell_type": "code",
   "execution_count": 40,
   "metadata": {},
   "outputs": [],
   "source": [
    "import json"
   ]
  },
  {
   "cell_type": "code",
   "execution_count": 48,
   "metadata": {},
   "outputs": [
    {
     "data": {
      "text/plain": [
       "dict"
      ]
     },
     "execution_count": 48,
     "metadata": {},
     "output_type": "execute_result"
    }
   ],
   "source": [
    "type(reg_json)"
   ]
  },
  {
   "cell_type": "code",
   "execution_count": 49,
   "metadata": {},
   "outputs": [],
   "source": [
    "reg_json = json.dumps(reg_json)"
   ]
  },
  {
   "cell_type": "code",
   "execution_count": 50,
   "metadata": {},
   "outputs": [
    {
     "data": {
      "text/plain": [
       "'{\"00080005\": {\"vr\": \"CS\", \"Value\": [\"ISO_IR 100\"]}, \"00080012\": {\"vr\": \"DA\", \"Value\": [\"20200810\"]}, \"00080013\": {\"vr\": \"TM\", \"Value\": [\"184827\"]}, \"00080016\": {\"vr\": \"UI\", \"Value\": [\"1.2.840.10008.5.1.4.1.1.66.1\"]}, \"00080018\": {\"vr\": \"UI\", \"Value\": [\"2.16.840.1.114362.1.12289667.25176973841.698218352.148.1\"]}, \"00080020\": {\"vr\": \"DA\", \"Value\": [\"20200810\"]}, \"00080021\": {\"vr\": \"DA\", \"Value\": [\"20200810\"]}, \"00080023\": {\"vr\": \"DA\", \"Value\": [\"20200817\"]}, \"00080030\": {\"vr\": \"TM\", \"Value\": [\"174754.000000\"]}, \"00080031\": {\"vr\": \"TM\", \"Value\": [\"184827\"]}, \"00080033\": {\"vr\": \"TM\", \"Value\": [\"194126.249\"]}, \"00080050\": {\"vr\": \"SH\"}, \"00080060\": {\"vr\": \"CS\", \"Value\": [\"REG\"]}, \"00080070\": {\"vr\": \"LO\", \"Value\": [\"MIM Software Inc.\"]}, \"00080080\": {\"vr\": \"LO\"}, \"00080090\": {\"vr\": \"PN\"}, \"00081030\": {\"vr\": \"LO\", \"Value\": [\"MR BRAIN WO+W CONTRAST\"]}, \"0008103E\": {\"vr\": \"LO\", \"Value\": [\"CHART ROUNDS Aug 2020\"]}, \"00081090\": {\"vr\": \"LO\", \"Value\": [\"MIM\"]}, \"00081115\": {\"vr\": \"SQ\", \"Value\": [{\"0008114A\": {\"vr\": \"SQ\", \"Value\": [{\"00081150\": {\"vr\": \"UI\", \"Value\": [\"1.2.840.10008.5.1.4.1.1.4\"]}, \"00081155\": {\"vr\": \"UI\", \"Value\": [\"2.16.840.1.114362.1.12289667.25176973841.698218352.161.159\"]}}, {\"00081150\": {\"vr\": \"UI\", \"Value\": [\"1.2.840.10008.5.1.4.1.1.4\"]}, \"00081155\": {\"vr\": \"UI\", \"Value\": [\"2.16.840.1.114362.1.12289667.25176973841.698218352.161.160\"]}}, {\"00081150\": {\"vr\": \"UI\", \"Value\": [\"1.2.840.10008.5.1.4.1.1.4\"]}, \"00081155\": {\"vr\": \"UI\", \"Value\": [\"2.16.840.1.114362.1.12289667.25176973841.698218352.161.161\"]}}, {\"00081150\": {\"vr\": \"UI\", \"Value\": [\"1.2.840.10008.5.1.4.1.1.4\"]}, \"00081155\": {\"vr\": \"UI\", \"Value\": [\"2.16.840.1.114362.1.12289667.25176973841.698218352.161.162\"]}}, {\"00081150\": {\"vr\": \"UI\", \"Value\": [\"1.2.840.10008.5.1.4.1.1.4\"]}, \"00081155\": {\"vr\": \"UI\", \"Value\": [\"2.16.840.1.114362.1.12289667.25176973841.698218352.161.163\"]}}, {\"00081150\": {\"vr\": \"UI\", \"Value\": [\"1.2.840.10008.5.1.4.1.1.4\"]}, \"00081155\": {\"vr\": \"UI\", \"Value\": [\"2.16.840.1.114362.1.12289667.25176973841.698218352.161.164\"]}}, {\"00081150\": {\"vr\": \"UI\", \"Value\": [\"1.2.840.10008.5.1.4.1.1.4\"]}, \"00081155\": {\"vr\": \"UI\", \"Value\": [\"2.16.840.1.114362.1.12289667.25176973841.698218352.161.165\"]}}, {\"00081150\": {\"vr\": \"UI\", \"Value\": [\"1.2.840.10008.5.1.4.1.1.4\"]}, \"00081155\": {\"vr\": \"UI\", \"Value\": [\"2.16.840.1.114362.1.12289667.25176973841.698218352.161.166\"]}}, {\"00081150\": {\"vr\": \"UI\", \"Value\": [\"1.2.840.10008.5.1.4.1.1.4\"]}, \"00081155\": {\"vr\": \"UI\", \"Value\": [\"2.16.840.1.114362.1.12289667.25176973841.698218352.161.167\"]}}, {\"00081150\": {\"vr\": \"UI\", \"Value\": [\"1.2.840.10008.5.1.4.1.1.4\"]}, \"00081155\": {\"vr\": \"UI\", \"Value\": [\"2.16.840.1.114362.1.12289667.25176973841.698218352.161.168\"]}}, {\"00081150\": {\"vr\": \"UI\", \"Value\": [\"1.2.840.10008.5.1.4.1.1.4\"]}, \"00081155\": {\"vr\": \"UI\", \"Value\": [\"2.16.840.1.114362.1.12289667.25176973841.698218352.161.169\"]}}, {\"00081150\": {\"vr\": \"UI\", \"Value\": [\"1.2.840.10008.5.1.4.1.1.4\"]}, \"00081155\": {\"vr\": \"UI\", \"Value\": [\"2.16.840.1.114362.1.12289667.25176973841.698218352.161.170\"]}}, {\"00081150\": {\"vr\": \"UI\", \"Value\": [\"1.2.840.10008.5.1.4.1.1.4\"]}, \"00081155\": {\"vr\": \"UI\", \"Value\": [\"2.16.840.1.114362.1.12289667.25176973841.698218352.161.171\"]}}, {\"00081150\": {\"vr\": \"UI\", \"Value\": [\"1.2.840.10008.5.1.4.1.1.4\"]}, \"00081155\": {\"vr\": \"UI\", \"Value\": [\"2.16.840.1.114362.1.12289667.25176973841.698218352.161.172\"]}}, {\"00081150\": {\"vr\": \"UI\", \"Value\": [\"1.2.840.10008.5.1.4.1.1.4\"]}, \"00081155\": {\"vr\": \"UI\", \"Value\": [\"2.16.840.1.114362.1.12289667.25176973841.698218352.161.173\"]}}, {\"00081150\": {\"vr\": \"UI\", \"Value\": [\"1.2.840.10008.5.1.4.1.1.4\"]}, \"00081155\": {\"vr\": \"UI\", \"Value\": [\"2.16.840.1.114362.1.12289667.25176973841.698218352.161.174\"]}}, {\"00081150\": {\"vr\": \"UI\", \"Value\": [\"1.2.840.10008.5.1.4.1.1.4\"]}, \"00081155\": {\"vr\": \"UI\", \"Value\": [\"2.16.840.1.114362.1.12289667.25176973841.698218352.161.175\"]}}, {\"00081150\": {\"vr\": \"UI\", \"Value\": [\"1.2.840.10008.5.1.4.1.1.4\"]}, \"00081155\": {\"vr\": \"UI\", \"Value\": [\"2.16.840.1.114362.1.12289667.25176973841.698218352.161.176\"]}}, {\"00081150\": {\"vr\": \"UI\", \"Value\": [\"1.2.840.10008.5.1.4.1.1.4\"]}, \"00081155\": {\"vr\": \"UI\", \"Value\": [\"2.16.840.1.114362.1.12289667.25176973841.698218352.161.177\"]}}, {\"00081150\": {\"vr\": \"UI\", \"Value\": [\"1.2.840.10008.5.1.4.1.1.4\"]}, \"00081155\": {\"vr\": \"UI\", \"Value\": [\"2.16.840.1.114362.1.12289667.25176973841.698218352.161.178\"]}}, {\"00081150\": {\"vr\": \"UI\", \"Value\": [\"1.2.840.10008.5.1.4.1.1.4\"]}, \"00081155\": {\"vr\": \"UI\", \"Value\": [\"2.16.840.1.114362.1.12289667.25176973841.698218352.161.179\"]}}, {\"00081150\": {\"vr\": \"UI\", \"Value\": [\"1.2.840.10008.5.1.4.1.1.4\"]}, \"00081155\": {\"vr\": \"UI\", \"Value\": [\"2.16.840.1.114362.1.12289667.25176973841.698218352.161.180\"]}}, {\"00081150\": {\"vr\": \"UI\", \"Value\": [\"1.2.840.10008.5.1.4.1.1.4\"]}, \"00081155\": {\"vr\": \"UI\", \"Value\": [\"2.16.840.1.114362.1.12289667.25176973841.698218352.161.181\"]}}, {\"00081150\": {\"vr\": \"UI\", \"Value\": [\"1.2.840.10008.5.1.4.1.1.4\"]}, \"00081155\": {\"vr\": \"UI\", \"Value\": [\"2.16.840.1.114362.1.12289667.25176973841.698218352.161.182\"]}}, {\"00081150\": {\"vr\": \"UI\", \"Value\": [\"1.2.840.10008.5.1.4.1.1.4\"]}, \"00081155\": {\"vr\": \"UI\", \"Value\": [\"2.16.840.1.114362.1.12289667.25176973841.698218352.161.183\"]}}, {\"00081150\": {\"vr\": \"UI\", \"Value\": [\"1.2.840.10008.5.1.4.1.1.4\"]}, \"00081155\": {\"vr\": \"UI\", \"Value\": [\"2.16.840.1.114362.1.12289667.25176973841.698218352.161.184\"]}}, {\"00081150\": {\"vr\": \"UI\", \"Value\": [\"1.2.840.10008.5.1.4.1.1.4\"]}, \"00081155\": {\"vr\": \"UI\", \"Value\": [\"2.16.840.1.114362.1.12289667.25176973841.698218352.161.185\"]}}, {\"00081150\": {\"vr\": \"UI\", \"Value\": [\"1.2.840.10008.5.1.4.1.1.4\"]}, \"00081155\": {\"vr\": \"UI\", \"Value\": [\"2.16.840.1.114362.1.12289667.25176973841.698218352.161.186\"]}}, {\"00081150\": {\"vr\": \"UI\", \"Value\": [\"1.2.840.10008.5.1.4.1.1.4\"]}, \"00081155\": {\"vr\": \"UI\", \"Value\": [\"2.16.840.1.114362.1.12289667.25176973841.698218352.161.187\"]}}, {\"00081150\": {\"vr\": \"UI\", \"Value\": [\"1.2.840.10008.5.1.4.1.1.4\"]}, \"00081155\": {\"vr\": \"UI\", \"Value\": [\"2.16.840.1.114362.1.12289667.25176973841.698218352.161.188\"]}}, {\"00081150\": {\"vr\": \"UI\", \"Value\": [\"1.2.840.10008.5.1.4.1.1.4\"]}, \"00081155\": {\"vr\": \"UI\", \"Value\": [\"2.16.840.1.114362.1.12289667.25176973841.698218352.161.189\"]}}, {\"00081150\": {\"vr\": \"UI\", \"Value\": [\"1.2.840.10008.5.1.4.1.1.4\"]}, \"00081155\": {\"vr\": \"UI\", \"Value\": [\"2.16.840.1.114362.1.12289667.25176973841.698218352.161.190\"]}}, {\"00081150\": {\"vr\": \"UI\", \"Value\": [\"1.2.840.10008.5.1.4.1.1.4\"]}, \"00081155\": {\"vr\": \"UI\", \"Value\": [\"2.16.840.1.114362.1.12289667.25176973841.698218352.161.191\"]}}, {\"00081150\": {\"vr\": \"UI\", \"Value\": [\"1.2.840.10008.5.1.4.1.1.4\"]}, \"00081155\": {\"vr\": \"UI\", \"Value\": [\"2.16.840.1.114362.1.12289667.25176973841.698218352.161.192\"]}}, {\"00081150\": {\"vr\": \"UI\", \"Value\": [\"1.2.840.10008.5.1.4.1.1.4\"]}, \"00081155\": {\"vr\": \"UI\", \"Value\": [\"2.16.840.1.114362.1.12289667.25176973841.698218352.161.193\"]}}, {\"00081150\": {\"vr\": \"UI\", \"Value\": [\"1.2.840.10008.5.1.4.1.1.4\"]}, \"00081155\": {\"vr\": \"UI\", \"Value\": [\"2.16.840.1.114362.1.12289667.25176973841.698218352.161.194\"]}}, {\"00081150\": {\"vr\": \"UI\", \"Value\": [\"1.2.840.10008.5.1.4.1.1.4\"]}, \"00081155\": {\"vr\": \"UI\", \"Value\": [\"2.16.840.1.114362.1.12289667.25176973841.698218352.161.195\"]}}, {\"00081150\": {\"vr\": \"UI\", \"Value\": [\"1.2.840.10008.5.1.4.1.1.4\"]}, \"00081155\": {\"vr\": \"UI\", \"Value\": [\"2.16.840.1.114362.1.12289667.25176973841.698218352.161.196\"]}}, {\"00081150\": {\"vr\": \"UI\", \"Value\": [\"1.2.840.10008.5.1.4.1.1.4\"]}, \"00081155\": {\"vr\": \"UI\", \"Value\": [\"2.16.840.1.114362.1.12289667.25176973841.698218352.161.197\"]}}, {\"00081150\": {\"vr\": \"UI\", \"Value\": [\"1.2.840.10008.5.1.4.1.1.4\"]}, \"00081155\": {\"vr\": \"UI\", \"Value\": [\"2.16.840.1.114362.1.12289667.25176973841.698218352.161.198\"]}}, {\"00081150\": {\"vr\": \"UI\", \"Value\": [\"1.2.840.10008.5.1.4.1.1.4\"]}, \"00081155\": {\"vr\": \"UI\", \"Value\": [\"2.16.840.1.114362.1.12289667.25176973841.698218352.161.199\"]}}, {\"00081150\": {\"vr\": \"UI\", \"Value\": [\"1.2.840.10008.5.1.4.1.1.4\"]}, \"00081155\": {\"vr\": \"UI\", \"Value\": [\"2.16.840.1.114362.1.12289667.25176973841.698218352.161.200\"]}}, {\"00081150\": {\"vr\": \"UI\", \"Value\": [\"1.2.840.10008.5.1.4.1.1.4\"]}, \"00081155\": {\"vr\": \"UI\", \"Value\": [\"2.16.840.1.114362.1.12289667.25176973841.698218352.161.201\"]}}, {\"00081150\": {\"vr\": \"UI\", \"Value\": [\"1.2.840.10008.5.1.4.1.1.4\"]}, \"00081155\": {\"vr\": \"UI\", \"Value\": [\"2.16.840.1.114362.1.12289667.25176973841.698218352.161.202\"]}}, {\"00081150\": {\"vr\": \"UI\", \"Value\": [\"1.2.840.10008.5.1.4.1.1.4\"]}, \"00081155\": {\"vr\": \"UI\", \"Value\": [\"2.16.840.1.114362.1.12289667.25176973841.698218352.161.203\"]}}, {\"00081150\": {\"vr\": \"UI\", \"Value\": [\"1.2.840.10008.5.1.4.1.1.4\"]}, \"00081155\": {\"vr\": \"UI\", \"Value\": [\"2.16.840.1.114362.1.12289667.25176973841.698218352.161.204\"]}}, {\"00081150\": {\"vr\": \"UI\", \"Value\": [\"1.2.840.10008.5.1.4.1.1.4\"]}, \"00081155\": {\"vr\": \"UI\", \"Value\": [\"2.16.840.1.114362.1.12289667.25176973841.698218352.161.205\"]}}, {\"00081150\": {\"vr\": \"UI\", \"Value\": [\"1.2.840.10008.5.1.4.1.1.4\"]}, \"00081155\": {\"vr\": \"UI\", \"Value\": [\"2.16.840.1.114362.1.12289667.25176973841.698218352.161.206\"]}}, {\"00081150\": {\"vr\": \"UI\", \"Value\": [\"1.2.840.10008.5.1.4.1.1.4\"]}, \"00081155\": {\"vr\": \"UI\", \"Value\": [\"2.16.840.1.114362.1.12289667.25176973841.698218352.161.207\"]}}, {\"00081150\": {\"vr\": \"UI\", \"Value\": [\"1.2.840.10008.5.1.4.1.1.4\"]}, \"00081155\": {\"vr\": \"UI\", \"Value\": [\"2.16.840.1.114362.1.12289667.25176973841.698218352.161.208\"]}}, {\"00081150\": {\"vr\": \"UI\", \"Value\": [\"1.2.840.10008.5.1.4.1.1.4\"]}, \"00081155\": {\"vr\": \"UI\", \"Value\": [\"2.16.840.1.114362.1.12289667.25176973841.698218352.161.209\"]}}, {\"00081150\": {\"vr\": \"UI\", \"Value\": [\"1.2.840.10008.5.1.4.1.1.4\"]}, \"00081155\": {\"vr\": \"UI\", \"Value\": [\"2.16.840.1.114362.1.12289667.25176973841.698218352.161.210\"]}}, {\"00081150\": {\"vr\": \"UI\", \"Value\": [\"1.2.840.10008.5.1.4.1.1.4\"]}, \"00081155\": {\"vr\": \"UI\", \"Value\": [\"2.16.840.1.114362.1.12289667.25176973841.698218352.161.211\"]}}, {\"00081150\": {\"vr\": \"UI\", \"Value\": [\"1.2.840.10008.5.1.4.1.1.4\"]}, \"00081155\": {\"vr\": \"UI\", \"Value\": [\"2.16.840.1.114362.1.12289667.25176973841.698218352.161.212\"]}}, {\"00081150\": {\"vr\": \"UI\", \"Value\": [\"1.2.840.10008.5.1.4.1.1.4\"]}, \"00081155\": {\"vr\": \"UI\", \"Value\": [\"2.16.840.1.114362.1.12289667.25176973841.698218352.161.213\"]}}, {\"00081150\": {\"vr\": \"UI\", \"Value\": [\"1.2.840.10008.5.1.4.1.1.4\"]}, \"00081155\": {\"vr\": \"UI\", \"Value\": [\"2.16.840.1.114362.1.12289667.25176973841.698218352.161.214\"]}}, {\"00081150\": {\"vr\": \"UI\", \"Value\": [\"1.2.840.10008.5.1.4.1.1.4\"]}, \"00081155\": {\"vr\": \"UI\", \"Value\": [\"2.16.840.1.114362.1.12289667.25176973841.698218352.161.215\"]}}, {\"00081150\": {\"vr\": \"UI\", \"Value\": [\"1.2.840.10008.5.1.4.1.1.4\"]}, \"00081155\": {\"vr\": \"UI\", \"Value\": [\"2.16.840.1.114362.1.12289667.25176973841.698218352.161.216\"]}}, {\"00081150\": {\"vr\": \"UI\", \"Value\": [\"1.2.840.10008.5.1.4.1.1.4\"]}, \"00081155\": {\"vr\": \"UI\", \"Value\": [\"2.16.840.1.114362.1.12289667.25176973841.698218352.161.217\"]}}, {\"00081150\": {\"vr\": \"UI\", \"Value\": [\"1.2.840.10008.5.1.4.1.1.4\"]}, \"00081155\": {\"vr\": \"UI\", \"Value\": [\"2.16.840.1.114362.1.12289667.25176973841.698218352.161.218\"]}}, {\"00081150\": {\"vr\": \"UI\", \"Value\": [\"1.2.840.10008.5.1.4.1.1.4\"]}, \"00081155\": {\"vr\": \"UI\", \"Value\": [\"2.16.840.1.114362.1.12289667.25176973841.698218352.161.219\"]}}, {\"00081150\": {\"vr\": \"UI\", \"Value\": [\"1.2.840.10008.5.1.4.1.1.4\"]}, \"00081155\": {\"vr\": \"UI\", \"Value\": [\"2.16.840.1.114362.1.12289667.25176973841.698218352.161.220\"]}}, {\"00081150\": {\"vr\": \"UI\", \"Value\": [\"1.2.840.10008.5.1.4.1.1.4\"]}, \"00081155\": {\"vr\": \"UI\", \"Value\": [\"2.16.840.1.114362.1.12289667.25176973841.698218352.161.221\"]}}, {\"00081150\": {\"vr\": \"UI\", \"Value\": [\"1.2.840.10008.5.1.4.1.1.4\"]}, \"00081155\": {\"vr\": \"UI\", \"Value\": [\"2.16.840.1.114362.1.12289667.25176973841.698218352.161.222\"]}}, {\"00081150\": {\"vr\": \"UI\", \"Value\": [\"1.2.840.10008.5.1.4.1.1.4\"]}, \"00081155\": {\"vr\": \"UI\", \"Value\": [\"2.16.840.1.114362.1.12289667.25176973841.698218352.161.223\"]}}, {\"00081150\": {\"vr\": \"UI\", \"Value\": [\"1.2.840.10008.5.1.4.1.1.4\"]}, \"00081155\": {\"vr\": \"UI\", \"Value\": [\"2.16.840.1.114362.1.12289667.25176973841.698218352.161.224\"]}}, {\"00081150\": {\"vr\": \"UI\", \"Value\": [\"1.2.840.10008.5.1.4.1.1.4\"]}, \"00081155\": {\"vr\": \"UI\", \"Value\": [\"2.16.840.1.114362.1.12289667.25176973841.698218352.161.225\"]}}, {\"00081150\": {\"vr\": \"UI\", \"Value\": [\"1.2.840.10008.5.1.4.1.1.4\"]}, \"00081155\": {\"vr\": \"UI\", \"Value\": [\"2.16.840.1.114362.1.12289667.25176973841.698218352.161.226\"]}}, {\"00081150\": {\"vr\": \"UI\", \"Value\": [\"1.2.840.10008.5.1.4.1.1.4\"]}, \"00081155\": {\"vr\": \"UI\", \"Value\": [\"2.16.840.1.114362.1.12289667.25176973841.698218352.161.227\"]}}, {\"00081150\": {\"vr\": \"UI\", \"Value\": [\"1.2.840.10008.5.1.4.1.1.4\"]}, \"00081155\": {\"vr\": \"UI\", \"Value\": [\"2.16.840.1.114362.1.12289667.25176973841.698218352.161.228\"]}}, {\"00081150\": {\"vr\": \"UI\", \"Value\": [\"1.2.840.10008.5.1.4.1.1.4\"]}, \"00081155\": {\"vr\": \"UI\", \"Value\": [\"2.16.840.1.114362.1.12289667.25176973841.698218352.161.229\"]}}, {\"00081150\": {\"vr\": \"UI\", \"Value\": [\"1.2.840.10008.5.1.4.1.1.4\"]}, \"00081155\": {\"vr\": \"UI\", \"Value\": [\"2.16.840.1.114362.1.12289667.25176973841.698218352.161.230\"]}}, {\"00081150\": {\"vr\": \"UI\", \"Value\": [\"1.2.840.10008.5.1.4.1.1.4\"]}, \"00081155\": {\"vr\": \"UI\", \"Value\": [\"2.16.840.1.114362.1.12289667.25176973841.698218352.161.231\"]}}, {\"00081150\": {\"vr\": \"UI\", \"Value\": [\"1.2.840.10008.5.1.4.1.1.4\"]}, \"00081155\": {\"vr\": \"UI\", \"Value\": [\"2.16.840.1.114362.1.12289667.25176973841.698218352.161.232\"]}}, {\"00081150\": {\"vr\": \"UI\", \"Value\": [\"1.2.840.10008.5.1.4.1.1.4\"]}, \"00081155\": {\"vr\": \"UI\", \"Value\": [\"2.16.840.1.114362.1.12289667.25176973841.698218352.161.233\"]}}, {\"00081150\": {\"vr\": \"UI\", \"Value\": [\"1.2.840.10008.5.1.4.1.1.4\"]}, \"00081155\": {\"vr\": \"UI\", \"Value\": [\"2.16.840.1.114362.1.12289667.25176973841.698218352.162.234\"]}}, {\"00081150\": {\"vr\": \"UI\", \"Value\": [\"1.2.840.10008.5.1.4.1.1.4\"]}, \"00081155\": {\"vr\": \"UI\", \"Value\": [\"2.16.840.1.114362.1.12289667.25176973841.698218352.162.235\"]}}, {\"00081150\": {\"vr\": \"UI\", \"Value\": [\"1.2.840.10008.5.1.4.1.1.4\"]}, \"00081155\": {\"vr\": \"UI\", \"Value\": [\"2.16.840.1.114362.1.12289667.25176973841.698218352.162.236\"]}}, {\"00081150\": {\"vr\": \"UI\", \"Value\": [\"1.2.840.10008.5.1.4.1.1.4\"]}, \"00081155\": {\"vr\": \"UI\", \"Value\": [\"2.16.840.1.114362.1.12289667.25176973841.698218352.162.237\"]}}, {\"00081150\": {\"vr\": \"UI\", \"Value\": [\"1.2.840.10008.5.1.4.1.1.4\"]}, \"00081155\": {\"vr\": \"UI\", \"Value\": [\"2.16.840.1.114362.1.12289667.25176973841.698218352.162.238\"]}}, {\"00081150\": {\"vr\": \"UI\", \"Value\": [\"1.2.840.10008.5.1.4.1.1.4\"]}, \"00081155\": {\"vr\": \"UI\", \"Value\": [\"2.16.840.1.114362.1.12289667.25176973841.698218352.162.239\"]}}, {\"00081150\": {\"vr\": \"UI\", \"Value\": [\"1.2.840.10008.5.1.4.1.1.4\"]}, \"00081155\": {\"vr\": \"UI\", \"Value\": [\"2.16.840.1.114362.1.12289667.25176973841.698218352.162.240\"]}}, {\"00081150\": {\"vr\": \"UI\", \"Value\": [\"1.2.840.10008.5.1.4.1.1.4\"]}, \"00081155\": {\"vr\": \"UI\", \"Value\": [\"2.16.840.1.114362.1.12289667.25176973841.698218352.162.241\"]}}, {\"00081150\": {\"vr\": \"UI\", \"Value\": [\"1.2.840.10008.5.1.4.1.1.4\"]}, \"00081155\": {\"vr\": \"UI\", \"Value\": [\"2.16.840.1.114362.1.12289667.25176973841.698218352.162.242\"]}}, {\"00081150\": {\"vr\": \"UI\", \"Value\": [\"1.2.840.10008.5.1.4.1.1.4\"]}, \"00081155\": {\"vr\": \"UI\", \"Value\": [\"2.16.840.1.114362.1.12289667.25176973841.698218352.162.243\"]}}, {\"00081150\": {\"vr\": \"UI\", \"Value\": [\"1.2.840.10008.5.1.4.1.1.4\"]}, \"00081155\": {\"vr\": \"UI\", \"Value\": [\"2.16.840.1.114362.1.12289667.25176973841.698218352.162.244\"]}}, {\"00081150\": {\"vr\": \"UI\", \"Value\": [\"1.2.840.10008.5.1.4.1.1.4\"]}, \"00081155\": {\"vr\": \"UI\", \"Value\": [\"2.16.840.1.114362.1.12289667.25176973841.698218352.162.245\"]}}, {\"00081150\": {\"vr\": \"UI\", \"Value\": [\"1.2.840.10008.5.1.4.1.1.4\"]}, \"00081155\": {\"vr\": \"UI\", \"Value\": [\"2.16.840.1.114362.1.12289667.25176973841.698218352.162.246\"]}}, {\"00081150\": {\"vr\": \"UI\", \"Value\": [\"1.2.840.10008.5.1.4.1.1.4\"]}, \"00081155\": {\"vr\": \"UI\", \"Value\": [\"2.16.840.1.114362.1.12289667.25176973841.698218352.162.247\"]}}, {\"00081150\": {\"vr\": \"UI\", \"Value\": [\"1.2.840.10008.5.1.4.1.1.4\"]}, \"00081155\": {\"vr\": \"UI\", \"Value\": [\"2.16.840.1.114362.1.12289667.25176973841.698218352.162.248\"]}}, {\"00081150\": {\"vr\": \"UI\", \"Value\": [\"1.2.840.10008.5.1.4.1.1.4\"]}, \"00081155\": {\"vr\": \"UI\", \"Value\": [\"2.16.840.1.114362.1.12289667.25176973841.698218352.162.249\"]}}, {\"00081150\": {\"vr\": \"UI\", \"Value\": [\"1.2.840.10008.5.1.4.1.1.4\"]}, \"00081155\": {\"vr\": \"UI\", \"Value\": [\"2.16.840.1.114362.1.12289667.25176973841.698218352.162.250\"]}}, {\"00081150\": {\"vr\": \"UI\", \"Value\": [\"1.2.840.10008.5.1.4.1.1.4\"]}, \"00081155\": {\"vr\": \"UI\", \"Value\": [\"2.16.840.1.114362.1.12289667.25176973841.698218352.162.251\"]}}, {\"00081150\": {\"vr\": \"UI\", \"Value\": [\"1.2.840.10008.5.1.4.1.1.4\"]}, \"00081155\": {\"vr\": \"UI\", \"Value\": [\"2.16.840.1.114362.1.12289667.25176973841.698218352.162.252\"]}}, {\"00081150\": {\"vr\": \"UI\", \"Value\": [\"1.2.840.10008.5.1.4.1.1.4\"]}, \"00081155\": {\"vr\": \"UI\", \"Value\": [\"2.16.840.1.114362.1.12289667.25176973841.698218352.162.253\"]}}, {\"00081150\": {\"vr\": \"UI\", \"Value\": [\"1.2.840.10008.5.1.4.1.1.4\"]}, \"00081155\": {\"vr\": \"UI\", \"Value\": [\"2.16.840.1.114362.1.12289667.25176973841.698218352.162.254\"]}}, {\"00081150\": {\"vr\": \"UI\", \"Value\": [\"1.2.840.10008.5.1.4.1.1.4\"]}, \"00081155\": {\"vr\": \"UI\", \"Value\": [\"2.16.840.1.114362.1.12289667.25176973841.698218352.162.255\"]}}, {\"00081150\": {\"vr\": \"UI\", \"Value\": [\"1.2.840.10008.5.1.4.1.1.4\"]}, \"00081155\": {\"vr\": \"UI\", \"Value\": [\"2.16.840.1.114362.1.12289667.25176973841.698218352.162.256\"]}}, {\"00081150\": {\"vr\": \"UI\", \"Value\": [\"1.2.840.10008.5.1.4.1.1.4\"]}, \"00081155\": {\"vr\": \"UI\", \"Value\": [\"2.16.840.1.114362.1.12289667.25176973841.698218352.162.257\"]}}, {\"00081150\": {\"vr\": \"UI\", \"Value\": [\"1.2.840.10008.5.1.4.1.1.4\"]}, \"00081155\": {\"vr\": \"UI\", \"Value\": [\"2.16.840.1.114362.1.12289667.25176973841.698218352.162.258\"]}}, {\"00081150\": {\"vr\": \"UI\", \"Value\": [\"1.2.840.10008.5.1.4.1.1.4\"]}, \"00081155\": {\"vr\": \"UI\", \"Value\": [\"2.16.840.1.114362.1.12289667.25176973841.698218352.162.259\"]}}, {\"00081150\": {\"vr\": \"UI\", \"Value\": [\"1.2.840.10008.5.1.4.1.1.4\"]}, \"00081155\": {\"vr\": \"UI\", \"Value\": [\"2.16.840.1.114362.1.12289667.25176973841.698218352.162.260\"]}}, {\"00081150\": {\"vr\": \"UI\", \"Value\": [\"1.2.840.10008.5.1.4.1.1.4\"]}, \"00081155\": {\"vr\": \"UI\", \"Value\": [\"2.16.840.1.114362.1.12289667.25176973841.698218352.162.261\"]}}, {\"00081150\": {\"vr\": \"UI\", \"Value\": [\"1.2.840.10008.5.1.4.1.1.4\"]}, \"00081155\": {\"vr\": \"UI\", \"Value\": [\"2.16.840.1.114362.1.12289667.25176973841.698218352.162.262\"]}}, {\"00081150\": {\"vr\": \"UI\", \"Value\": [\"1.2.840.10008.5.1.4.1.1.4\"]}, \"00081155\": {\"vr\": \"UI\", \"Value\": [\"2.16.840.1.114362.1.12289667.25176973841.698218352.162.263\"]}}, {\"00081150\": {\"vr\": \"UI\", \"Value\": [\"1.2.840.10008.5.1.4.1.1.4\"]}, \"00081155\": {\"vr\": \"UI\", \"Value\": [\"2.16.840.1.114362.1.12289667.25176973841.698218352.162.264\"]}}, {\"00081150\": {\"vr\": \"UI\", \"Value\": [\"1.2.840.10008.5.1.4.1.1.4\"]}, \"00081155\": {\"vr\": \"UI\", \"Value\": [\"2.16.840.1.114362.1.12289667.25176973841.698218352.162.265\"]}}, {\"00081150\": {\"vr\": \"UI\", \"Value\": [\"1.2.840.10008.5.1.4.1.1.4\"]}, \"00081155\": {\"vr\": \"UI\", \"Value\": [\"2.16.840.1.114362.1.12289667.25176973841.698218352.162.266\"]}}, {\"00081150\": {\"vr\": \"UI\", \"Value\": [\"1.2.840.10008.5.1.4.1.1.4\"]}, \"00081155\": {\"vr\": \"UI\", \"Value\": [\"2.16.840.1.114362.1.12289667.25176973841.698218352.162.267\"]}}, {\"00081150\": {\"vr\": \"UI\", \"Value\": [\"1.2.840.10008.5.1.4.1.1.4\"]}, \"00081155\": {\"vr\": \"UI\", \"Value\": [\"2.16.840.1.114362.1.12289667.25176973841.698218352.162.268\"]}}, {\"00081150\": {\"vr\": \"UI\", \"Value\": [\"1.2.840.10008.5.1.4.1.1.4\"]}, \"00081155\": {\"vr\": \"UI\", \"Value\": [\"2.16.840.1.114362.1.12289667.25176973841.698218352.162.269\"]}}, {\"00081150\": {\"vr\": \"UI\", \"Value\": [\"1.2.840.10008.5.1.4.1.1.4\"]}, \"00081155\": {\"vr\": \"UI\", \"Value\": [\"2.16.840.1.114362.1.12289667.25176973841.698218352.162.270\"]}}, {\"00081150\": {\"vr\": \"UI\", \"Value\": [\"1.2.840.10008.5.1.4.1.1.4\"]}, \"00081155\": {\"vr\": \"UI\", \"Value\": [\"2.16.840.1.114362.1.12289667.25176973841.698218352.162.271\"]}}, {\"00081150\": {\"vr\": \"UI\", \"Value\": [\"1.2.840.10008.5.1.4.1.1.4\"]}, \"00081155\": {\"vr\": \"UI\", \"Value\": [\"2.16.840.1.114362.1.12289667.25176973841.698218352.162.272\"]}}, {\"00081150\": {\"vr\": \"UI\", \"Value\": [\"1.2.840.10008.5.1.4.1.1.4\"]}, \"00081155\": {\"vr\": \"UI\", \"Value\": [\"2.16.840.1.114362.1.12289667.25176973841.698218352.162.273\"]}}, {\"00081150\": {\"vr\": \"UI\", \"Value\": [\"1.2.840.10008.5.1.4.1.1.4\"]}, \"00081155\": {\"vr\": \"UI\", \"Value\": [\"2.16.840.1.114362.1.12289667.25176973841.698218352.162.274\"]}}, {\"00081150\": {\"vr\": \"UI\", \"Value\": [\"1.2.840.10008.5.1.4.1.1.4\"]}, \"00081155\": {\"vr\": \"UI\", \"Value\": [\"2.16.840.1.114362.1.12289667.25176973841.698218352.162.275\"]}}, {\"00081150\": {\"vr\": \"UI\", \"Value\": [\"1.2.840.10008.5.1.4.1.1.4\"]}, \"00081155\": {\"vr\": \"UI\", \"Value\": [\"2.16.840.1.114362.1.12289667.25176973841.698218352.162.276\"]}}, {\"00081150\": {\"vr\": \"UI\", \"Value\": [\"1.2.840.10008.5.1.4.1.1.4\"]}, \"00081155\": {\"vr\": \"UI\", \"Value\": [\"2.16.840.1.114362.1.12289667.25176973841.698218352.162.277\"]}}, {\"00081150\": {\"vr\": \"UI\", \"Value\": [\"1.2.840.10008.5.1.4.1.1.4\"]}, \"00081155\": {\"vr\": \"UI\", \"Value\": [\"2.16.840.1.114362.1.12289667.25176973841.698218352.162.278\"]}}, {\"00081150\": {\"vr\": \"UI\", \"Value\": [\"1.2.840.10008.5.1.4.1.1.4\"]}, \"00081155\": {\"vr\": \"UI\", \"Value\": [\"2.16.840.1.114362.1.12289667.25176973841.698218352.162.279\"]}}, {\"00081150\": {\"vr\": \"UI\", \"Value\": [\"1.2.840.10008.5.1.4.1.1.4\"]}, \"00081155\": {\"vr\": \"UI\", \"Value\": [\"2.16.840.1.114362.1.12289667.25176973841.698218352.162.280\"]}}, {\"00081150\": {\"vr\": \"UI\", \"Value\": [\"1.2.840.10008.5.1.4.1.1.4\"]}, \"00081155\": {\"vr\": \"UI\", \"Value\": [\"2.16.840.1.114362.1.12289667.25176973841.698218352.162.281\"]}}, {\"00081150\": {\"vr\": \"UI\", \"Value\": [\"1.2.840.10008.5.1.4.1.1.4\"]}, \"00081155\": {\"vr\": \"UI\", \"Value\": [\"2.16.840.1.114362.1.12289667.25176973841.698218352.162.282\"]}}, {\"00081150\": {\"vr\": \"UI\", \"Value\": [\"1.2.840.10008.5.1.4.1.1.4\"]}, \"00081155\": {\"vr\": \"UI\", \"Value\": [\"2.16.840.1.114362.1.12289667.25176973841.698218352.162.283\"]}}, {\"00081150\": {\"vr\": \"UI\", \"Value\": [\"1.2.840.10008.5.1.4.1.1.4\"]}, \"00081155\": {\"vr\": \"UI\", \"Value\": [\"2.16.840.1.114362.1.12289667.25176973841.698218352.162.284\"]}}, {\"00081150\": {\"vr\": \"UI\", \"Value\": [\"1.2.840.10008.5.1.4.1.1.4\"]}, \"00081155\": {\"vr\": \"UI\", \"Value\": [\"2.16.840.1.114362.1.12289667.25176973841.698218352.162.285\"]}}, {\"00081150\": {\"vr\": \"UI\", \"Value\": [\"1.2.840.10008.5.1.4.1.1.4\"]}, \"00081155\": {\"vr\": \"UI\", \"Value\": [\"2.16.840.1.114362.1.12289667.25176973841.698218352.162.286\"]}}, {\"00081150\": {\"vr\": \"UI\", \"Value\": [\"1.2.840.10008.5.1.4.1.1.4\"]}, \"00081155\": {\"vr\": \"UI\", \"Value\": [\"2.16.840.1.114362.1.12289667.25176973841.698218352.162.287\"]}}, {\"00081150\": {\"vr\": \"UI\", \"Value\": [\"1.2.840.10008.5.1.4.1.1.4\"]}, \"00081155\": {\"vr\": \"UI\", \"Value\": [\"2.16.840.1.114362.1.12289667.25176973841.698218352.162.288\"]}}, {\"00081150\": {\"vr\": \"UI\", \"Value\": [\"1.2.840.10008.5.1.4.1.1.4\"]}, \"00081155\": {\"vr\": \"UI\", \"Value\": [\"2.16.840.1.114362.1.12289667.25176973841.698218352.162.289\"]}}, {\"00081150\": {\"vr\": \"UI\", \"Value\": [\"1.2.840.10008.5.1.4.1.1.4\"]}, \"00081155\": {\"vr\": \"UI\", \"Value\": [\"2.16.840.1.114362.1.12289667.25176973841.698218352.163.290\"]}}, {\"00081150\": {\"vr\": \"UI\", \"Value\": [\"1.2.840.10008.5.1.4.1.1.4\"]}, \"00081155\": {\"vr\": \"UI\", \"Value\": [\"2.16.840.1.114362.1.12289667.25176973841.698218352.163.291\"]}}, {\"00081150\": {\"vr\": \"UI\", \"Value\": [\"1.2.840.10008.5.1.4.1.1.4\"]}, \"00081155\": {\"vr\": \"UI\", \"Value\": [\"2.16.840.1.114362.1.12289667.25176973841.698218352.163.292\"]}}, {\"00081150\": {\"vr\": \"UI\", \"Value\": [\"1.2.840.10008.5.1.4.1.1.4\"]}, \"00081155\": {\"vr\": \"UI\", \"Value\": [\"2.16.840.1.114362.1.12289667.25176973841.698218352.163.293\"]}}, {\"00081150\": {\"vr\": \"UI\", \"Value\": [\"1.2.840.10008.5.1.4.1.1.4\"]}, \"00081155\": {\"vr\": \"UI\", \"Value\": [\"2.16.840.1.114362.1.12289667.25176973841.698218352.163.294\"]}}, {\"00081150\": {\"vr\": \"UI\", \"Value\": [\"1.2.840.10008.5.1.4.1.1.4\"]}, \"00081155\": {\"vr\": \"UI\", \"Value\": [\"2.16.840.1.114362.1.12289667.25176973841.698218352.163.295\"]}}, {\"00081150\": {\"vr\": \"UI\", \"Value\": [\"1.2.840.10008.5.1.4.1.1.4\"]}, \"00081155\": {\"vr\": \"UI\", \"Value\": [\"2.16.840.1.114362.1.12289667.25176973841.698218352.163.296\"]}}, {\"00081150\": {\"vr\": \"UI\", \"Value\": [\"1.2.840.10008.5.1.4.1.1.4\"]}, \"00081155\": {\"vr\": \"UI\", \"Value\": [\"2.16.840.1.114362.1.12289667.25176973841.698218352.163.297\"]}}, {\"00081150\": {\"vr\": \"UI\", \"Value\": [\"1.2.840.10008.5.1.4.1.1.4\"]}, \"00081155\": {\"vr\": \"UI\", \"Value\": [\"2.16.840.1.114362.1.12289667.25176973841.698218352.163.298\"]}}, {\"00081150\": {\"vr\": \"UI\", \"Value\": [\"1.2.840.10008.5.1.4.1.1.4\"]}, \"00081155\": {\"vr\": \"UI\", \"Value\": [\"2.16.840.1.114362.1.12289667.25176973841.698218352.163.299\"]}}, {\"00081150\": {\"vr\": \"UI\", \"Value\": [\"1.2.840.10008.5.1.4.1.1.4\"]}, \"00081155\": {\"vr\": \"UI\", \"Value\": [\"2.16.840.1.114362.1.12289667.25176973841.698218352.163.300\"]}}, {\"00081150\": {\"vr\": \"UI\", \"Value\": [\"1.2.840.10008.5.1.4.1.1.4\"]}, \"00081155\": {\"vr\": \"UI\", \"Value\": [\"2.16.840.1.114362.1.12289667.25176973841.698218352.163.301\"]}}, {\"00081150\": {\"vr\": \"UI\", \"Value\": [\"1.2.840.10008.5.1.4.1.1.4\"]}, \"00081155\": {\"vr\": \"UI\", \"Value\": [\"2.16.840.1.114362.1.12289667.25176973841.698218352.163.302\"]}}, {\"00081150\": {\"vr\": \"UI\", \"Value\": [\"1.2.840.10008.5.1.4.1.1.4\"]}, \"00081155\": {\"vr\": \"UI\", \"Value\": [\"2.16.840.1.114362.1.12289667.25176973841.698218352.163.303\"]}}, {\"00081150\": {\"vr\": \"UI\", \"Value\": [\"1.2.840.10008.5.1.4.1.1.4\"]}, \"00081155\": {\"vr\": \"UI\", \"Value\": [\"2.16.840.1.114362.1.12289667.25176973841.698218352.163.304\"]}}, {\"00081150\": {\"vr\": \"UI\", \"Value\": [\"1.2.840.10008.5.1.4.1.1.4\"]}, \"00081155\": {\"vr\": \"UI\", \"Value\": [\"2.16.840.1.114362.1.12289667.25176973841.698218352.163.305\"]}}, {\"00081150\": {\"vr\": \"UI\", \"Value\": [\"1.2.840.10008.5.1.4.1.1.4\"]}, \"00081155\": {\"vr\": \"UI\", \"Value\": [\"2.16.840.1.114362.1.12289667.25176973841.698218352.163.306\"]}}, {\"00081150\": {\"vr\": \"UI\", \"Value\": [\"1.2.840.10008.5.1.4.1.1.4\"]}, \"00081155\": {\"vr\": \"UI\", \"Value\": [\"2.16.840.1.114362.1.12289667.25176973841.698218352.163.307\"]}}, {\"00081150\": {\"vr\": \"UI\", \"Value\": [\"1.2.840.10008.5.1.4.1.1.4\"]}, \"00081155\": {\"vr\": \"UI\", \"Value\": [\"2.16.840.1.114362.1.12289667.25176973841.698218352.163.308\"]}}, {\"00081150\": {\"vr\": \"UI\", \"Value\": [\"1.2.840.10008.5.1.4.1.1.4\"]}, \"00081155\": {\"vr\": \"UI\", \"Value\": [\"2.16.840.1.114362.1.12289667.25176973841.698218352.163.309\"]}}, {\"00081150\": {\"vr\": \"UI\", \"Value\": [\"1.2.840.10008.5.1.4.1.1.4\"]}, \"00081155\": {\"vr\": \"UI\", \"Value\": [\"2.16.840.1.114362.1.12289667.25176973841.698218352.163.310\"]}}, {\"00081150\": {\"vr\": \"UI\", \"Value\": [\"1.2.840.10008.5.1.4.1.1.4\"]}, \"00081155\": {\"vr\": \"UI\", \"Value\": [\"2.16.840.1.114362.1.12289667.25176973841.698218352.163.311\"]}}, {\"00081150\": {\"vr\": \"UI\", \"Value\": [\"1.2.840.10008.5.1.4.1.1.4\"]}, \"00081155\": {\"vr\": \"UI\", \"Value\": [\"2.16.840.1.114362.1.12289667.25176973841.698218352.163.312\"]}}, {\"00081150\": {\"vr\": \"UI\", \"Value\": [\"1.2.840.10008.5.1.4.1.1.4\"]}, \"00081155\": {\"vr\": \"UI\", \"Value\": [\"2.16.840.1.114362.1.12289667.25176973841.698218352.163.313\"]}}, {\"00081150\": {\"vr\": \"UI\", \"Value\": [\"1.2.840.10008.5.1.4.1.1.4\"]}, \"00081155\": {\"vr\": \"UI\", \"Value\": [\"2.16.840.1.114362.1.12289667.25176973841.698218352.163.314\"]}}, {\"00081150\": {\"vr\": \"UI\", \"Value\": [\"1.2.840.10008.5.1.4.1.1.4\"]}, \"00081155\": {\"vr\": \"UI\", \"Value\": [\"2.16.840.1.114362.1.12289667.25176973841.698218352.163.315\"]}}, {\"00081150\": {\"vr\": \"UI\", \"Value\": [\"1.2.840.10008.5.1.4.1.1.4\"]}, \"00081155\": {\"vr\": \"UI\", \"Value\": [\"2.16.840.1.114362.1.12289667.25176973841.698218352.163.316\"]}}, {\"00081150\": {\"vr\": \"UI\", \"Value\": [\"1.2.840.10008.5.1.4.1.1.4\"]}, \"00081155\": {\"vr\": \"UI\", \"Value\": [\"2.16.840.1.114362.1.12289667.25176973841.698218352.163.317\"]}}, {\"00081150\": {\"vr\": \"UI\", \"Value\": [\"1.2.840.10008.5.1.4.1.1.4\"]}, \"00081155\": {\"vr\": \"UI\", \"Value\": [\"2.16.840.1.114362.1.12289667.25176973841.698218352.163.318\"]}}, {\"00081150\": {\"vr\": \"UI\", \"Value\": [\"1.2.840.10008.5.1.4.1.1.4\"]}, \"00081155\": {\"vr\": \"UI\", \"Value\": [\"2.16.840.1.114362.1.12289667.25176973841.698218352.163.319\"]}}, {\"00081150\": {\"vr\": \"UI\", \"Value\": [\"1.2.840.10008.5.1.4.1.1.4\"]}, \"00081155\": {\"vr\": \"UI\", \"Value\": [\"2.16.840.1.114362.1.12289667.25176973841.698218352.163.320\"]}}, {\"00081150\": {\"vr\": \"UI\", \"Value\": [\"1.2.840.10008.5.1.4.1.1.4\"]}, \"00081155\": {\"vr\": \"UI\", \"Value\": [\"2.16.840.1.114362.1.12289667.25176973841.698218352.163.321\"]}}, {\"00081150\": {\"vr\": \"UI\", \"Value\": [\"1.2.840.10008.5.1.4.1.1.4\"]}, \"00081155\": {\"vr\": \"UI\", \"Value\": [\"2.16.840.1.114362.1.12289667.25176973841.698218352.163.322\"]}}, {\"00081150\": {\"vr\": \"UI\", \"Value\": [\"1.2.840.10008.5.1.4.1.1.4\"]}, \"00081155\": {\"vr\": \"UI\", \"Value\": [\"2.16.840.1.114362.1.12289667.25176973841.698218352.163.323\"]}}, {\"00081150\": {\"vr\": \"UI\", \"Value\": [\"1.2.840.10008.5.1.4.1.1.4\"]}, \"00081155\": {\"vr\": \"UI\", \"Value\": [\"2.16.840.1.114362.1.12289667.25176973841.698218352.163.324\"]}}, {\"00081150\": {\"vr\": \"UI\", \"Value\": [\"1.2.840.10008.5.1.4.1.1.4\"]}, \"00081155\": {\"vr\": \"UI\", \"Value\": [\"2.16.840.1.114362.1.12289667.25176973841.698218352.163.325\"]}}, {\"00081150\": {\"vr\": \"UI\", \"Value\": [\"1.2.840.10008.5.1.4.1.1.4\"]}, \"00081155\": {\"vr\": \"UI\", \"Value\": [\"2.16.840.1.114362.1.12289667.25176973841.698218352.163.326\"]}}, {\"00081150\": {\"vr\": \"UI\", \"Value\": [\"1.2.840.10008.5.1.4.1.1.4\"]}, \"00081155\": {\"vr\": \"UI\", \"Value\": [\"2.16.840.1.114362.1.12289667.25176973841.698218352.163.327\"]}}, {\"00081150\": {\"vr\": \"UI\", \"Value\": [\"1.2.840.10008.5.1.4.1.1.4\"]}, \"00081155\": {\"vr\": \"UI\", \"Value\": [\"2.16.840.1.114362.1.12289667.25176973841.698218352.163.328\"]}}, {\"00081150\": {\"vr\": \"UI\", \"Value\": [\"1.2.840.10008.5.1.4.1.1.4\"]}, \"00081155\": {\"vr\": \"UI\", \"Value\": [\"2.16.840.1.114362.1.12289667.25176973841.698218352.163.329\"]}}, {\"00081150\": {\"vr\": \"UI\", \"Value\": [\"1.2.840.10008.5.1.4.1.1.4\"]}, \"00081155\": {\"vr\": \"UI\", \"Value\": [\"2.16.840.1.114362.1.12289667.25176973841.698218352.163.330\"]}}, {\"00081150\": {\"vr\": \"UI\", \"Value\": [\"1.2.840.10008.5.1.4.1.1.4\"]}, \"00081155\": {\"vr\": \"UI\", \"Value\": [\"2.16.840.1.114362.1.12289667.25176973841.698218352.163.331\"]}}, {\"00081150\": {\"vr\": \"UI\", \"Value\": [\"1.2.840.10008.5.1.4.1.1.4\"]}, \"00081155\": {\"vr\": \"UI\", \"Value\": [\"2.16.840.1.114362.1.12289667.25176973841.698218352.163.332\"]}}, {\"00081150\": {\"vr\": \"UI\", \"Value\": [\"1.2.840.10008.5.1.4.1.1.4\"]}, \"00081155\": {\"vr\": \"UI\", \"Value\": [\"2.16.840.1.114362.1.12289667.25176973841.698218352.163.333\"]}}, {\"00081150\": {\"vr\": \"UI\", \"Value\": [\"1.2.840.10008.5.1.4.1.1.4\"]}, \"00081155\": {\"vr\": \"UI\", \"Value\": [\"2.16.840.1.114362.1.12289667.25176973841.698218352.163.334\"]}}]}, \"0020000E\": {\"vr\": \"UI\", \"Value\": [\"2.16.840.1.114362.1.12289667.25176973841.698218352.161.158\"]}}]}, \"00081200\": {\"vr\": \"SQ\", \"Value\": [{\"00081115\": {\"vr\": \"SQ\", \"Value\": [{\"0008114A\": {\"vr\": \"SQ\", \"Value\": [{\"00081150\": {\"vr\": \"UI\", \"Value\": [\"1.2.840.10008.5.1.4.1.1.2\"]}, \"00081155\": {\"vr\": \"UI\", \"Value\": [\"2.16.840.1.114362.1.12289667.25176973841.698218352.158.5\"]}}, {\"00081150\": {\"vr\": \"UI\", \"Value\": [\"1.2.840.10008.5.1.4.1.1.2\"]}, \"00081155\": {\"vr\": \"UI\", \"Value\": [\"2.16.840.1.114362.1.12289667.25176973841.698218352.158.6\"]}}, {\"00081150\": {\"vr\": \"UI\", \"Value\": [\"1.2.840.10008.5.1.4.1.1.2\"]}, \"00081155\": {\"vr\": \"UI\", \"Value\": [\"2.16.840.1.114362.1.12289667.25176973841.698218352.158.7\"]}}, {\"00081150\": {\"vr\": \"UI\", \"Value\": [\"1.2.840.10008.5.1.4.1.1.2\"]}, \"00081155\": {\"vr\": \"UI\", \"Value\": [\"2.16.840.1.114362.1.12289667.25176973841.698218352.158.8\"]}}, {\"00081150\": {\"vr\": \"UI\", \"Value\": [\"1.2.840.10008.5.1.4.1.1.2\"]}, \"00081155\": {\"vr\": \"UI\", \"Value\": [\"2.16.840.1.114362.1.12289667.25176973841.698218352.158.9\"]}}, {\"00081150\": {\"vr\": \"UI\", \"Value\": [\"1.2.840.10008.5.1.4.1.1.2\"]}, \"00081155\": {\"vr\": \"UI\", \"Value\": [\"2.16.840.1.114362.1.12289667.25176973841.698218352.158.10\"]}}, {\"00081150\": {\"vr\": \"UI\", \"Value\": [\"1.2.840.10008.5.1.4.1.1.2\"]}, \"00081155\": {\"vr\": \"UI\", \"Value\": [\"2.16.840.1.114362.1.12289667.25176973841.698218352.158.11\"]}}, {\"00081150\": {\"vr\": \"UI\", \"Value\": [\"1.2.840.10008.5.1.4.1.1.2\"]}, \"00081155\": {\"vr\": \"UI\", \"Value\": [\"2.16.840.1.114362.1.12289667.25176973841.698218352.159.12\"]}}, {\"00081150\": {\"vr\": \"UI\", \"Value\": [\"1.2.840.10008.5.1.4.1.1.2\"]}, \"00081155\": {\"vr\": \"UI\", \"Value\": [\"2.16.840.1.114362.1.12289667.25176973841.698218352.159.13\"]}}, {\"00081150\": {\"vr\": \"UI\", \"Value\": [\"1.2.840.10008.5.1.4.1.1.2\"]}, \"00081155\": {\"vr\": \"UI\", \"Value\": [\"2.16.840.1.114362.1.12289667.25176973841.698218352.159.14\"]}}, {\"00081150\": {\"vr\": \"UI\", \"Value\": [\"1.2.840.10008.5.1.4.1.1.2\"]}, \"00081155\": {\"vr\": \"UI\", \"Value\": [\"2.16.840.1.114362.1.12289667.25176973841.698218352.159.15\"]}}, {\"00081150\": {\"vr\": \"UI\", \"Value\": [\"1.2.840.10008.5.1.4.1.1.2\"]}, \"00081155\": {\"vr\": \"UI\", \"Value\": [\"2.16.840.1.114362.1.12289667.25176973841.698218352.159.16\"]}}, {\"00081150\": {\"vr\": \"UI\", \"Value\": [\"1.2.840.10008.5.1.4.1.1.2\"]}, \"00081155\": {\"vr\": \"UI\", \"Value\": [\"2.16.840.1.114362.1.12289667.25176973841.698218352.159.17\"]}}, {\"00081150\": {\"vr\": \"UI\", \"Value\": [\"1.2.840.10008.5.1.4.1.1.2\"]}, \"00081155\": {\"vr\": \"UI\", \"Value\": [\"2.16.840.1.114362.1.12289667.25176973841.698218352.159.18\"]}}, {\"00081150\": {\"vr\": \"UI\", \"Value\": [\"1.2.840.10008.5.1.4.1.1.2\"]}, \"00081155\": {\"vr\": \"UI\", \"Value\": [\"2.16.840.1.114362.1.12289667.25176973841.698218352.159.19\"]}}, {\"00081150\": {\"vr\": \"UI\", \"Value\": [\"1.2.840.10008.5.1.4.1.1.2\"]}, \"00081155\": {\"vr\": \"UI\", \"Value\": [\"2.16.840.1.114362.1.12289667.25176973841.698218352.159.20\"]}}, {\"00081150\": {\"vr\": \"UI\", \"Value\": [\"1.2.840.10008.5.1.4.1.1.2\"]}, \"00081155\": {\"vr\": \"UI\", \"Value\": [\"2.16.840.1.114362.1.12289667.25176973841.698218352.159.21\"]}}, {\"00081150\": {\"vr\": \"UI\", \"Value\": [\"1.2.840.10008.5.1.4.1.1.2\"]}, \"00081155\": {\"vr\": \"UI\", \"Value\": [\"2.16.840.1.114362.1.12289667.25176973841.698218352.159.22\"]}}, {\"00081150\": {\"vr\": \"UI\", \"Value\": [\"1.2.840.10008.5.1.4.1.1.2\"]}, \"00081155\": {\"vr\": \"UI\", \"Value\": [\"2.16.840.1.114362.1.12289667.25176973841.698218352.159.23\"]}}, {\"00081150\": {\"vr\": \"UI\", \"Value\": [\"1.2.840.10008.5.1.4.1.1.2\"]}, \"00081155\": {\"vr\": \"UI\", \"Value\": [\"2.16.840.1.114362.1.12289667.25176973841.698218352.159.24\"]}}, {\"00081150\": {\"vr\": \"UI\", \"Value\": [\"1.2.840.10008.5.1.4.1.1.2\"]}, \"00081155\": {\"vr\": \"UI\", \"Value\": [\"2.16.840.1.114362.1.12289667.25176973841.698218352.159.25\"]}}, {\"00081150\": {\"vr\": \"UI\", \"Value\": [\"1.2.840.10008.5.1.4.1.1.2\"]}, \"00081155\": {\"vr\": \"UI\", \"Value\": [\"2.16.840.1.114362.1.12289667.25176973841.698218352.159.26\"]}}, {\"00081150\": {\"vr\": \"UI\", \"Value\": [\"1.2.840.10008.5.1.4.1.1.2\"]}, \"00081155\": {\"vr\": \"UI\", \"Value\": [\"2.16.840.1.114362.1.12289667.25176973841.698218352.159.27\"]}}, {\"00081150\": {\"vr\": \"UI\", \"Value\": [\"1.2.840.10008.5.1.4.1.1.2\"]}, \"00081155\": {\"vr\": \"UI\", \"Value\": [\"2.16.840.1.114362.1.12289667.25176973841.698218352.159.28\"]}}, {\"00081150\": {\"vr\": \"UI\", \"Value\": [\"1.2.840.10008.5.1.4.1.1.2\"]}, \"00081155\": {\"vr\": \"UI\", \"Value\": [\"2.16.840.1.114362.1.12289667.25176973841.698218352.159.29\"]}}, {\"00081150\": {\"vr\": \"UI\", \"Value\": [\"1.2.840.10008.5.1.4.1.1.2\"]}, \"00081155\": {\"vr\": \"UI\", \"Value\": [\"2.16.840.1.114362.1.12289667.25176973841.698218352.159.30\"]}}, {\"00081150\": {\"vr\": \"UI\", \"Value\": [\"1.2.840.10008.5.1.4.1.1.2\"]}, \"00081155\": {\"vr\": \"UI\", \"Value\": [\"2.16.840.1.114362.1.12289667.25176973841.698218352.159.31\"]}}, {\"00081150\": {\"vr\": \"UI\", \"Value\": [\"1.2.840.10008.5.1.4.1.1.2\"]}, \"00081155\": {\"vr\": \"UI\", \"Value\": [\"2.16.840.1.114362.1.12289667.25176973841.698218352.159.32\"]}}, {\"00081150\": {\"vr\": \"UI\", \"Value\": [\"1.2.840.10008.5.1.4.1.1.2\"]}, \"00081155\": {\"vr\": \"UI\", \"Value\": [\"2.16.840.1.114362.1.12289667.25176973841.698218352.159.33\"]}}, {\"00081150\": {\"vr\": \"UI\", \"Value\": [\"1.2.840.10008.5.1.4.1.1.2\"]}, \"00081155\": {\"vr\": \"UI\", \"Value\": [\"2.16.840.1.114362.1.12289667.25176973841.698218352.159.34\"]}}, {\"00081150\": {\"vr\": \"UI\", \"Value\": [\"1.2.840.10008.5.1.4.1.1.2\"]}, \"00081155\": {\"vr\": \"UI\", \"Value\": [\"2.16.840.1.114362.1.12289667.25176973841.698218352.159.35\"]}}, {\"00081150\": {\"vr\": \"UI\", \"Value\": [\"1.2.840.10008.5.1.4.1.1.2\"]}, \"00081155\": {\"vr\": \"UI\", \"Value\": [\"2.16.840.1.114362.1.12289667.25176973841.698218352.159.36\"]}}, {\"00081150\": {\"vr\": \"UI\", \"Value\": [\"1.2.840.10008.5.1.4.1.1.2\"]}, \"00081155\": {\"vr\": \"UI\", \"Value\": [\"2.16.840.1.114362.1.12289667.25176973841.698218352.159.37\"]}}, {\"00081150\": {\"vr\": \"UI\", \"Value\": [\"1.2.840.10008.5.1.4.1.1.2\"]}, \"00081155\": {\"vr\": \"UI\", \"Value\": [\"2.16.840.1.114362.1.12289667.25176973841.698218352.159.38\"]}}, {\"00081150\": {\"vr\": \"UI\", \"Value\": [\"1.2.840.10008.5.1.4.1.1.2\"]}, \"00081155\": {\"vr\": \"UI\", \"Value\": [\"2.16.840.1.114362.1.12289667.25176973841.698218352.159.39\"]}}, {\"00081150\": {\"vr\": \"UI\", \"Value\": [\"1.2.840.10008.5.1.4.1.1.2\"]}, \"00081155\": {\"vr\": \"UI\", \"Value\": [\"2.16.840.1.114362.1.12289667.25176973841.698218352.159.40\"]}}, {\"00081150\": {\"vr\": \"UI\", \"Value\": [\"1.2.840.10008.5.1.4.1.1.2\"]}, \"00081155\": {\"vr\": \"UI\", \"Value\": [\"2.16.840.1.114362.1.12289667.25176973841.698218352.159.41\"]}}, {\"00081150\": {\"vr\": \"UI\", \"Value\": [\"1.2.840.10008.5.1.4.1.1.2\"]}, \"00081155\": {\"vr\": \"UI\", \"Value\": [\"2.16.840.1.114362.1.12289667.25176973841.698218352.159.42\"]}}, {\"00081150\": {\"vr\": \"UI\", \"Value\": [\"1.2.840.10008.5.1.4.1.1.2\"]}, \"00081155\": {\"vr\": \"UI\", \"Value\": [\"2.16.840.1.114362.1.12289667.25176973841.698218352.159.43\"]}}, {\"00081150\": {\"vr\": \"UI\", \"Value\": [\"1.2.840.10008.5.1.4.1.1.2\"]}, \"00081155\": {\"vr\": \"UI\", \"Value\": [\"2.16.840.1.114362.1.12289667.25176973841.698218352.159.44\"]}}, {\"00081150\": {\"vr\": \"UI\", \"Value\": [\"1.2.840.10008.5.1.4.1.1.2\"]}, \"00081155\": {\"vr\": \"UI\", \"Value\": [\"2.16.840.1.114362.1.12289667.25176973841.698218352.159.45\"]}}, {\"00081150\": {\"vr\": \"UI\", \"Value\": [\"1.2.840.10008.5.1.4.1.1.2\"]}, \"00081155\": {\"vr\": \"UI\", \"Value\": [\"2.16.840.1.114362.1.12289667.25176973841.698218352.159.46\"]}}, {\"00081150\": {\"vr\": \"UI\", \"Value\": [\"1.2.840.10008.5.1.4.1.1.2\"]}, \"00081155\": {\"vr\": \"UI\", \"Value\": [\"2.16.840.1.114362.1.12289667.25176973841.698218352.159.47\"]}}, {\"00081150\": {\"vr\": \"UI\", \"Value\": [\"1.2.840.10008.5.1.4.1.1.2\"]}, \"00081155\": {\"vr\": \"UI\", \"Value\": [\"2.16.840.1.114362.1.12289667.25176973841.698218352.159.48\"]}}, {\"00081150\": {\"vr\": \"UI\", \"Value\": [\"1.2.840.10008.5.1.4.1.1.2\"]}, \"00081155\": {\"vr\": \"UI\", \"Value\": [\"2.16.840.1.114362.1.12289667.25176973841.698218352.159.49\"]}}, {\"00081150\": {\"vr\": \"UI\", \"Value\": [\"1.2.840.10008.5.1.4.1.1.2\"]}, \"00081155\": {\"vr\": \"UI\", \"Value\": [\"2.16.840.1.114362.1.12289667.25176973841.698218352.159.50\"]}}, {\"00081150\": {\"vr\": \"UI\", \"Value\": [\"1.2.840.10008.5.1.4.1.1.2\"]}, \"00081155\": {\"vr\": \"UI\", \"Value\": [\"2.16.840.1.114362.1.12289667.25176973841.698218352.159.51\"]}}, {\"00081150\": {\"vr\": \"UI\", \"Value\": [\"1.2.840.10008.5.1.4.1.1.2\"]}, \"00081155\": {\"vr\": \"UI\", \"Value\": [\"2.16.840.1.114362.1.12289667.25176973841.698218352.159.52\"]}}, {\"00081150\": {\"vr\": \"UI\", \"Value\": [\"1.2.840.10008.5.1.4.1.1.2\"]}, \"00081155\": {\"vr\": \"UI\", \"Value\": [\"2.16.840.1.114362.1.12289667.25176973841.698218352.159.53\"]}}, {\"00081150\": {\"vr\": \"UI\", \"Value\": [\"1.2.840.10008.5.1.4.1.1.2\"]}, \"00081155\": {\"vr\": \"UI\", \"Value\": [\"2.16.840.1.114362.1.12289667.25176973841.698218352.159.54\"]}}, {\"00081150\": {\"vr\": \"UI\", \"Value\": [\"1.2.840.10008.5.1.4.1.1.2\"]}, \"00081155\": {\"vr\": \"UI\", \"Value\": [\"2.16.840.1.114362.1.12289667.25176973841.698218352.159.55\"]}}, {\"00081150\": {\"vr\": \"UI\", \"Value\": [\"1.2.840.10008.5.1.4.1.1.2\"]}, \"00081155\": {\"vr\": \"UI\", \"Value\": [\"2.16.840.1.114362.1.12289667.25176973841.698218352.159.56\"]}}, {\"00081150\": {\"vr\": \"UI\", \"Value\": [\"1.2.840.10008.5.1.4.1.1.2\"]}, \"00081155\": {\"vr\": \"UI\", \"Value\": [\"2.16.840.1.114362.1.12289667.25176973841.698218352.159.57\"]}}, {\"00081150\": {\"vr\": \"UI\", \"Value\": [\"1.2.840.10008.5.1.4.1.1.2\"]}, \"00081155\": {\"vr\": \"UI\", \"Value\": [\"2.16.840.1.114362.1.12289667.25176973841.698218352.160.58\"]}}, {\"00081150\": {\"vr\": \"UI\", \"Value\": [\"1.2.840.10008.5.1.4.1.1.2\"]}, \"00081155\": {\"vr\": \"UI\", \"Value\": [\"2.16.840.1.114362.1.12289667.25176973841.698218352.160.59\"]}}, {\"00081150\": {\"vr\": \"UI\", \"Value\": [\"1.2.840.10008.5.1.4.1.1.2\"]}, \"00081155\": {\"vr\": \"UI\", \"Value\": [\"2.16.840.1.114362.1.12289667.25176973841.698218352.160.60\"]}}, {\"00081150\": {\"vr\": \"UI\", \"Value\": [\"1.2.840.10008.5.1.4.1.1.2\"]}, \"00081155\": {\"vr\": \"UI\", \"Value\": [\"2.16.840.1.114362.1.12289667.25176973841.698218352.160.61\"]}}, {\"00081150\": {\"vr\": \"UI\", \"Value\": [\"1.2.840.10008.5.1.4.1.1.2\"]}, \"00081155\": {\"vr\": \"UI\", \"Value\": [\"2.16.840.1.114362.1.12289667.25176973841.698218352.160.62\"]}}, {\"00081150\": {\"vr\": \"UI\", \"Value\": [\"1.2.840.10008.5.1.4.1.1.2\"]}, \"00081155\": {\"vr\": \"UI\", \"Value\": [\"2.16.840.1.114362.1.12289667.25176973841.698218352.160.63\"]}}, {\"00081150\": {\"vr\": \"UI\", \"Value\": [\"1.2.840.10008.5.1.4.1.1.2\"]}, \"00081155\": {\"vr\": \"UI\", \"Value\": [\"2.16.840.1.114362.1.12289667.25176973841.698218352.160.64\"]}}, {\"00081150\": {\"vr\": \"UI\", \"Value\": [\"1.2.840.10008.5.1.4.1.1.2\"]}, \"00081155\": {\"vr\": \"UI\", \"Value\": [\"2.16.840.1.114362.1.12289667.25176973841.698218352.160.65\"]}}, {\"00081150\": {\"vr\": \"UI\", \"Value\": [\"1.2.840.10008.5.1.4.1.1.2\"]}, \"00081155\": {\"vr\": \"UI\", \"Value\": [\"2.16.840.1.114362.1.12289667.25176973841.698218352.160.66\"]}}, {\"00081150\": {\"vr\": \"UI\", \"Value\": [\"1.2.840.10008.5.1.4.1.1.2\"]}, \"00081155\": {\"vr\": \"UI\", \"Value\": [\"2.16.840.1.114362.1.12289667.25176973841.698218352.160.67\"]}}, {\"00081150\": {\"vr\": \"UI\", \"Value\": [\"1.2.840.10008.5.1.4.1.1.2\"]}, \"00081155\": {\"vr\": \"UI\", \"Value\": [\"2.16.840.1.114362.1.12289667.25176973841.698218352.160.68\"]}}, {\"00081150\": {\"vr\": \"UI\", \"Value\": [\"1.2.840.10008.5.1.4.1.1.2\"]}, \"00081155\": {\"vr\": \"UI\", \"Value\": [\"2.16.840.1.114362.1.12289667.25176973841.698218352.160.69\"]}}, {\"00081150\": {\"vr\": \"UI\", \"Value\": [\"1.2.840.10008.5.1.4.1.1.2\"]}, \"00081155\": {\"vr\": \"UI\", \"Value\": [\"2.16.840.1.114362.1.12289667.25176973841.698218352.160.70\"]}}, {\"00081150\": {\"vr\": \"UI\", \"Value\": [\"1.2.840.10008.5.1.4.1.1.2\"]}, \"00081155\": {\"vr\": \"UI\", \"Value\": [\"2.16.840.1.114362.1.12289667.25176973841.698218352.160.71\"]}}, {\"00081150\": {\"vr\": \"UI\", \"Value\": [\"1.2.840.10008.5.1.4.1.1.2\"]}, \"00081155\": {\"vr\": \"UI\", \"Value\": [\"2.16.840.1.114362.1.12289667.25176973841.698218352.160.72\"]}}, {\"00081150\": {\"vr\": \"UI\", \"Value\": [\"1.2.840.10008.5.1.4.1.1.2\"]}, \"00081155\": {\"vr\": \"UI\", \"Value\": [\"2.16.840.1.114362.1.12289667.25176973841.698218352.160.73\"]}}, {\"00081150\": {\"vr\": \"UI\", \"Value\": [\"1.2.840.10008.5.1.4.1.1.2\"]}, \"00081155\": {\"vr\": \"UI\", \"Value\": [\"2.16.840.1.114362.1.12289667.25176973841.698218352.160.74\"]}}, {\"00081150\": {\"vr\": \"UI\", \"Value\": [\"1.2.840.10008.5.1.4.1.1.2\"]}, \"00081155\": {\"vr\": \"UI\", \"Value\": [\"2.16.840.1.114362.1.12289667.25176973841.698218352.160.75\"]}}, {\"00081150\": {\"vr\": \"UI\", \"Value\": [\"1.2.840.10008.5.1.4.1.1.2\"]}, \"00081155\": {\"vr\": \"UI\", \"Value\": [\"2.16.840.1.114362.1.12289667.25176973841.698218352.160.76\"]}}, {\"00081150\": {\"vr\": \"UI\", \"Value\": [\"1.2.840.10008.5.1.4.1.1.2\"]}, \"00081155\": {\"vr\": \"UI\", \"Value\": [\"2.16.840.1.114362.1.12289667.25176973841.698218352.160.77\"]}}, {\"00081150\": {\"vr\": \"UI\", \"Value\": [\"1.2.840.10008.5.1.4.1.1.2\"]}, \"00081155\": {\"vr\": \"UI\", \"Value\": [\"2.16.840.1.114362.1.12289667.25176973841.698218352.160.78\"]}}, {\"00081150\": {\"vr\": \"UI\", \"Value\": [\"1.2.840.10008.5.1.4.1.1.2\"]}, \"00081155\": {\"vr\": \"UI\", \"Value\": [\"2.16.840.1.114362.1.12289667.25176973841.698218352.160.79\"]}}, {\"00081150\": {\"vr\": \"UI\", \"Value\": [\"1.2.840.10008.5.1.4.1.1.2\"]}, \"00081155\": {\"vr\": \"UI\", \"Value\": [\"2.16.840.1.114362.1.12289667.25176973841.698218352.160.80\"]}}, {\"00081150\": {\"vr\": \"UI\", \"Value\": [\"1.2.840.10008.5.1.4.1.1.2\"]}, \"00081155\": {\"vr\": \"UI\", \"Value\": [\"2.16.840.1.114362.1.12289667.25176973841.698218352.160.81\"]}}, {\"00081150\": {\"vr\": \"UI\", \"Value\": [\"1.2.840.10008.5.1.4.1.1.2\"]}, \"00081155\": {\"vr\": \"UI\", \"Value\": [\"2.16.840.1.114362.1.12289667.25176973841.698218352.160.82\"]}}, {\"00081150\": {\"vr\": \"UI\", \"Value\": [\"1.2.840.10008.5.1.4.1.1.2\"]}, \"00081155\": {\"vr\": \"UI\", \"Value\": [\"2.16.840.1.114362.1.12289667.25176973841.698218352.160.83\"]}}, {\"00081150\": {\"vr\": \"UI\", \"Value\": [\"1.2.840.10008.5.1.4.1.1.2\"]}, \"00081155\": {\"vr\": \"UI\", \"Value\": [\"2.16.840.1.114362.1.12289667.25176973841.698218352.160.84\"]}}, {\"00081150\": {\"vr\": \"UI\", \"Value\": [\"1.2.840.10008.5.1.4.1.1.2\"]}, \"00081155\": {\"vr\": \"UI\", \"Value\": [\"2.16.840.1.114362.1.12289667.25176973841.698218352.160.85\"]}}, {\"00081150\": {\"vr\": \"UI\", \"Value\": [\"1.2.840.10008.5.1.4.1.1.2\"]}, \"00081155\": {\"vr\": \"UI\", \"Value\": [\"2.16.840.1.114362.1.12289667.25176973841.698218352.160.86\"]}}, {\"00081150\": {\"vr\": \"UI\", \"Value\": [\"1.2.840.10008.5.1.4.1.1.2\"]}, \"00081155\": {\"vr\": \"UI\", \"Value\": [\"2.16.840.1.114362.1.12289667.25176973841.698218352.160.87\"]}}, {\"00081150\": {\"vr\": \"UI\", \"Value\": [\"1.2.840.10008.5.1.4.1.1.2\"]}, \"00081155\": {\"vr\": \"UI\", \"Value\": [\"2.16.840.1.114362.1.12289667.25176973841.698218352.160.88\"]}}, {\"00081150\": {\"vr\": \"UI\", \"Value\": [\"1.2.840.10008.5.1.4.1.1.2\"]}, \"00081155\": {\"vr\": \"UI\", \"Value\": [\"2.16.840.1.114362.1.12289667.25176973841.698218352.160.89\"]}}, {\"00081150\": {\"vr\": \"UI\", \"Value\": [\"1.2.840.10008.5.1.4.1.1.2\"]}, \"00081155\": {\"vr\": \"UI\", \"Value\": [\"2.16.840.1.114362.1.12289667.25176973841.698218352.160.90\"]}}, {\"00081150\": {\"vr\": \"UI\", \"Value\": [\"1.2.840.10008.5.1.4.1.1.2\"]}, \"00081155\": {\"vr\": \"UI\", \"Value\": [\"2.16.840.1.114362.1.12289667.25176973841.698218352.160.91\"]}}, {\"00081150\": {\"vr\": \"UI\", \"Value\": [\"1.2.840.10008.5.1.4.1.1.2\"]}, \"00081155\": {\"vr\": \"UI\", \"Value\": [\"2.16.840.1.114362.1.12289667.25176973841.698218352.160.92\"]}}, {\"00081150\": {\"vr\": \"UI\", \"Value\": [\"1.2.840.10008.5.1.4.1.1.2\"]}, \"00081155\": {\"vr\": \"UI\", \"Value\": [\"2.16.840.1.114362.1.12289667.25176973841.698218352.160.93\"]}}, {\"00081150\": {\"vr\": \"UI\", \"Value\": [\"1.2.840.10008.5.1.4.1.1.2\"]}, \"00081155\": {\"vr\": \"UI\", \"Value\": [\"2.16.840.1.114362.1.12289667.25176973841.698218352.160.94\"]}}, {\"00081150\": {\"vr\": \"UI\", \"Value\": [\"1.2.840.10008.5.1.4.1.1.2\"]}, \"00081155\": {\"vr\": \"UI\", \"Value\": [\"2.16.840.1.114362.1.12289667.25176973841.698218352.160.95\"]}}, {\"00081150\": {\"vr\": \"UI\", \"Value\": [\"1.2.840.10008.5.1.4.1.1.2\"]}, \"00081155\": {\"vr\": \"UI\", \"Value\": [\"2.16.840.1.114362.1.12289667.25176973841.698218352.160.96\"]}}, {\"00081150\": {\"vr\": \"UI\", \"Value\": [\"1.2.840.10008.5.1.4.1.1.2\"]}, \"00081155\": {\"vr\": \"UI\", \"Value\": [\"2.16.840.1.114362.1.12289667.25176973841.698218352.160.97\"]}}, {\"00081150\": {\"vr\": \"UI\", \"Value\": [\"1.2.840.10008.5.1.4.1.1.2\"]}, \"00081155\": {\"vr\": \"UI\", \"Value\": [\"2.16.840.1.114362.1.12289667.25176973841.698218352.160.98\"]}}, {\"00081150\": {\"vr\": \"UI\", \"Value\": [\"1.2.840.10008.5.1.4.1.1.2\"]}, \"00081155\": {\"vr\": \"UI\", \"Value\": [\"2.16.840.1.114362.1.12289667.25176973841.698218352.160.99\"]}}, {\"00081150\": {\"vr\": \"UI\", \"Value\": [\"1.2.840.10008.5.1.4.1.1.2\"]}, \"00081155\": {\"vr\": \"UI\", \"Value\": [\"2.16.840.1.114362.1.12289667.25176973841.698218352.160.100\"]}}, {\"00081150\": {\"vr\": \"UI\", \"Value\": [\"1.2.840.10008.5.1.4.1.1.2\"]}, \"00081155\": {\"vr\": \"UI\", \"Value\": [\"2.16.840.1.114362.1.12289667.25176973841.698218352.160.101\"]}}, {\"00081150\": {\"vr\": \"UI\", \"Value\": [\"1.2.840.10008.5.1.4.1.1.2\"]}, \"00081155\": {\"vr\": \"UI\", \"Value\": [\"2.16.840.1.114362.1.12289667.25176973841.698218352.160.102\"]}}, {\"00081150\": {\"vr\": \"UI\", \"Value\": [\"1.2.840.10008.5.1.4.1.1.2\"]}, \"00081155\": {\"vr\": \"UI\", \"Value\": [\"2.16.840.1.114362.1.12289667.25176973841.698218352.160.103\"]}}, {\"00081150\": {\"vr\": \"UI\", \"Value\": [\"1.2.840.10008.5.1.4.1.1.2\"]}, \"00081155\": {\"vr\": \"UI\", \"Value\": [\"2.16.840.1.114362.1.12289667.25176973841.698218352.160.104\"]}}, {\"00081150\": {\"vr\": \"UI\", \"Value\": [\"1.2.840.10008.5.1.4.1.1.2\"]}, \"00081155\": {\"vr\": \"UI\", \"Value\": [\"2.16.840.1.114362.1.12289667.25176973841.698218352.160.105\"]}}, {\"00081150\": {\"vr\": \"UI\", \"Value\": [\"1.2.840.10008.5.1.4.1.1.2\"]}, \"00081155\": {\"vr\": \"UI\", \"Value\": [\"2.16.840.1.114362.1.12289667.25176973841.698218352.160.106\"]}}, {\"00081150\": {\"vr\": \"UI\", \"Value\": [\"1.2.840.10008.5.1.4.1.1.2\"]}, \"00081155\": {\"vr\": \"UI\", \"Value\": [\"2.16.840.1.114362.1.12289667.25176973841.698218352.160.107\"]}}, {\"00081150\": {\"vr\": \"UI\", \"Value\": [\"1.2.840.10008.5.1.4.1.1.2\"]}, \"00081155\": {\"vr\": \"UI\", \"Value\": [\"2.16.840.1.114362.1.12289667.25176973841.698218352.160.108\"]}}, {\"00081150\": {\"vr\": \"UI\", \"Value\": [\"1.2.840.10008.5.1.4.1.1.2\"]}, \"00081155\": {\"vr\": \"UI\", \"Value\": [\"2.16.840.1.114362.1.12289667.25176973841.698218352.160.109\"]}}, {\"00081150\": {\"vr\": \"UI\", \"Value\": [\"1.2.840.10008.5.1.4.1.1.2\"]}, \"00081155\": {\"vr\": \"UI\", \"Value\": [\"2.16.840.1.114362.1.12289667.25176973841.698218352.160.110\"]}}, {\"00081150\": {\"vr\": \"UI\", \"Value\": [\"1.2.840.10008.5.1.4.1.1.2\"]}, \"00081155\": {\"vr\": \"UI\", \"Value\": [\"2.16.840.1.114362.1.12289667.25176973841.698218352.160.111\"]}}, {\"00081150\": {\"vr\": \"UI\", \"Value\": [\"1.2.840.10008.5.1.4.1.1.2\"]}, \"00081155\": {\"vr\": \"UI\", \"Value\": [\"2.16.840.1.114362.1.12289667.25176973841.698218352.160.112\"]}}, {\"00081150\": {\"vr\": \"UI\", \"Value\": [\"1.2.840.10008.5.1.4.1.1.2\"]}, \"00081155\": {\"vr\": \"UI\", \"Value\": [\"2.16.840.1.114362.1.12289667.25176973841.698218352.161.113\"]}}, {\"00081150\": {\"vr\": \"UI\", \"Value\": [\"1.2.840.10008.5.1.4.1.1.2\"]}, \"00081155\": {\"vr\": \"UI\", \"Value\": [\"2.16.840.1.114362.1.12289667.25176973841.698218352.161.114\"]}}, {\"00081150\": {\"vr\": \"UI\", \"Value\": [\"1.2.840.10008.5.1.4.1.1.2\"]}, \"00081155\": {\"vr\": \"UI\", \"Value\": [\"2.16.840.1.114362.1.12289667.25176973841.698218352.161.115\"]}}, {\"00081150\": {\"vr\": \"UI\", \"Value\": [\"1.2.840.10008.5.1.4.1.1.2\"]}, \"00081155\": {\"vr\": \"UI\", \"Value\": [\"2.16.840.1.114362.1.12289667.25176973841.698218352.161.116\"]}}, {\"00081150\": {\"vr\": \"UI\", \"Value\": [\"1.2.840.10008.5.1.4.1.1.2\"]}, \"00081155\": {\"vr\": \"UI\", \"Value\": [\"2.16.840.1.114362.1.12289667.25176973841.698218352.161.117\"]}}, {\"00081150\": {\"vr\": \"UI\", \"Value\": [\"1.2.840.10008.5.1.4.1.1.2\"]}, \"00081155\": {\"vr\": \"UI\", \"Value\": [\"2.16.840.1.114362.1.12289667.25176973841.698218352.161.118\"]}}, {\"00081150\": {\"vr\": \"UI\", \"Value\": [\"1.2.840.10008.5.1.4.1.1.2\"]}, \"00081155\": {\"vr\": \"UI\", \"Value\": [\"2.16.840.1.114362.1.12289667.25176973841.698218352.161.119\"]}}, {\"00081150\": {\"vr\": \"UI\", \"Value\": [\"1.2.840.10008.5.1.4.1.1.2\"]}, \"00081155\": {\"vr\": \"UI\", \"Value\": [\"2.16.840.1.114362.1.12289667.25176973841.698218352.161.120\"]}}, {\"00081150\": {\"vr\": \"UI\", \"Value\": [\"1.2.840.10008.5.1.4.1.1.2\"]}, \"00081155\": {\"vr\": \"UI\", \"Value\": [\"2.16.840.1.114362.1.12289667.25176973841.698218352.161.121\"]}}, {\"00081150\": {\"vr\": \"UI\", \"Value\": [\"1.2.840.10008.5.1.4.1.1.2\"]}, \"00081155\": {\"vr\": \"UI\", \"Value\": [\"2.16.840.1.114362.1.12289667.25176973841.698218352.161.122\"]}}, {\"00081150\": {\"vr\": \"UI\", \"Value\": [\"1.2.840.10008.5.1.4.1.1.2\"]}, \"00081155\": {\"vr\": \"UI\", \"Value\": [\"2.16.840.1.114362.1.12289667.25176973841.698218352.161.123\"]}}, {\"00081150\": {\"vr\": \"UI\", \"Value\": [\"1.2.840.10008.5.1.4.1.1.2\"]}, \"00081155\": {\"vr\": \"UI\", \"Value\": [\"2.16.840.1.114362.1.12289667.25176973841.698218352.161.124\"]}}, {\"00081150\": {\"vr\": \"UI\", \"Value\": [\"1.2.840.10008.5.1.4.1.1.2\"]}, \"00081155\": {\"vr\": \"UI\", \"Value\": [\"2.16.840.1.114362.1.12289667.25176973841.698218352.161.125\"]}}, {\"00081150\": {\"vr\": \"UI\", \"Value\": [\"1.2.840.10008.5.1.4.1.1.2\"]}, \"00081155\": {\"vr\": \"UI\", \"Value\": [\"2.16.840.1.114362.1.12289667.25176973841.698218352.161.126\"]}}, {\"00081150\": {\"vr\": \"UI\", \"Value\": [\"1.2.840.10008.5.1.4.1.1.2\"]}, \"00081155\": {\"vr\": \"UI\", \"Value\": [\"2.16.840.1.114362.1.12289667.25176973841.698218352.161.127\"]}}, {\"00081150\": {\"vr\": \"UI\", \"Value\": [\"1.2.840.10008.5.1.4.1.1.2\"]}, \"00081155\": {\"vr\": \"UI\", \"Value\": [\"2.16.840.1.114362.1.12289667.25176973841.698218352.161.128\"]}}, {\"00081150\": {\"vr\": \"UI\", \"Value\": [\"1.2.840.10008.5.1.4.1.1.2\"]}, \"00081155\": {\"vr\": \"UI\", \"Value\": [\"2.16.840.1.114362.1.12289667.25176973841.698218352.161.129\"]}}, {\"00081150\": {\"vr\": \"UI\", \"Value\": [\"1.2.840.10008.5.1.4.1.1.2\"]}, \"00081155\": {\"vr\": \"UI\", \"Value\": [\"2.16.840.1.114362.1.12289667.25176973841.698218352.161.130\"]}}, {\"00081150\": {\"vr\": \"UI\", \"Value\": [\"1.2.840.10008.5.1.4.1.1.2\"]}, \"00081155\": {\"vr\": \"UI\", \"Value\": [\"2.16.840.1.114362.1.12289667.25176973841.698218352.161.131\"]}}, {\"00081150\": {\"vr\": \"UI\", \"Value\": [\"1.2.840.10008.5.1.4.1.1.2\"]}, \"00081155\": {\"vr\": \"UI\", \"Value\": [\"2.16.840.1.114362.1.12289667.25176973841.698218352.161.132\"]}}, {\"00081150\": {\"vr\": \"UI\", \"Value\": [\"1.2.840.10008.5.1.4.1.1.2\"]}, \"00081155\": {\"vr\": \"UI\", \"Value\": [\"2.16.840.1.114362.1.12289667.25176973841.698218352.161.133\"]}}, {\"00081150\": {\"vr\": \"UI\", \"Value\": [\"1.2.840.10008.5.1.4.1.1.2\"]}, \"00081155\": {\"vr\": \"UI\", \"Value\": [\"2.16.840.1.114362.1.12289667.25176973841.698218352.161.134\"]}}, {\"00081150\": {\"vr\": \"UI\", \"Value\": [\"1.2.840.10008.5.1.4.1.1.2\"]}, \"00081155\": {\"vr\": \"UI\", \"Value\": [\"2.16.840.1.114362.1.12289667.25176973841.698218352.161.135\"]}}, {\"00081150\": {\"vr\": \"UI\", \"Value\": [\"1.2.840.10008.5.1.4.1.1.2\"]}, \"00081155\": {\"vr\": \"UI\", \"Value\": [\"2.16.840.1.114362.1.12289667.25176973841.698218352.161.136\"]}}, {\"00081150\": {\"vr\": \"UI\", \"Value\": [\"1.2.840.10008.5.1.4.1.1.2\"]}, \"00081155\": {\"vr\": \"UI\", \"Value\": [\"2.16.840.1.114362.1.12289667.25176973841.698218352.161.137\"]}}, {\"00081150\": {\"vr\": \"UI\", \"Value\": [\"1.2.840.10008.5.1.4.1.1.2\"]}, \"00081155\": {\"vr\": \"UI\", \"Value\": [\"2.16.840.1.114362.1.12289667.25176973841.698218352.161.138\"]}}, {\"00081150\": {\"vr\": \"UI\", \"Value\": [\"1.2.840.10008.5.1.4.1.1.2\"]}, \"00081155\": {\"vr\": \"UI\", \"Value\": [\"2.16.840.1.114362.1.12289667.25176973841.698218352.161.139\"]}}, {\"00081150\": {\"vr\": \"UI\", \"Value\": [\"1.2.840.10008.5.1.4.1.1.2\"]}, \"00081155\": {\"vr\": \"UI\", \"Value\": [\"2.16.840.1.114362.1.12289667.25176973841.698218352.161.140\"]}}, {\"00081150\": {\"vr\": \"UI\", \"Value\": [\"1.2.840.10008.5.1.4.1.1.2\"]}, \"00081155\": {\"vr\": \"UI\", \"Value\": [\"2.16.840.1.114362.1.12289667.25176973841.698218352.161.141\"]}}, {\"00081150\": {\"vr\": \"UI\", \"Value\": [\"1.2.840.10008.5.1.4.1.1.2\"]}, \"00081155\": {\"vr\": \"UI\", \"Value\": [\"2.16.840.1.114362.1.12289667.25176973841.698218352.161.142\"]}}, {\"00081150\": {\"vr\": \"UI\", \"Value\": [\"1.2.840.10008.5.1.4.1.1.2\"]}, \"00081155\": {\"vr\": \"UI\", \"Value\": [\"2.16.840.1.114362.1.12289667.25176973841.698218352.161.143\"]}}, {\"00081150\": {\"vr\": \"UI\", \"Value\": [\"1.2.840.10008.5.1.4.1.1.2\"]}, \"00081155\": {\"vr\": \"UI\", \"Value\": [\"2.16.840.1.114362.1.12289667.25176973841.698218352.161.144\"]}}, {\"00081150\": {\"vr\": \"UI\", \"Value\": [\"1.2.840.10008.5.1.4.1.1.2\"]}, \"00081155\": {\"vr\": \"UI\", \"Value\": [\"2.16.840.1.114362.1.12289667.25176973841.698218352.161.145\"]}}, {\"00081150\": {\"vr\": \"UI\", \"Value\": [\"1.2.840.10008.5.1.4.1.1.2\"]}, \"00081155\": {\"vr\": \"UI\", \"Value\": [\"2.16.840.1.114362.1.12289667.25176973841.698218352.161.146\"]}}, {\"00081150\": {\"vr\": \"UI\", \"Value\": [\"1.2.840.10008.5.1.4.1.1.2\"]}, \"00081155\": {\"vr\": \"UI\", \"Value\": [\"2.16.840.1.114362.1.12289667.25176973841.698218352.161.147\"]}}, {\"00081150\": {\"vr\": \"UI\", \"Value\": [\"1.2.840.10008.5.1.4.1.1.2\"]}, \"00081155\": {\"vr\": \"UI\", \"Value\": [\"2.16.840.1.114362.1.12289667.25176973841.698218352.161.148\"]}}, {\"00081150\": {\"vr\": \"UI\", \"Value\": [\"1.2.840.10008.5.1.4.1.1.2\"]}, \"00081155\": {\"vr\": \"UI\", \"Value\": [\"2.16.840.1.114362.1.12289667.25176973841.698218352.161.149\"]}}, {\"00081150\": {\"vr\": \"UI\", \"Value\": [\"1.2.840.10008.5.1.4.1.1.2\"]}, \"00081155\": {\"vr\": \"UI\", \"Value\": [\"2.16.840.1.114362.1.12289667.25176973841.698218352.161.150\"]}}, {\"00081150\": {\"vr\": \"UI\", \"Value\": [\"1.2.840.10008.5.1.4.1.1.2\"]}, \"00081155\": {\"vr\": \"UI\", \"Value\": [\"2.16.840.1.114362.1.12289667.25176973841.698218352.161.151\"]}}, {\"00081150\": {\"vr\": \"UI\", \"Value\": [\"1.2.840.10008.5.1.4.1.1.2\"]}, \"00081155\": {\"vr\": \"UI\", \"Value\": [\"2.16.840.1.114362.1.12289667.25176973841.698218352.161.152\"]}}, {\"00081150\": {\"vr\": \"UI\", \"Value\": [\"1.2.840.10008.5.1.4.1.1.2\"]}, \"00081155\": {\"vr\": \"UI\", \"Value\": [\"2.16.840.1.114362.1.12289667.25176973841.698218352.161.153\"]}}, {\"00081150\": {\"vr\": \"UI\", \"Value\": [\"1.2.840.10008.5.1.4.1.1.2\"]}, \"00081155\": {\"vr\": \"UI\", \"Value\": [\"2.16.840.1.114362.1.12289667.25176973841.698218352.161.154\"]}}, {\"00081150\": {\"vr\": \"UI\", \"Value\": [\"1.2.840.10008.5.1.4.1.1.2\"]}, \"00081155\": {\"vr\": \"UI\", \"Value\": [\"2.16.840.1.114362.1.12289667.25176973841.698218352.161.155\"]}}, {\"00081150\": {\"vr\": \"UI\", \"Value\": [\"1.2.840.10008.5.1.4.1.1.2\"]}, \"00081155\": {\"vr\": \"UI\", \"Value\": [\"2.16.840.1.114362.1.12289667.25176973841.698218352.161.156\"]}}]}, \"0020000E\": {\"vr\": \"UI\", \"Value\": [\"2.16.840.1.114362.1.12289667.25176973841.698218352.158.4\"]}}]}, \"0020000D\": {\"vr\": \"UI\", \"Value\": [\"2.16.840.1.114362.1.12289667.25176973841.698218352.161.157\"]}}]}, \"00100010\": {\"vr\": \"PN\", \"Value\": [{\"Alphabetic\": \"DOE^JOHN\"}]}, \"00100020\": {\"vr\": \"LO\", \"Value\": [\"ANON30013\"]}, \"00100030\": {\"vr\": \"DA\"}, \"00100040\": {\"vr\": \"CS\", \"Value\": [\"M\"]}, \"00101010\": {\"vr\": \"AS\", \"Value\": [\"067Y\"]}, \"00101020\": {\"vr\": \"DS\", \"Value\": [1.87960374355316]}, \"00101030\": {\"vr\": \"DS\", \"Value\": [110.676551818847]}, \"00120062\": {\"vr\": \"CS\", \"Value\": [\"YES\"]}, \"00120063\": {\"vr\": \"LO\", \"Value\": [\"Limited Data Set: MIM.7.3.5.O117-03\"]}, \"00181020\": {\"vr\": \"LO\", \"Value\": [\"6.8.5\"]}, \"0020000D\": {\"vr\": \"UI\", \"Value\": [\"2.16.840.1.114362.1.12289667.25176973841.698218352.148.2\"]}, \"0020000E\": {\"vr\": \"UI\", \"Value\": [\"2.16.840.1.114362.1.12289667.25176973841.698218352.148.1\"]}, \"00200010\": {\"vr\": \"SH\", \"Value\": [\"ANON30013\"]}, \"00200011\": {\"vr\": \"IS\", \"Value\": [1]}, \"00200013\": {\"vr\": \"IS\", \"Value\": [1]}, \"00200052\": {\"vr\": \"UI\", \"Value\": [\"2.16.840.1.114362.1.12289667.25176973841.698218352.148.3\"]}, \"00201040\": {\"vr\": \"LO\"}, \"00700080\": {\"vr\": \"CS\", \"Value\": [\"REGISTRATION\"]}, \"00700081\": {\"vr\": \"LO\", \"Value\": [\"Fusion Registration\"]}, \"00700084\": {\"vr\": \"PN\"}, \"00700308\": {\"vr\": \"SQ\", \"Value\": [{\"00081140\": {\"vr\": \"SQ\", \"Value\": [{\"00081150\": {\"vr\": \"UI\", \"Value\": [\"1.2.840.10008.5.1.4.1.1.4\"]}, \"00081155\": {\"vr\": \"UI\", \"Value\": [\"2.16.840.1.114362.1.12289667.25176973841.698218352.161.159\"]}}, {\"00081150\": {\"vr\": \"UI\", \"Value\": [\"1.2.840.10008.5.1.4.1.1.4\"]}, \"00081155\": {\"vr\": \"UI\", \"Value\": [\"2.16.840.1.114362.1.12289667.25176973841.698218352.161.160\"]}}, {\"00081150\": {\"vr\": \"UI\", \"Value\": [\"1.2.840.10008.5.1.4.1.1.4\"]}, \"00081155\": {\"vr\": \"UI\", \"Value\": [\"2.16.840.1.114362.1.12289667.25176973841.698218352.161.161\"]}}, {\"00081150\": {\"vr\": \"UI\", \"Value\": [\"1.2.840.10008.5.1.4.1.1.4\"]}, \"00081155\": {\"vr\": \"UI\", \"Value\": [\"2.16.840.1.114362.1.12289667.25176973841.698218352.161.162\"]}}, {\"00081150\": {\"vr\": \"UI\", \"Value\": [\"1.2.840.10008.5.1.4.1.1.4\"]}, \"00081155\": {\"vr\": \"UI\", \"Value\": [\"2.16.840.1.114362.1.12289667.25176973841.698218352.161.163\"]}}, {\"00081150\": {\"vr\": \"UI\", \"Value\": [\"1.2.840.10008.5.1.4.1.1.4\"]}, \"00081155\": {\"vr\": \"UI\", \"Value\": [\"2.16.840.1.114362.1.12289667.25176973841.698218352.161.164\"]}}, {\"00081150\": {\"vr\": \"UI\", \"Value\": [\"1.2.840.10008.5.1.4.1.1.4\"]}, \"00081155\": {\"vr\": \"UI\", \"Value\": [\"2.16.840.1.114362.1.12289667.25176973841.698218352.161.165\"]}}, {\"00081150\": {\"vr\": \"UI\", \"Value\": [\"1.2.840.10008.5.1.4.1.1.4\"]}, \"00081155\": {\"vr\": \"UI\", \"Value\": [\"2.16.840.1.114362.1.12289667.25176973841.698218352.161.166\"]}}, {\"00081150\": {\"vr\": \"UI\", \"Value\": [\"1.2.840.10008.5.1.4.1.1.4\"]}, \"00081155\": {\"vr\": \"UI\", \"Value\": [\"2.16.840.1.114362.1.12289667.25176973841.698218352.161.167\"]}}, {\"00081150\": {\"vr\": \"UI\", \"Value\": [\"1.2.840.10008.5.1.4.1.1.4\"]}, \"00081155\": {\"vr\": \"UI\", \"Value\": [\"2.16.840.1.114362.1.12289667.25176973841.698218352.161.168\"]}}, {\"00081150\": {\"vr\": \"UI\", \"Value\": [\"1.2.840.10008.5.1.4.1.1.4\"]}, \"00081155\": {\"vr\": \"UI\", \"Value\": [\"2.16.840.1.114362.1.12289667.25176973841.698218352.161.169\"]}}, {\"00081150\": {\"vr\": \"UI\", \"Value\": [\"1.2.840.10008.5.1.4.1.1.4\"]}, \"00081155\": {\"vr\": \"UI\", \"Value\": [\"2.16.840.1.114362.1.12289667.25176973841.698218352.161.170\"]}}, {\"00081150\": {\"vr\": \"UI\", \"Value\": [\"1.2.840.10008.5.1.4.1.1.4\"]}, \"00081155\": {\"vr\": \"UI\", \"Value\": [\"2.16.840.1.114362.1.12289667.25176973841.698218352.161.171\"]}}, {\"00081150\": {\"vr\": \"UI\", \"Value\": [\"1.2.840.10008.5.1.4.1.1.4\"]}, \"00081155\": {\"vr\": \"UI\", \"Value\": [\"2.16.840.1.114362.1.12289667.25176973841.698218352.161.172\"]}}, {\"00081150\": {\"vr\": \"UI\", \"Value\": [\"1.2.840.10008.5.1.4.1.1.4\"]}, \"00081155\": {\"vr\": \"UI\", \"Value\": [\"2.16.840.1.114362.1.12289667.25176973841.698218352.161.173\"]}}, {\"00081150\": {\"vr\": \"UI\", \"Value\": [\"1.2.840.10008.5.1.4.1.1.4\"]}, \"00081155\": {\"vr\": \"UI\", \"Value\": [\"2.16.840.1.114362.1.12289667.25176973841.698218352.161.174\"]}}, {\"00081150\": {\"vr\": \"UI\", \"Value\": [\"1.2.840.10008.5.1.4.1.1.4\"]}, \"00081155\": {\"vr\": \"UI\", \"Value\": [\"2.16.840.1.114362.1.12289667.25176973841.698218352.161.175\"]}}, {\"00081150\": {\"vr\": \"UI\", \"Value\": [\"1.2.840.10008.5.1.4.1.1.4\"]}, \"00081155\": {\"vr\": \"UI\", \"Value\": [\"2.16.840.1.114362.1.12289667.25176973841.698218352.161.176\"]}}, {\"00081150\": {\"vr\": \"UI\", \"Value\": [\"1.2.840.10008.5.1.4.1.1.4\"]}, \"00081155\": {\"vr\": \"UI\", \"Value\": [\"2.16.840.1.114362.1.12289667.25176973841.698218352.161.177\"]}}, {\"00081150\": {\"vr\": \"UI\", \"Value\": [\"1.2.840.10008.5.1.4.1.1.4\"]}, \"00081155\": {\"vr\": \"UI\", \"Value\": [\"2.16.840.1.114362.1.12289667.25176973841.698218352.161.178\"]}}, {\"00081150\": {\"vr\": \"UI\", \"Value\": [\"1.2.840.10008.5.1.4.1.1.4\"]}, \"00081155\": {\"vr\": \"UI\", \"Value\": [\"2.16.840.1.114362.1.12289667.25176973841.698218352.161.179\"]}}, {\"00081150\": {\"vr\": \"UI\", \"Value\": [\"1.2.840.10008.5.1.4.1.1.4\"]}, \"00081155\": {\"vr\": \"UI\", \"Value\": [\"2.16.840.1.114362.1.12289667.25176973841.698218352.161.180\"]}}, {\"00081150\": {\"vr\": \"UI\", \"Value\": [\"1.2.840.10008.5.1.4.1.1.4\"]}, \"00081155\": {\"vr\": \"UI\", \"Value\": [\"2.16.840.1.114362.1.12289667.25176973841.698218352.161.181\"]}}, {\"00081150\": {\"vr\": \"UI\", \"Value\": [\"1.2.840.10008.5.1.4.1.1.4\"]}, \"00081155\": {\"vr\": \"UI\", \"Value\": [\"2.16.840.1.114362.1.12289667.25176973841.698218352.161.182\"]}}, {\"00081150\": {\"vr\": \"UI\", \"Value\": [\"1.2.840.10008.5.1.4.1.1.4\"]}, \"00081155\": {\"vr\": \"UI\", \"Value\": [\"2.16.840.1.114362.1.12289667.25176973841.698218352.161.183\"]}}, {\"00081150\": {\"vr\": \"UI\", \"Value\": [\"1.2.840.10008.5.1.4.1.1.4\"]}, \"00081155\": {\"vr\": \"UI\", \"Value\": [\"2.16.840.1.114362.1.12289667.25176973841.698218352.161.184\"]}}, {\"00081150\": {\"vr\": \"UI\", \"Value\": [\"1.2.840.10008.5.1.4.1.1.4\"]}, \"00081155\": {\"vr\": \"UI\", \"Value\": [\"2.16.840.1.114362.1.12289667.25176973841.698218352.161.185\"]}}, {\"00081150\": {\"vr\": \"UI\", \"Value\": [\"1.2.840.10008.5.1.4.1.1.4\"]}, \"00081155\": {\"vr\": \"UI\", \"Value\": [\"2.16.840.1.114362.1.12289667.25176973841.698218352.161.186\"]}}, {\"00081150\": {\"vr\": \"UI\", \"Value\": [\"1.2.840.10008.5.1.4.1.1.4\"]}, \"00081155\": {\"vr\": \"UI\", \"Value\": [\"2.16.840.1.114362.1.12289667.25176973841.698218352.161.187\"]}}, {\"00081150\": {\"vr\": \"UI\", \"Value\": [\"1.2.840.10008.5.1.4.1.1.4\"]}, \"00081155\": {\"vr\": \"UI\", \"Value\": [\"2.16.840.1.114362.1.12289667.25176973841.698218352.161.188\"]}}, {\"00081150\": {\"vr\": \"UI\", \"Value\": [\"1.2.840.10008.5.1.4.1.1.4\"]}, \"00081155\": {\"vr\": \"UI\", \"Value\": [\"2.16.840.1.114362.1.12289667.25176973841.698218352.161.189\"]}}, {\"00081150\": {\"vr\": \"UI\", \"Value\": [\"1.2.840.10008.5.1.4.1.1.4\"]}, \"00081155\": {\"vr\": \"UI\", \"Value\": [\"2.16.840.1.114362.1.12289667.25176973841.698218352.161.190\"]}}, {\"00081150\": {\"vr\": \"UI\", \"Value\": [\"1.2.840.10008.5.1.4.1.1.4\"]}, \"00081155\": {\"vr\": \"UI\", \"Value\": [\"2.16.840.1.114362.1.12289667.25176973841.698218352.161.191\"]}}, {\"00081150\": {\"vr\": \"UI\", \"Value\": [\"1.2.840.10008.5.1.4.1.1.4\"]}, \"00081155\": {\"vr\": \"UI\", \"Value\": [\"2.16.840.1.114362.1.12289667.25176973841.698218352.161.192\"]}}, {\"00081150\": {\"vr\": \"UI\", \"Value\": [\"1.2.840.10008.5.1.4.1.1.4\"]}, \"00081155\": {\"vr\": \"UI\", \"Value\": [\"2.16.840.1.114362.1.12289667.25176973841.698218352.161.193\"]}}, {\"00081150\": {\"vr\": \"UI\", \"Value\": [\"1.2.840.10008.5.1.4.1.1.4\"]}, \"00081155\": {\"vr\": \"UI\", \"Value\": [\"2.16.840.1.114362.1.12289667.25176973841.698218352.161.194\"]}}, {\"00081150\": {\"vr\": \"UI\", \"Value\": [\"1.2.840.10008.5.1.4.1.1.4\"]}, \"00081155\": {\"vr\": \"UI\", \"Value\": [\"2.16.840.1.114362.1.12289667.25176973841.698218352.161.195\"]}}, {\"00081150\": {\"vr\": \"UI\", \"Value\": [\"1.2.840.10008.5.1.4.1.1.4\"]}, \"00081155\": {\"vr\": \"UI\", \"Value\": [\"2.16.840.1.114362.1.12289667.25176973841.698218352.161.196\"]}}, {\"00081150\": {\"vr\": \"UI\", \"Value\": [\"1.2.840.10008.5.1.4.1.1.4\"]}, \"00081155\": {\"vr\": \"UI\", \"Value\": [\"2.16.840.1.114362.1.12289667.25176973841.698218352.161.197\"]}}, {\"00081150\": {\"vr\": \"UI\", \"Value\": [\"1.2.840.10008.5.1.4.1.1.4\"]}, \"00081155\": {\"vr\": \"UI\", \"Value\": [\"2.16.840.1.114362.1.12289667.25176973841.698218352.161.198\"]}}, {\"00081150\": {\"vr\": \"UI\", \"Value\": [\"1.2.840.10008.5.1.4.1.1.4\"]}, \"00081155\": {\"vr\": \"UI\", \"Value\": [\"2.16.840.1.114362.1.12289667.25176973841.698218352.161.199\"]}}, {\"00081150\": {\"vr\": \"UI\", \"Value\": [\"1.2.840.10008.5.1.4.1.1.4\"]}, \"00081155\": {\"vr\": \"UI\", \"Value\": [\"2.16.840.1.114362.1.12289667.25176973841.698218352.161.200\"]}}, {\"00081150\": {\"vr\": \"UI\", \"Value\": [\"1.2.840.10008.5.1.4.1.1.4\"]}, \"00081155\": {\"vr\": \"UI\", \"Value\": [\"2.16.840.1.114362.1.12289667.25176973841.698218352.161.201\"]}}, {\"00081150\": {\"vr\": \"UI\", \"Value\": [\"1.2.840.10008.5.1.4.1.1.4\"]}, \"00081155\": {\"vr\": \"UI\", \"Value\": [\"2.16.840.1.114362.1.12289667.25176973841.698218352.161.202\"]}}, {\"00081150\": {\"vr\": \"UI\", \"Value\": [\"1.2.840.10008.5.1.4.1.1.4\"]}, \"00081155\": {\"vr\": \"UI\", \"Value\": [\"2.16.840.1.114362.1.12289667.25176973841.698218352.161.203\"]}}, {\"00081150\": {\"vr\": \"UI\", \"Value\": [\"1.2.840.10008.5.1.4.1.1.4\"]}, \"00081155\": {\"vr\": \"UI\", \"Value\": [\"2.16.840.1.114362.1.12289667.25176973841.698218352.161.204\"]}}, {\"00081150\": {\"vr\": \"UI\", \"Value\": [\"1.2.840.10008.5.1.4.1.1.4\"]}, \"00081155\": {\"vr\": \"UI\", \"Value\": [\"2.16.840.1.114362.1.12289667.25176973841.698218352.161.205\"]}}, {\"00081150\": {\"vr\": \"UI\", \"Value\": [\"1.2.840.10008.5.1.4.1.1.4\"]}, \"00081155\": {\"vr\": \"UI\", \"Value\": [\"2.16.840.1.114362.1.12289667.25176973841.698218352.161.206\"]}}, {\"00081150\": {\"vr\": \"UI\", \"Value\": [\"1.2.840.10008.5.1.4.1.1.4\"]}, \"00081155\": {\"vr\": \"UI\", \"Value\": [\"2.16.840.1.114362.1.12289667.25176973841.698218352.161.207\"]}}, {\"00081150\": {\"vr\": \"UI\", \"Value\": [\"1.2.840.10008.5.1.4.1.1.4\"]}, \"00081155\": {\"vr\": \"UI\", \"Value\": [\"2.16.840.1.114362.1.12289667.25176973841.698218352.161.208\"]}}, {\"00081150\": {\"vr\": \"UI\", \"Value\": [\"1.2.840.10008.5.1.4.1.1.4\"]}, \"00081155\": {\"vr\": \"UI\", \"Value\": [\"2.16.840.1.114362.1.12289667.25176973841.698218352.161.209\"]}}, {\"00081150\": {\"vr\": \"UI\", \"Value\": [\"1.2.840.10008.5.1.4.1.1.4\"]}, \"00081155\": {\"vr\": \"UI\", \"Value\": [\"2.16.840.1.114362.1.12289667.25176973841.698218352.161.210\"]}}, {\"00081150\": {\"vr\": \"UI\", \"Value\": [\"1.2.840.10008.5.1.4.1.1.4\"]}, \"00081155\": {\"vr\": \"UI\", \"Value\": [\"2.16.840.1.114362.1.12289667.25176973841.698218352.161.211\"]}}, {\"00081150\": {\"vr\": \"UI\", \"Value\": [\"1.2.840.10008.5.1.4.1.1.4\"]}, \"00081155\": {\"vr\": \"UI\", \"Value\": [\"2.16.840.1.114362.1.12289667.25176973841.698218352.161.212\"]}}, {\"00081150\": {\"vr\": \"UI\", \"Value\": [\"1.2.840.10008.5.1.4.1.1.4\"]}, \"00081155\": {\"vr\": \"UI\", \"Value\": [\"2.16.840.1.114362.1.12289667.25176973841.698218352.161.213\"]}}, {\"00081150\": {\"vr\": \"UI\", \"Value\": [\"1.2.840.10008.5.1.4.1.1.4\"]}, \"00081155\": {\"vr\": \"UI\", \"Value\": [\"2.16.840.1.114362.1.12289667.25176973841.698218352.161.214\"]}}, {\"00081150\": {\"vr\": \"UI\", \"Value\": [\"1.2.840.10008.5.1.4.1.1.4\"]}, \"00081155\": {\"vr\": \"UI\", \"Value\": [\"2.16.840.1.114362.1.12289667.25176973841.698218352.161.215\"]}}, {\"00081150\": {\"vr\": \"UI\", \"Value\": [\"1.2.840.10008.5.1.4.1.1.4\"]}, \"00081155\": {\"vr\": \"UI\", \"Value\": [\"2.16.840.1.114362.1.12289667.25176973841.698218352.161.216\"]}}, {\"00081150\": {\"vr\": \"UI\", \"Value\": [\"1.2.840.10008.5.1.4.1.1.4\"]}, \"00081155\": {\"vr\": \"UI\", \"Value\": [\"2.16.840.1.114362.1.12289667.25176973841.698218352.161.217\"]}}, {\"00081150\": {\"vr\": \"UI\", \"Value\": [\"1.2.840.10008.5.1.4.1.1.4\"]}, \"00081155\": {\"vr\": \"UI\", \"Value\": [\"2.16.840.1.114362.1.12289667.25176973841.698218352.161.218\"]}}, {\"00081150\": {\"vr\": \"UI\", \"Value\": [\"1.2.840.10008.5.1.4.1.1.4\"]}, \"00081155\": {\"vr\": \"UI\", \"Value\": [\"2.16.840.1.114362.1.12289667.25176973841.698218352.161.219\"]}}, {\"00081150\": {\"vr\": \"UI\", \"Value\": [\"1.2.840.10008.5.1.4.1.1.4\"]}, \"00081155\": {\"vr\": \"UI\", \"Value\": [\"2.16.840.1.114362.1.12289667.25176973841.698218352.161.220\"]}}, {\"00081150\": {\"vr\": \"UI\", \"Value\": [\"1.2.840.10008.5.1.4.1.1.4\"]}, \"00081155\": {\"vr\": \"UI\", \"Value\": [\"2.16.840.1.114362.1.12289667.25176973841.698218352.161.221\"]}}, {\"00081150\": {\"vr\": \"UI\", \"Value\": [\"1.2.840.10008.5.1.4.1.1.4\"]}, \"00081155\": {\"vr\": \"UI\", \"Value\": [\"2.16.840.1.114362.1.12289667.25176973841.698218352.161.222\"]}}, {\"00081150\": {\"vr\": \"UI\", \"Value\": [\"1.2.840.10008.5.1.4.1.1.4\"]}, \"00081155\": {\"vr\": \"UI\", \"Value\": [\"2.16.840.1.114362.1.12289667.25176973841.698218352.161.223\"]}}, {\"00081150\": {\"vr\": \"UI\", \"Value\": [\"1.2.840.10008.5.1.4.1.1.4\"]}, \"00081155\": {\"vr\": \"UI\", \"Value\": [\"2.16.840.1.114362.1.12289667.25176973841.698218352.161.224\"]}}, {\"00081150\": {\"vr\": \"UI\", \"Value\": [\"1.2.840.10008.5.1.4.1.1.4\"]}, \"00081155\": {\"vr\": \"UI\", \"Value\": [\"2.16.840.1.114362.1.12289667.25176973841.698218352.161.225\"]}}, {\"00081150\": {\"vr\": \"UI\", \"Value\": [\"1.2.840.10008.5.1.4.1.1.4\"]}, \"00081155\": {\"vr\": \"UI\", \"Value\": [\"2.16.840.1.114362.1.12289667.25176973841.698218352.161.226\"]}}, {\"00081150\": {\"vr\": \"UI\", \"Value\": [\"1.2.840.10008.5.1.4.1.1.4\"]}, \"00081155\": {\"vr\": \"UI\", \"Value\": [\"2.16.840.1.114362.1.12289667.25176973841.698218352.161.227\"]}}, {\"00081150\": {\"vr\": \"UI\", \"Value\": [\"1.2.840.10008.5.1.4.1.1.4\"]}, \"00081155\": {\"vr\": \"UI\", \"Value\": [\"2.16.840.1.114362.1.12289667.25176973841.698218352.161.228\"]}}, {\"00081150\": {\"vr\": \"UI\", \"Value\": [\"1.2.840.10008.5.1.4.1.1.4\"]}, \"00081155\": {\"vr\": \"UI\", \"Value\": [\"2.16.840.1.114362.1.12289667.25176973841.698218352.161.229\"]}}, {\"00081150\": {\"vr\": \"UI\", \"Value\": [\"1.2.840.10008.5.1.4.1.1.4\"]}, \"00081155\": {\"vr\": \"UI\", \"Value\": [\"2.16.840.1.114362.1.12289667.25176973841.698218352.161.230\"]}}, {\"00081150\": {\"vr\": \"UI\", \"Value\": [\"1.2.840.10008.5.1.4.1.1.4\"]}, \"00081155\": {\"vr\": \"UI\", \"Value\": [\"2.16.840.1.114362.1.12289667.25176973841.698218352.161.231\"]}}, {\"00081150\": {\"vr\": \"UI\", \"Value\": [\"1.2.840.10008.5.1.4.1.1.4\"]}, \"00081155\": {\"vr\": \"UI\", \"Value\": [\"2.16.840.1.114362.1.12289667.25176973841.698218352.161.232\"]}}, {\"00081150\": {\"vr\": \"UI\", \"Value\": [\"1.2.840.10008.5.1.4.1.1.4\"]}, \"00081155\": {\"vr\": \"UI\", \"Value\": [\"2.16.840.1.114362.1.12289667.25176973841.698218352.161.233\"]}}, {\"00081150\": {\"vr\": \"UI\", \"Value\": [\"1.2.840.10008.5.1.4.1.1.4\"]}, \"00081155\": {\"vr\": \"UI\", \"Value\": [\"2.16.840.1.114362.1.12289667.25176973841.698218352.162.234\"]}}, {\"00081150\": {\"vr\": \"UI\", \"Value\": [\"1.2.840.10008.5.1.4.1.1.4\"]}, \"00081155\": {\"vr\": \"UI\", \"Value\": [\"2.16.840.1.114362.1.12289667.25176973841.698218352.162.235\"]}}, {\"00081150\": {\"vr\": \"UI\", \"Value\": [\"1.2.840.10008.5.1.4.1.1.4\"]}, \"00081155\": {\"vr\": \"UI\", \"Value\": [\"2.16.840.1.114362.1.12289667.25176973841.698218352.162.236\"]}}, {\"00081150\": {\"vr\": \"UI\", \"Value\": [\"1.2.840.10008.5.1.4.1.1.4\"]}, \"00081155\": {\"vr\": \"UI\", \"Value\": [\"2.16.840.1.114362.1.12289667.25176973841.698218352.162.237\"]}}, {\"00081150\": {\"vr\": \"UI\", \"Value\": [\"1.2.840.10008.5.1.4.1.1.4\"]}, \"00081155\": {\"vr\": \"UI\", \"Value\": [\"2.16.840.1.114362.1.12289667.25176973841.698218352.162.238\"]}}, {\"00081150\": {\"vr\": \"UI\", \"Value\": [\"1.2.840.10008.5.1.4.1.1.4\"]}, \"00081155\": {\"vr\": \"UI\", \"Value\": [\"2.16.840.1.114362.1.12289667.25176973841.698218352.162.239\"]}}, {\"00081150\": {\"vr\": \"UI\", \"Value\": [\"1.2.840.10008.5.1.4.1.1.4\"]}, \"00081155\": {\"vr\": \"UI\", \"Value\": [\"2.16.840.1.114362.1.12289667.25176973841.698218352.162.240\"]}}, {\"00081150\": {\"vr\": \"UI\", \"Value\": [\"1.2.840.10008.5.1.4.1.1.4\"]}, \"00081155\": {\"vr\": \"UI\", \"Value\": [\"2.16.840.1.114362.1.12289667.25176973841.698218352.162.241\"]}}, {\"00081150\": {\"vr\": \"UI\", \"Value\": [\"1.2.840.10008.5.1.4.1.1.4\"]}, \"00081155\": {\"vr\": \"UI\", \"Value\": [\"2.16.840.1.114362.1.12289667.25176973841.698218352.162.242\"]}}, {\"00081150\": {\"vr\": \"UI\", \"Value\": [\"1.2.840.10008.5.1.4.1.1.4\"]}, \"00081155\": {\"vr\": \"UI\", \"Value\": [\"2.16.840.1.114362.1.12289667.25176973841.698218352.162.243\"]}}, {\"00081150\": {\"vr\": \"UI\", \"Value\": [\"1.2.840.10008.5.1.4.1.1.4\"]}, \"00081155\": {\"vr\": \"UI\", \"Value\": [\"2.16.840.1.114362.1.12289667.25176973841.698218352.162.244\"]}}, {\"00081150\": {\"vr\": \"UI\", \"Value\": [\"1.2.840.10008.5.1.4.1.1.4\"]}, \"00081155\": {\"vr\": \"UI\", \"Value\": [\"2.16.840.1.114362.1.12289667.25176973841.698218352.162.245\"]}}, {\"00081150\": {\"vr\": \"UI\", \"Value\": [\"1.2.840.10008.5.1.4.1.1.4\"]}, \"00081155\": {\"vr\": \"UI\", \"Value\": [\"2.16.840.1.114362.1.12289667.25176973841.698218352.162.246\"]}}, {\"00081150\": {\"vr\": \"UI\", \"Value\": [\"1.2.840.10008.5.1.4.1.1.4\"]}, \"00081155\": {\"vr\": \"UI\", \"Value\": [\"2.16.840.1.114362.1.12289667.25176973841.698218352.162.247\"]}}, {\"00081150\": {\"vr\": \"UI\", \"Value\": [\"1.2.840.10008.5.1.4.1.1.4\"]}, \"00081155\": {\"vr\": \"UI\", \"Value\": [\"2.16.840.1.114362.1.12289667.25176973841.698218352.162.248\"]}}, {\"00081150\": {\"vr\": \"UI\", \"Value\": [\"1.2.840.10008.5.1.4.1.1.4\"]}, \"00081155\": {\"vr\": \"UI\", \"Value\": [\"2.16.840.1.114362.1.12289667.25176973841.698218352.162.249\"]}}, {\"00081150\": {\"vr\": \"UI\", \"Value\": [\"1.2.840.10008.5.1.4.1.1.4\"]}, \"00081155\": {\"vr\": \"UI\", \"Value\": [\"2.16.840.1.114362.1.12289667.25176973841.698218352.162.250\"]}}, {\"00081150\": {\"vr\": \"UI\", \"Value\": [\"1.2.840.10008.5.1.4.1.1.4\"]}, \"00081155\": {\"vr\": \"UI\", \"Value\": [\"2.16.840.1.114362.1.12289667.25176973841.698218352.162.251\"]}}, {\"00081150\": {\"vr\": \"UI\", \"Value\": [\"1.2.840.10008.5.1.4.1.1.4\"]}, \"00081155\": {\"vr\": \"UI\", \"Value\": [\"2.16.840.1.114362.1.12289667.25176973841.698218352.162.252\"]}}, {\"00081150\": {\"vr\": \"UI\", \"Value\": [\"1.2.840.10008.5.1.4.1.1.4\"]}, \"00081155\": {\"vr\": \"UI\", \"Value\": [\"2.16.840.1.114362.1.12289667.25176973841.698218352.162.253\"]}}, {\"00081150\": {\"vr\": \"UI\", \"Value\": [\"1.2.840.10008.5.1.4.1.1.4\"]}, \"00081155\": {\"vr\": \"UI\", \"Value\": [\"2.16.840.1.114362.1.12289667.25176973841.698218352.162.254\"]}}, {\"00081150\": {\"vr\": \"UI\", \"Value\": [\"1.2.840.10008.5.1.4.1.1.4\"]}, \"00081155\": {\"vr\": \"UI\", \"Value\": [\"2.16.840.1.114362.1.12289667.25176973841.698218352.162.255\"]}}, {\"00081150\": {\"vr\": \"UI\", \"Value\": [\"1.2.840.10008.5.1.4.1.1.4\"]}, \"00081155\": {\"vr\": \"UI\", \"Value\": [\"2.16.840.1.114362.1.12289667.25176973841.698218352.162.256\"]}}, {\"00081150\": {\"vr\": \"UI\", \"Value\": [\"1.2.840.10008.5.1.4.1.1.4\"]}, \"00081155\": {\"vr\": \"UI\", \"Value\": [\"2.16.840.1.114362.1.12289667.25176973841.698218352.162.257\"]}}, {\"00081150\": {\"vr\": \"UI\", \"Value\": [\"1.2.840.10008.5.1.4.1.1.4\"]}, \"00081155\": {\"vr\": \"UI\", \"Value\": [\"2.16.840.1.114362.1.12289667.25176973841.698218352.162.258\"]}}, {\"00081150\": {\"vr\": \"UI\", \"Value\": [\"1.2.840.10008.5.1.4.1.1.4\"]}, \"00081155\": {\"vr\": \"UI\", \"Value\": [\"2.16.840.1.114362.1.12289667.25176973841.698218352.162.259\"]}}, {\"00081150\": {\"vr\": \"UI\", \"Value\": [\"1.2.840.10008.5.1.4.1.1.4\"]}, \"00081155\": {\"vr\": \"UI\", \"Value\": [\"2.16.840.1.114362.1.12289667.25176973841.698218352.162.260\"]}}, {\"00081150\": {\"vr\": \"UI\", \"Value\": [\"1.2.840.10008.5.1.4.1.1.4\"]}, \"00081155\": {\"vr\": \"UI\", \"Value\": [\"2.16.840.1.114362.1.12289667.25176973841.698218352.162.261\"]}}, {\"00081150\": {\"vr\": \"UI\", \"Value\": [\"1.2.840.10008.5.1.4.1.1.4\"]}, \"00081155\": {\"vr\": \"UI\", \"Value\": [\"2.16.840.1.114362.1.12289667.25176973841.698218352.162.262\"]}}, {\"00081150\": {\"vr\": \"UI\", \"Value\": [\"1.2.840.10008.5.1.4.1.1.4\"]}, \"00081155\": {\"vr\": \"UI\", \"Value\": [\"2.16.840.1.114362.1.12289667.25176973841.698218352.162.263\"]}}, {\"00081150\": {\"vr\": \"UI\", \"Value\": [\"1.2.840.10008.5.1.4.1.1.4\"]}, \"00081155\": {\"vr\": \"UI\", \"Value\": [\"2.16.840.1.114362.1.12289667.25176973841.698218352.162.264\"]}}, {\"00081150\": {\"vr\": \"UI\", \"Value\": [\"1.2.840.10008.5.1.4.1.1.4\"]}, \"00081155\": {\"vr\": \"UI\", \"Value\": [\"2.16.840.1.114362.1.12289667.25176973841.698218352.162.265\"]}}, {\"00081150\": {\"vr\": \"UI\", \"Value\": [\"1.2.840.10008.5.1.4.1.1.4\"]}, \"00081155\": {\"vr\": \"UI\", \"Value\": [\"2.16.840.1.114362.1.12289667.25176973841.698218352.162.266\"]}}, {\"00081150\": {\"vr\": \"UI\", \"Value\": [\"1.2.840.10008.5.1.4.1.1.4\"]}, \"00081155\": {\"vr\": \"UI\", \"Value\": [\"2.16.840.1.114362.1.12289667.25176973841.698218352.162.267\"]}}, {\"00081150\": {\"vr\": \"UI\", \"Value\": [\"1.2.840.10008.5.1.4.1.1.4\"]}, \"00081155\": {\"vr\": \"UI\", \"Value\": [\"2.16.840.1.114362.1.12289667.25176973841.698218352.162.268\"]}}, {\"00081150\": {\"vr\": \"UI\", \"Value\": [\"1.2.840.10008.5.1.4.1.1.4\"]}, \"00081155\": {\"vr\": \"UI\", \"Value\": [\"2.16.840.1.114362.1.12289667.25176973841.698218352.162.269\"]}}, {\"00081150\": {\"vr\": \"UI\", \"Value\": [\"1.2.840.10008.5.1.4.1.1.4\"]}, \"00081155\": {\"vr\": \"UI\", \"Value\": [\"2.16.840.1.114362.1.12289667.25176973841.698218352.162.270\"]}}, {\"00081150\": {\"vr\": \"UI\", \"Value\": [\"1.2.840.10008.5.1.4.1.1.4\"]}, \"00081155\": {\"vr\": \"UI\", \"Value\": [\"2.16.840.1.114362.1.12289667.25176973841.698218352.162.271\"]}}, {\"00081150\": {\"vr\": \"UI\", \"Value\": [\"1.2.840.10008.5.1.4.1.1.4\"]}, \"00081155\": {\"vr\": \"UI\", \"Value\": [\"2.16.840.1.114362.1.12289667.25176973841.698218352.162.272\"]}}, {\"00081150\": {\"vr\": \"UI\", \"Value\": [\"1.2.840.10008.5.1.4.1.1.4\"]}, \"00081155\": {\"vr\": \"UI\", \"Value\": [\"2.16.840.1.114362.1.12289667.25176973841.698218352.162.273\"]}}, {\"00081150\": {\"vr\": \"UI\", \"Value\": [\"1.2.840.10008.5.1.4.1.1.4\"]}, \"00081155\": {\"vr\": \"UI\", \"Value\": [\"2.16.840.1.114362.1.12289667.25176973841.698218352.162.274\"]}}, {\"00081150\": {\"vr\": \"UI\", \"Value\": [\"1.2.840.10008.5.1.4.1.1.4\"]}, \"00081155\": {\"vr\": \"UI\", \"Value\": [\"2.16.840.1.114362.1.12289667.25176973841.698218352.162.275\"]}}, {\"00081150\": {\"vr\": \"UI\", \"Value\": [\"1.2.840.10008.5.1.4.1.1.4\"]}, \"00081155\": {\"vr\": \"UI\", \"Value\": [\"2.16.840.1.114362.1.12289667.25176973841.698218352.162.276\"]}}, {\"00081150\": {\"vr\": \"UI\", \"Value\": [\"1.2.840.10008.5.1.4.1.1.4\"]}, \"00081155\": {\"vr\": \"UI\", \"Value\": [\"2.16.840.1.114362.1.12289667.25176973841.698218352.162.277\"]}}, {\"00081150\": {\"vr\": \"UI\", \"Value\": [\"1.2.840.10008.5.1.4.1.1.4\"]}, \"00081155\": {\"vr\": \"UI\", \"Value\": [\"2.16.840.1.114362.1.12289667.25176973841.698218352.162.278\"]}}, {\"00081150\": {\"vr\": \"UI\", \"Value\": [\"1.2.840.10008.5.1.4.1.1.4\"]}, \"00081155\": {\"vr\": \"UI\", \"Value\": [\"2.16.840.1.114362.1.12289667.25176973841.698218352.162.279\"]}}, {\"00081150\": {\"vr\": \"UI\", \"Value\": [\"1.2.840.10008.5.1.4.1.1.4\"]}, \"00081155\": {\"vr\": \"UI\", \"Value\": [\"2.16.840.1.114362.1.12289667.25176973841.698218352.162.280\"]}}, {\"00081150\": {\"vr\": \"UI\", \"Value\": [\"1.2.840.10008.5.1.4.1.1.4\"]}, \"00081155\": {\"vr\": \"UI\", \"Value\": [\"2.16.840.1.114362.1.12289667.25176973841.698218352.162.281\"]}}, {\"00081150\": {\"vr\": \"UI\", \"Value\": [\"1.2.840.10008.5.1.4.1.1.4\"]}, \"00081155\": {\"vr\": \"UI\", \"Value\": [\"2.16.840.1.114362.1.12289667.25176973841.698218352.162.282\"]}}, {\"00081150\": {\"vr\": \"UI\", \"Value\": [\"1.2.840.10008.5.1.4.1.1.4\"]}, \"00081155\": {\"vr\": \"UI\", \"Value\": [\"2.16.840.1.114362.1.12289667.25176973841.698218352.162.283\"]}}, {\"00081150\": {\"vr\": \"UI\", \"Value\": [\"1.2.840.10008.5.1.4.1.1.4\"]}, \"00081155\": {\"vr\": \"UI\", \"Value\": [\"2.16.840.1.114362.1.12289667.25176973841.698218352.162.284\"]}}, {\"00081150\": {\"vr\": \"UI\", \"Value\": [\"1.2.840.10008.5.1.4.1.1.4\"]}, \"00081155\": {\"vr\": \"UI\", \"Value\": [\"2.16.840.1.114362.1.12289667.25176973841.698218352.162.285\"]}}, {\"00081150\": {\"vr\": \"UI\", \"Value\": [\"1.2.840.10008.5.1.4.1.1.4\"]}, \"00081155\": {\"vr\": \"UI\", \"Value\": [\"2.16.840.1.114362.1.12289667.25176973841.698218352.162.286\"]}}, {\"00081150\": {\"vr\": \"UI\", \"Value\": [\"1.2.840.10008.5.1.4.1.1.4\"]}, \"00081155\": {\"vr\": \"UI\", \"Value\": [\"2.16.840.1.114362.1.12289667.25176973841.698218352.162.287\"]}}, {\"00081150\": {\"vr\": \"UI\", \"Value\": [\"1.2.840.10008.5.1.4.1.1.4\"]}, \"00081155\": {\"vr\": \"UI\", \"Value\": [\"2.16.840.1.114362.1.12289667.25176973841.698218352.162.288\"]}}, {\"00081150\": {\"vr\": \"UI\", \"Value\": [\"1.2.840.10008.5.1.4.1.1.4\"]}, \"00081155\": {\"vr\": \"UI\", \"Value\": [\"2.16.840.1.114362.1.12289667.25176973841.698218352.162.289\"]}}, {\"00081150\": {\"vr\": \"UI\", \"Value\": [\"1.2.840.10008.5.1.4.1.1.4\"]}, \"00081155\": {\"vr\": \"UI\", \"Value\": [\"2.16.840.1.114362.1.12289667.25176973841.698218352.163.290\"]}}, {\"00081150\": {\"vr\": \"UI\", \"Value\": [\"1.2.840.10008.5.1.4.1.1.4\"]}, \"00081155\": {\"vr\": \"UI\", \"Value\": [\"2.16.840.1.114362.1.12289667.25176973841.698218352.163.291\"]}}, {\"00081150\": {\"vr\": \"UI\", \"Value\": [\"1.2.840.10008.5.1.4.1.1.4\"]}, \"00081155\": {\"vr\": \"UI\", \"Value\": [\"2.16.840.1.114362.1.12289667.25176973841.698218352.163.292\"]}}, {\"00081150\": {\"vr\": \"UI\", \"Value\": [\"1.2.840.10008.5.1.4.1.1.4\"]}, \"00081155\": {\"vr\": \"UI\", \"Value\": [\"2.16.840.1.114362.1.12289667.25176973841.698218352.163.293\"]}}, {\"00081150\": {\"vr\": \"UI\", \"Value\": [\"1.2.840.10008.5.1.4.1.1.4\"]}, \"00081155\": {\"vr\": \"UI\", \"Value\": [\"2.16.840.1.114362.1.12289667.25176973841.698218352.163.294\"]}}, {\"00081150\": {\"vr\": \"UI\", \"Value\": [\"1.2.840.10008.5.1.4.1.1.4\"]}, \"00081155\": {\"vr\": \"UI\", \"Value\": [\"2.16.840.1.114362.1.12289667.25176973841.698218352.163.295\"]}}, {\"00081150\": {\"vr\": \"UI\", \"Value\": [\"1.2.840.10008.5.1.4.1.1.4\"]}, \"00081155\": {\"vr\": \"UI\", \"Value\": [\"2.16.840.1.114362.1.12289667.25176973841.698218352.163.296\"]}}, {\"00081150\": {\"vr\": \"UI\", \"Value\": [\"1.2.840.10008.5.1.4.1.1.4\"]}, \"00081155\": {\"vr\": \"UI\", \"Value\": [\"2.16.840.1.114362.1.12289667.25176973841.698218352.163.297\"]}}, {\"00081150\": {\"vr\": \"UI\", \"Value\": [\"1.2.840.10008.5.1.4.1.1.4\"]}, \"00081155\": {\"vr\": \"UI\", \"Value\": [\"2.16.840.1.114362.1.12289667.25176973841.698218352.163.298\"]}}, {\"00081150\": {\"vr\": \"UI\", \"Value\": [\"1.2.840.10008.5.1.4.1.1.4\"]}, \"00081155\": {\"vr\": \"UI\", \"Value\": [\"2.16.840.1.114362.1.12289667.25176973841.698218352.163.299\"]}}, {\"00081150\": {\"vr\": \"UI\", \"Value\": [\"1.2.840.10008.5.1.4.1.1.4\"]}, \"00081155\": {\"vr\": \"UI\", \"Value\": [\"2.16.840.1.114362.1.12289667.25176973841.698218352.163.300\"]}}, {\"00081150\": {\"vr\": \"UI\", \"Value\": [\"1.2.840.10008.5.1.4.1.1.4\"]}, \"00081155\": {\"vr\": \"UI\", \"Value\": [\"2.16.840.1.114362.1.12289667.25176973841.698218352.163.301\"]}}, {\"00081150\": {\"vr\": \"UI\", \"Value\": [\"1.2.840.10008.5.1.4.1.1.4\"]}, \"00081155\": {\"vr\": \"UI\", \"Value\": [\"2.16.840.1.114362.1.12289667.25176973841.698218352.163.302\"]}}, {\"00081150\": {\"vr\": \"UI\", \"Value\": [\"1.2.840.10008.5.1.4.1.1.4\"]}, \"00081155\": {\"vr\": \"UI\", \"Value\": [\"2.16.840.1.114362.1.12289667.25176973841.698218352.163.303\"]}}, {\"00081150\": {\"vr\": \"UI\", \"Value\": [\"1.2.840.10008.5.1.4.1.1.4\"]}, \"00081155\": {\"vr\": \"UI\", \"Value\": [\"2.16.840.1.114362.1.12289667.25176973841.698218352.163.304\"]}}, {\"00081150\": {\"vr\": \"UI\", \"Value\": [\"1.2.840.10008.5.1.4.1.1.4\"]}, \"00081155\": {\"vr\": \"UI\", \"Value\": [\"2.16.840.1.114362.1.12289667.25176973841.698218352.163.305\"]}}, {\"00081150\": {\"vr\": \"UI\", \"Value\": [\"1.2.840.10008.5.1.4.1.1.4\"]}, \"00081155\": {\"vr\": \"UI\", \"Value\": [\"2.16.840.1.114362.1.12289667.25176973841.698218352.163.306\"]}}, {\"00081150\": {\"vr\": \"UI\", \"Value\": [\"1.2.840.10008.5.1.4.1.1.4\"]}, \"00081155\": {\"vr\": \"UI\", \"Value\": [\"2.16.840.1.114362.1.12289667.25176973841.698218352.163.307\"]}}, {\"00081150\": {\"vr\": \"UI\", \"Value\": [\"1.2.840.10008.5.1.4.1.1.4\"]}, \"00081155\": {\"vr\": \"UI\", \"Value\": [\"2.16.840.1.114362.1.12289667.25176973841.698218352.163.308\"]}}, {\"00081150\": {\"vr\": \"UI\", \"Value\": [\"1.2.840.10008.5.1.4.1.1.4\"]}, \"00081155\": {\"vr\": \"UI\", \"Value\": [\"2.16.840.1.114362.1.12289667.25176973841.698218352.163.309\"]}}, {\"00081150\": {\"vr\": \"UI\", \"Value\": [\"1.2.840.10008.5.1.4.1.1.4\"]}, \"00081155\": {\"vr\": \"UI\", \"Value\": [\"2.16.840.1.114362.1.12289667.25176973841.698218352.163.310\"]}}, {\"00081150\": {\"vr\": \"UI\", \"Value\": [\"1.2.840.10008.5.1.4.1.1.4\"]}, \"00081155\": {\"vr\": \"UI\", \"Value\": [\"2.16.840.1.114362.1.12289667.25176973841.698218352.163.311\"]}}, {\"00081150\": {\"vr\": \"UI\", \"Value\": [\"1.2.840.10008.5.1.4.1.1.4\"]}, \"00081155\": {\"vr\": \"UI\", \"Value\": [\"2.16.840.1.114362.1.12289667.25176973841.698218352.163.312\"]}}, {\"00081150\": {\"vr\": \"UI\", \"Value\": [\"1.2.840.10008.5.1.4.1.1.4\"]}, \"00081155\": {\"vr\": \"UI\", \"Value\": [\"2.16.840.1.114362.1.12289667.25176973841.698218352.163.313\"]}}, {\"00081150\": {\"vr\": \"UI\", \"Value\": [\"1.2.840.10008.5.1.4.1.1.4\"]}, \"00081155\": {\"vr\": \"UI\", \"Value\": [\"2.16.840.1.114362.1.12289667.25176973841.698218352.163.314\"]}}, {\"00081150\": {\"vr\": \"UI\", \"Value\": [\"1.2.840.10008.5.1.4.1.1.4\"]}, \"00081155\": {\"vr\": \"UI\", \"Value\": [\"2.16.840.1.114362.1.12289667.25176973841.698218352.163.315\"]}}, {\"00081150\": {\"vr\": \"UI\", \"Value\": [\"1.2.840.10008.5.1.4.1.1.4\"]}, \"00081155\": {\"vr\": \"UI\", \"Value\": [\"2.16.840.1.114362.1.12289667.25176973841.698218352.163.316\"]}}, {\"00081150\": {\"vr\": \"UI\", \"Value\": [\"1.2.840.10008.5.1.4.1.1.4\"]}, \"00081155\": {\"vr\": \"UI\", \"Value\": [\"2.16.840.1.114362.1.12289667.25176973841.698218352.163.317\"]}}, {\"00081150\": {\"vr\": \"UI\", \"Value\": [\"1.2.840.10008.5.1.4.1.1.4\"]}, \"00081155\": {\"vr\": \"UI\", \"Value\": [\"2.16.840.1.114362.1.12289667.25176973841.698218352.163.318\"]}}, {\"00081150\": {\"vr\": \"UI\", \"Value\": [\"1.2.840.10008.5.1.4.1.1.4\"]}, \"00081155\": {\"vr\": \"UI\", \"Value\": [\"2.16.840.1.114362.1.12289667.25176973841.698218352.163.319\"]}}, {\"00081150\": {\"vr\": \"UI\", \"Value\": [\"1.2.840.10008.5.1.4.1.1.4\"]}, \"00081155\": {\"vr\": \"UI\", \"Value\": [\"2.16.840.1.114362.1.12289667.25176973841.698218352.163.320\"]}}, {\"00081150\": {\"vr\": \"UI\", \"Value\": [\"1.2.840.10008.5.1.4.1.1.4\"]}, \"00081155\": {\"vr\": \"UI\", \"Value\": [\"2.16.840.1.114362.1.12289667.25176973841.698218352.163.321\"]}}, {\"00081150\": {\"vr\": \"UI\", \"Value\": [\"1.2.840.10008.5.1.4.1.1.4\"]}, \"00081155\": {\"vr\": \"UI\", \"Value\": [\"2.16.840.1.114362.1.12289667.25176973841.698218352.163.322\"]}}, {\"00081150\": {\"vr\": \"UI\", \"Value\": [\"1.2.840.10008.5.1.4.1.1.4\"]}, \"00081155\": {\"vr\": \"UI\", \"Value\": [\"2.16.840.1.114362.1.12289667.25176973841.698218352.163.323\"]}}, {\"00081150\": {\"vr\": \"UI\", \"Value\": [\"1.2.840.10008.5.1.4.1.1.4\"]}, \"00081155\": {\"vr\": \"UI\", \"Value\": [\"2.16.840.1.114362.1.12289667.25176973841.698218352.163.324\"]}}, {\"00081150\": {\"vr\": \"UI\", \"Value\": [\"1.2.840.10008.5.1.4.1.1.4\"]}, \"00081155\": {\"vr\": \"UI\", \"Value\": [\"2.16.840.1.114362.1.12289667.25176973841.698218352.163.325\"]}}, {\"00081150\": {\"vr\": \"UI\", \"Value\": [\"1.2.840.10008.5.1.4.1.1.4\"]}, \"00081155\": {\"vr\": \"UI\", \"Value\": [\"2.16.840.1.114362.1.12289667.25176973841.698218352.163.326\"]}}, {\"00081150\": {\"vr\": \"UI\", \"Value\": [\"1.2.840.10008.5.1.4.1.1.4\"]}, \"00081155\": {\"vr\": \"UI\", \"Value\": [\"2.16.840.1.114362.1.12289667.25176973841.698218352.163.327\"]}}, {\"00081150\": {\"vr\": \"UI\", \"Value\": [\"1.2.840.10008.5.1.4.1.1.4\"]}, \"00081155\": {\"vr\": \"UI\", \"Value\": [\"2.16.840.1.114362.1.12289667.25176973841.698218352.163.328\"]}}, {\"00081150\": {\"vr\": \"UI\", \"Value\": [\"1.2.840.10008.5.1.4.1.1.4\"]}, \"00081155\": {\"vr\": \"UI\", \"Value\": [\"2.16.840.1.114362.1.12289667.25176973841.698218352.163.329\"]}}, {\"00081150\": {\"vr\": \"UI\", \"Value\": [\"1.2.840.10008.5.1.4.1.1.4\"]}, \"00081155\": {\"vr\": \"UI\", \"Value\": [\"2.16.840.1.114362.1.12289667.25176973841.698218352.163.330\"]}}, {\"00081150\": {\"vr\": \"UI\", \"Value\": [\"1.2.840.10008.5.1.4.1.1.4\"]}, \"00081155\": {\"vr\": \"UI\", \"Value\": [\"2.16.840.1.114362.1.12289667.25176973841.698218352.163.331\"]}}, {\"00081150\": {\"vr\": \"UI\", \"Value\": [\"1.2.840.10008.5.1.4.1.1.4\"]}, \"00081155\": {\"vr\": \"UI\", \"Value\": [\"2.16.840.1.114362.1.12289667.25176973841.698218352.163.332\"]}}, {\"00081150\": {\"vr\": \"UI\", \"Value\": [\"1.2.840.10008.5.1.4.1.1.4\"]}, \"00081155\": {\"vr\": \"UI\", \"Value\": [\"2.16.840.1.114362.1.12289667.25176973841.698218352.163.333\"]}}, {\"00081150\": {\"vr\": \"UI\", \"Value\": [\"1.2.840.10008.5.1.4.1.1.4\"]}, \"00081155\": {\"vr\": \"UI\", \"Value\": [\"2.16.840.1.114362.1.12289667.25176973841.698218352.163.334\"]}}]}, \"00200052\": {\"vr\": \"UI\", \"Value\": [\"2.16.840.1.114362.1.12289667.25176973841.698218352.148.3\"]}, \"00700309\": {\"vr\": \"SQ\", \"Value\": [{\"0070030A\": {\"vr\": \"SQ\", \"Value\": [{\"0070030C\": {\"vr\": \"CS\", \"Value\": [\"RIGID\"]}, \"300600C6\": {\"vr\": \"DS\", \"Value\": [1.0, 0.0, 0.0, 0.0, 0.0, 1.0, 0.0, 0.0, 0.0, 0.0, 1.0, 0.0, 0.0, 0.0, 0.0, 1.0]}}]}, \"0070030D\": {\"vr\": \"SQ\", \"Value\": [{\"00080100\": {\"vr\": \"SH\", \"Value\": [\"125025\"]}, \"00080102\": {\"vr\": \"SH\", \"Value\": [\"DCM\"]}, \"00080104\": {\"vr\": \"LO\", \"Value\": [\"Visual Alignment\"]}}]}}]}}, {\"00081140\": {\"vr\": \"SQ\", \"Value\": [{\"00081150\": {\"vr\": \"UI\", \"Value\": [\"1.2.840.10008.5.1.4.1.1.2\"]}, \"00081155\": {\"vr\": \"UI\", \"Value\": [\"2.16.840.1.114362.1.12289667.25176973841.698218352.158.5\"]}}, {\"00081150\": {\"vr\": \"UI\", \"Value\": [\"1.2.840.10008.5.1.4.1.1.2\"]}, \"00081155\": {\"vr\": \"UI\", \"Value\": [\"2.16.840.1.114362.1.12289667.25176973841.698218352.158.6\"]}}, {\"00081150\": {\"vr\": \"UI\", \"Value\": [\"1.2.840.10008.5.1.4.1.1.2\"]}, \"00081155\": {\"vr\": \"UI\", \"Value\": [\"2.16.840.1.114362.1.12289667.25176973841.698218352.158.7\"]}}, {\"00081150\": {\"vr\": \"UI\", \"Value\": [\"1.2.840.10008.5.1.4.1.1.2\"]}, \"00081155\": {\"vr\": \"UI\", \"Value\": [\"2.16.840.1.114362.1.12289667.25176973841.698218352.158.8\"]}}, {\"00081150\": {\"vr\": \"UI\", \"Value\": [\"1.2.840.10008.5.1.4.1.1.2\"]}, \"00081155\": {\"vr\": \"UI\", \"Value\": [\"2.16.840.1.114362.1.12289667.25176973841.698218352.158.9\"]}}, {\"00081150\": {\"vr\": \"UI\", \"Value\": [\"1.2.840.10008.5.1.4.1.1.2\"]}, \"00081155\": {\"vr\": \"UI\", \"Value\": [\"2.16.840.1.114362.1.12289667.25176973841.698218352.158.10\"]}}, {\"00081150\": {\"vr\": \"UI\", \"Value\": [\"1.2.840.10008.5.1.4.1.1.2\"]}, \"00081155\": {\"vr\": \"UI\", \"Value\": [\"2.16.840.1.114362.1.12289667.25176973841.698218352.158.11\"]}}, {\"00081150\": {\"vr\": \"UI\", \"Value\": [\"1.2.840.10008.5.1.4.1.1.2\"]}, \"00081155\": {\"vr\": \"UI\", \"Value\": [\"2.16.840.1.114362.1.12289667.25176973841.698218352.159.12\"]}}, {\"00081150\": {\"vr\": \"UI\", \"Value\": [\"1.2.840.10008.5.1.4.1.1.2\"]}, \"00081155\": {\"vr\": \"UI\", \"Value\": [\"2.16.840.1.114362.1.12289667.25176973841.698218352.159.13\"]}}, {\"00081150\": {\"vr\": \"UI\", \"Value\": [\"1.2.840.10008.5.1.4.1.1.2\"]}, \"00081155\": {\"vr\": \"UI\", \"Value\": [\"2.16.840.1.114362.1.12289667.25176973841.698218352.159.14\"]}}, {\"00081150\": {\"vr\": \"UI\", \"Value\": [\"1.2.840.10008.5.1.4.1.1.2\"]}, \"00081155\": {\"vr\": \"UI\", \"Value\": [\"2.16.840.1.114362.1.12289667.25176973841.698218352.159.15\"]}}, {\"00081150\": {\"vr\": \"UI\", \"Value\": [\"1.2.840.10008.5.1.4.1.1.2\"]}, \"00081155\": {\"vr\": \"UI\", \"Value\": [\"2.16.840.1.114362.1.12289667.25176973841.698218352.159.16\"]}}, {\"00081150\": {\"vr\": \"UI\", \"Value\": [\"1.2.840.10008.5.1.4.1.1.2\"]}, \"00081155\": {\"vr\": \"UI\", \"Value\": [\"2.16.840.1.114362.1.12289667.25176973841.698218352.159.17\"]}}, {\"00081150\": {\"vr\": \"UI\", \"Value\": [\"1.2.840.10008.5.1.4.1.1.2\"]}, \"00081155\": {\"vr\": \"UI\", \"Value\": [\"2.16.840.1.114362.1.12289667.25176973841.698218352.159.18\"]}}, {\"00081150\": {\"vr\": \"UI\", \"Value\": [\"1.2.840.10008.5.1.4.1.1.2\"]}, \"00081155\": {\"vr\": \"UI\", \"Value\": [\"2.16.840.1.114362.1.12289667.25176973841.698218352.159.19\"]}}, {\"00081150\": {\"vr\": \"UI\", \"Value\": [\"1.2.840.10008.5.1.4.1.1.2\"]}, \"00081155\": {\"vr\": \"UI\", \"Value\": [\"2.16.840.1.114362.1.12289667.25176973841.698218352.159.20\"]}}, {\"00081150\": {\"vr\": \"UI\", \"Value\": [\"1.2.840.10008.5.1.4.1.1.2\"]}, \"00081155\": {\"vr\": \"UI\", \"Value\": [\"2.16.840.1.114362.1.12289667.25176973841.698218352.159.21\"]}}, {\"00081150\": {\"vr\": \"UI\", \"Value\": [\"1.2.840.10008.5.1.4.1.1.2\"]}, \"00081155\": {\"vr\": \"UI\", \"Value\": [\"2.16.840.1.114362.1.12289667.25176973841.698218352.159.22\"]}}, {\"00081150\": {\"vr\": \"UI\", \"Value\": [\"1.2.840.10008.5.1.4.1.1.2\"]}, \"00081155\": {\"vr\": \"UI\", \"Value\": [\"2.16.840.1.114362.1.12289667.25176973841.698218352.159.23\"]}}, {\"00081150\": {\"vr\": \"UI\", \"Value\": [\"1.2.840.10008.5.1.4.1.1.2\"]}, \"00081155\": {\"vr\": \"UI\", \"Value\": [\"2.16.840.1.114362.1.12289667.25176973841.698218352.159.24\"]}}, {\"00081150\": {\"vr\": \"UI\", \"Value\": [\"1.2.840.10008.5.1.4.1.1.2\"]}, \"00081155\": {\"vr\": \"UI\", \"Value\": [\"2.16.840.1.114362.1.12289667.25176973841.698218352.159.25\"]}}, {\"00081150\": {\"vr\": \"UI\", \"Value\": [\"1.2.840.10008.5.1.4.1.1.2\"]}, \"00081155\": {\"vr\": \"UI\", \"Value\": [\"2.16.840.1.114362.1.12289667.25176973841.698218352.159.26\"]}}, {\"00081150\": {\"vr\": \"UI\", \"Value\": [\"1.2.840.10008.5.1.4.1.1.2\"]}, \"00081155\": {\"vr\": \"UI\", \"Value\": [\"2.16.840.1.114362.1.12289667.25176973841.698218352.159.27\"]}}, {\"00081150\": {\"vr\": \"UI\", \"Value\": [\"1.2.840.10008.5.1.4.1.1.2\"]}, \"00081155\": {\"vr\": \"UI\", \"Value\": [\"2.16.840.1.114362.1.12289667.25176973841.698218352.159.28\"]}}, {\"00081150\": {\"vr\": \"UI\", \"Value\": [\"1.2.840.10008.5.1.4.1.1.2\"]}, \"00081155\": {\"vr\": \"UI\", \"Value\": [\"2.16.840.1.114362.1.12289667.25176973841.698218352.159.29\"]}}, {\"00081150\": {\"vr\": \"UI\", \"Value\": [\"1.2.840.10008.5.1.4.1.1.2\"]}, \"00081155\": {\"vr\": \"UI\", \"Value\": [\"2.16.840.1.114362.1.12289667.25176973841.698218352.159.30\"]}}, {\"00081150\": {\"vr\": \"UI\", \"Value\": [\"1.2.840.10008.5.1.4.1.1.2\"]}, \"00081155\": {\"vr\": \"UI\", \"Value\": [\"2.16.840.1.114362.1.12289667.25176973841.698218352.159.31\"]}}, {\"00081150\": {\"vr\": \"UI\", \"Value\": [\"1.2.840.10008.5.1.4.1.1.2\"]}, \"00081155\": {\"vr\": \"UI\", \"Value\": [\"2.16.840.1.114362.1.12289667.25176973841.698218352.159.32\"]}}, {\"00081150\": {\"vr\": \"UI\", \"Value\": [\"1.2.840.10008.5.1.4.1.1.2\"]}, \"00081155\": {\"vr\": \"UI\", \"Value\": [\"2.16.840.1.114362.1.12289667.25176973841.698218352.159.33\"]}}, {\"00081150\": {\"vr\": \"UI\", \"Value\": [\"1.2.840.10008.5.1.4.1.1.2\"]}, \"00081155\": {\"vr\": \"UI\", \"Value\": [\"2.16.840.1.114362.1.12289667.25176973841.698218352.159.34\"]}}, {\"00081150\": {\"vr\": \"UI\", \"Value\": [\"1.2.840.10008.5.1.4.1.1.2\"]}, \"00081155\": {\"vr\": \"UI\", \"Value\": [\"2.16.840.1.114362.1.12289667.25176973841.698218352.159.35\"]}}, {\"00081150\": {\"vr\": \"UI\", \"Value\": [\"1.2.840.10008.5.1.4.1.1.2\"]}, \"00081155\": {\"vr\": \"UI\", \"Value\": [\"2.16.840.1.114362.1.12289667.25176973841.698218352.159.36\"]}}, {\"00081150\": {\"vr\": \"UI\", \"Value\": [\"1.2.840.10008.5.1.4.1.1.2\"]}, \"00081155\": {\"vr\": \"UI\", \"Value\": [\"2.16.840.1.114362.1.12289667.25176973841.698218352.159.37\"]}}, {\"00081150\": {\"vr\": \"UI\", \"Value\": [\"1.2.840.10008.5.1.4.1.1.2\"]}, \"00081155\": {\"vr\": \"UI\", \"Value\": [\"2.16.840.1.114362.1.12289667.25176973841.698218352.159.38\"]}}, {\"00081150\": {\"vr\": \"UI\", \"Value\": [\"1.2.840.10008.5.1.4.1.1.2\"]}, \"00081155\": {\"vr\": \"UI\", \"Value\": [\"2.16.840.1.114362.1.12289667.25176973841.698218352.159.39\"]}}, {\"00081150\": {\"vr\": \"UI\", \"Value\": [\"1.2.840.10008.5.1.4.1.1.2\"]}, \"00081155\": {\"vr\": \"UI\", \"Value\": [\"2.16.840.1.114362.1.12289667.25176973841.698218352.159.40\"]}}, {\"00081150\": {\"vr\": \"UI\", \"Value\": [\"1.2.840.10008.5.1.4.1.1.2\"]}, \"00081155\": {\"vr\": \"UI\", \"Value\": [\"2.16.840.1.114362.1.12289667.25176973841.698218352.159.41\"]}}, {\"00081150\": {\"vr\": \"UI\", \"Value\": [\"1.2.840.10008.5.1.4.1.1.2\"]}, \"00081155\": {\"vr\": \"UI\", \"Value\": [\"2.16.840.1.114362.1.12289667.25176973841.698218352.159.42\"]}}, {\"00081150\": {\"vr\": \"UI\", \"Value\": [\"1.2.840.10008.5.1.4.1.1.2\"]}, \"00081155\": {\"vr\": \"UI\", \"Value\": [\"2.16.840.1.114362.1.12289667.25176973841.698218352.159.43\"]}}, {\"00081150\": {\"vr\": \"UI\", \"Value\": [\"1.2.840.10008.5.1.4.1.1.2\"]}, \"00081155\": {\"vr\": \"UI\", \"Value\": [\"2.16.840.1.114362.1.12289667.25176973841.698218352.159.44\"]}}, {\"00081150\": {\"vr\": \"UI\", \"Value\": [\"1.2.840.10008.5.1.4.1.1.2\"]}, \"00081155\": {\"vr\": \"UI\", \"Value\": [\"2.16.840.1.114362.1.12289667.25176973841.698218352.159.45\"]}}, {\"00081150\": {\"vr\": \"UI\", \"Value\": [\"1.2.840.10008.5.1.4.1.1.2\"]}, \"00081155\": {\"vr\": \"UI\", \"Value\": [\"2.16.840.1.114362.1.12289667.25176973841.698218352.159.46\"]}}, {\"00081150\": {\"vr\": \"UI\", \"Value\": [\"1.2.840.10008.5.1.4.1.1.2\"]}, \"00081155\": {\"vr\": \"UI\", \"Value\": [\"2.16.840.1.114362.1.12289667.25176973841.698218352.159.47\"]}}, {\"00081150\": {\"vr\": \"UI\", \"Value\": [\"1.2.840.10008.5.1.4.1.1.2\"]}, \"00081155\": {\"vr\": \"UI\", \"Value\": [\"2.16.840.1.114362.1.12289667.25176973841.698218352.159.48\"]}}, {\"00081150\": {\"vr\": \"UI\", \"Value\": [\"1.2.840.10008.5.1.4.1.1.2\"]}, \"00081155\": {\"vr\": \"UI\", \"Value\": [\"2.16.840.1.114362.1.12289667.25176973841.698218352.159.49\"]}}, {\"00081150\": {\"vr\": \"UI\", \"Value\": [\"1.2.840.10008.5.1.4.1.1.2\"]}, \"00081155\": {\"vr\": \"UI\", \"Value\": [\"2.16.840.1.114362.1.12289667.25176973841.698218352.159.50\"]}}, {\"00081150\": {\"vr\": \"UI\", \"Value\": [\"1.2.840.10008.5.1.4.1.1.2\"]}, \"00081155\": {\"vr\": \"UI\", \"Value\": [\"2.16.840.1.114362.1.12289667.25176973841.698218352.159.51\"]}}, {\"00081150\": {\"vr\": \"UI\", \"Value\": [\"1.2.840.10008.5.1.4.1.1.2\"]}, \"00081155\": {\"vr\": \"UI\", \"Value\": [\"2.16.840.1.114362.1.12289667.25176973841.698218352.159.52\"]}}, {\"00081150\": {\"vr\": \"UI\", \"Value\": [\"1.2.840.10008.5.1.4.1.1.2\"]}, \"00081155\": {\"vr\": \"UI\", \"Value\": [\"2.16.840.1.114362.1.12289667.25176973841.698218352.159.53\"]}}, {\"00081150\": {\"vr\": \"UI\", \"Value\": [\"1.2.840.10008.5.1.4.1.1.2\"]}, \"00081155\": {\"vr\": \"UI\", \"Value\": [\"2.16.840.1.114362.1.12289667.25176973841.698218352.159.54\"]}}, {\"00081150\": {\"vr\": \"UI\", \"Value\": [\"1.2.840.10008.5.1.4.1.1.2\"]}, \"00081155\": {\"vr\": \"UI\", \"Value\": [\"2.16.840.1.114362.1.12289667.25176973841.698218352.159.55\"]}}, {\"00081150\": {\"vr\": \"UI\", \"Value\": [\"1.2.840.10008.5.1.4.1.1.2\"]}, \"00081155\": {\"vr\": \"UI\", \"Value\": [\"2.16.840.1.114362.1.12289667.25176973841.698218352.159.56\"]}}, {\"00081150\": {\"vr\": \"UI\", \"Value\": [\"1.2.840.10008.5.1.4.1.1.2\"]}, \"00081155\": {\"vr\": \"UI\", \"Value\": [\"2.16.840.1.114362.1.12289667.25176973841.698218352.159.57\"]}}, {\"00081150\": {\"vr\": \"UI\", \"Value\": [\"1.2.840.10008.5.1.4.1.1.2\"]}, \"00081155\": {\"vr\": \"UI\", \"Value\": [\"2.16.840.1.114362.1.12289667.25176973841.698218352.160.58\"]}}, {\"00081150\": {\"vr\": \"UI\", \"Value\": [\"1.2.840.10008.5.1.4.1.1.2\"]}, \"00081155\": {\"vr\": \"UI\", \"Value\": [\"2.16.840.1.114362.1.12289667.25176973841.698218352.160.59\"]}}, {\"00081150\": {\"vr\": \"UI\", \"Value\": [\"1.2.840.10008.5.1.4.1.1.2\"]}, \"00081155\": {\"vr\": \"UI\", \"Value\": [\"2.16.840.1.114362.1.12289667.25176973841.698218352.160.60\"]}}, {\"00081150\": {\"vr\": \"UI\", \"Value\": [\"1.2.840.10008.5.1.4.1.1.2\"]}, \"00081155\": {\"vr\": \"UI\", \"Value\": [\"2.16.840.1.114362.1.12289667.25176973841.698218352.160.61\"]}}, {\"00081150\": {\"vr\": \"UI\", \"Value\": [\"1.2.840.10008.5.1.4.1.1.2\"]}, \"00081155\": {\"vr\": \"UI\", \"Value\": [\"2.16.840.1.114362.1.12289667.25176973841.698218352.160.62\"]}}, {\"00081150\": {\"vr\": \"UI\", \"Value\": [\"1.2.840.10008.5.1.4.1.1.2\"]}, \"00081155\": {\"vr\": \"UI\", \"Value\": [\"2.16.840.1.114362.1.12289667.25176973841.698218352.160.63\"]}}, {\"00081150\": {\"vr\": \"UI\", \"Value\": [\"1.2.840.10008.5.1.4.1.1.2\"]}, \"00081155\": {\"vr\": \"UI\", \"Value\": [\"2.16.840.1.114362.1.12289667.25176973841.698218352.160.64\"]}}, {\"00081150\": {\"vr\": \"UI\", \"Value\": [\"1.2.840.10008.5.1.4.1.1.2\"]}, \"00081155\": {\"vr\": \"UI\", \"Value\": [\"2.16.840.1.114362.1.12289667.25176973841.698218352.160.65\"]}}, {\"00081150\": {\"vr\": \"UI\", \"Value\": [\"1.2.840.10008.5.1.4.1.1.2\"]}, \"00081155\": {\"vr\": \"UI\", \"Value\": [\"2.16.840.1.114362.1.12289667.25176973841.698218352.160.66\"]}}, {\"00081150\": {\"vr\": \"UI\", \"Value\": [\"1.2.840.10008.5.1.4.1.1.2\"]}, \"00081155\": {\"vr\": \"UI\", \"Value\": [\"2.16.840.1.114362.1.12289667.25176973841.698218352.160.67\"]}}, {\"00081150\": {\"vr\": \"UI\", \"Value\": [\"1.2.840.10008.5.1.4.1.1.2\"]}, \"00081155\": {\"vr\": \"UI\", \"Value\": [\"2.16.840.1.114362.1.12289667.25176973841.698218352.160.68\"]}}, {\"00081150\": {\"vr\": \"UI\", \"Value\": [\"1.2.840.10008.5.1.4.1.1.2\"]}, \"00081155\": {\"vr\": \"UI\", \"Value\": [\"2.16.840.1.114362.1.12289667.25176973841.698218352.160.69\"]}}, {\"00081150\": {\"vr\": \"UI\", \"Value\": [\"1.2.840.10008.5.1.4.1.1.2\"]}, \"00081155\": {\"vr\": \"UI\", \"Value\": [\"2.16.840.1.114362.1.12289667.25176973841.698218352.160.70\"]}}, {\"00081150\": {\"vr\": \"UI\", \"Value\": [\"1.2.840.10008.5.1.4.1.1.2\"]}, \"00081155\": {\"vr\": \"UI\", \"Value\": [\"2.16.840.1.114362.1.12289667.25176973841.698218352.160.71\"]}}, {\"00081150\": {\"vr\": \"UI\", \"Value\": [\"1.2.840.10008.5.1.4.1.1.2\"]}, \"00081155\": {\"vr\": \"UI\", \"Value\": [\"2.16.840.1.114362.1.12289667.25176973841.698218352.160.72\"]}}, {\"00081150\": {\"vr\": \"UI\", \"Value\": [\"1.2.840.10008.5.1.4.1.1.2\"]}, \"00081155\": {\"vr\": \"UI\", \"Value\": [\"2.16.840.1.114362.1.12289667.25176973841.698218352.160.73\"]}}, {\"00081150\": {\"vr\": \"UI\", \"Value\": [\"1.2.840.10008.5.1.4.1.1.2\"]}, \"00081155\": {\"vr\": \"UI\", \"Value\": [\"2.16.840.1.114362.1.12289667.25176973841.698218352.160.74\"]}}, {\"00081150\": {\"vr\": \"UI\", \"Value\": [\"1.2.840.10008.5.1.4.1.1.2\"]}, \"00081155\": {\"vr\": \"UI\", \"Value\": [\"2.16.840.1.114362.1.12289667.25176973841.698218352.160.75\"]}}, {\"00081150\": {\"vr\": \"UI\", \"Value\": [\"1.2.840.10008.5.1.4.1.1.2\"]}, \"00081155\": {\"vr\": \"UI\", \"Value\": [\"2.16.840.1.114362.1.12289667.25176973841.698218352.160.76\"]}}, {\"00081150\": {\"vr\": \"UI\", \"Value\": [\"1.2.840.10008.5.1.4.1.1.2\"]}, \"00081155\": {\"vr\": \"UI\", \"Value\": [\"2.16.840.1.114362.1.12289667.25176973841.698218352.160.77\"]}}, {\"00081150\": {\"vr\": \"UI\", \"Value\": [\"1.2.840.10008.5.1.4.1.1.2\"]}, \"00081155\": {\"vr\": \"UI\", \"Value\": [\"2.16.840.1.114362.1.12289667.25176973841.698218352.160.78\"]}}, {\"00081150\": {\"vr\": \"UI\", \"Value\": [\"1.2.840.10008.5.1.4.1.1.2\"]}, \"00081155\": {\"vr\": \"UI\", \"Value\": [\"2.16.840.1.114362.1.12289667.25176973841.698218352.160.79\"]}}, {\"00081150\": {\"vr\": \"UI\", \"Value\": [\"1.2.840.10008.5.1.4.1.1.2\"]}, \"00081155\": {\"vr\": \"UI\", \"Value\": [\"2.16.840.1.114362.1.12289667.25176973841.698218352.160.80\"]}}, {\"00081150\": {\"vr\": \"UI\", \"Value\": [\"1.2.840.10008.5.1.4.1.1.2\"]}, \"00081155\": {\"vr\": \"UI\", \"Value\": [\"2.16.840.1.114362.1.12289667.25176973841.698218352.160.81\"]}}, {\"00081150\": {\"vr\": \"UI\", \"Value\": [\"1.2.840.10008.5.1.4.1.1.2\"]}, \"00081155\": {\"vr\": \"UI\", \"Value\": [\"2.16.840.1.114362.1.12289667.25176973841.698218352.160.82\"]}}, {\"00081150\": {\"vr\": \"UI\", \"Value\": [\"1.2.840.10008.5.1.4.1.1.2\"]}, \"00081155\": {\"vr\": \"UI\", \"Value\": [\"2.16.840.1.114362.1.12289667.25176973841.698218352.160.83\"]}}, {\"00081150\": {\"vr\": \"UI\", \"Value\": [\"1.2.840.10008.5.1.4.1.1.2\"]}, \"00081155\": {\"vr\": \"UI\", \"Value\": [\"2.16.840.1.114362.1.12289667.25176973841.698218352.160.84\"]}}, {\"00081150\": {\"vr\": \"UI\", \"Value\": [\"1.2.840.10008.5.1.4.1.1.2\"]}, \"00081155\": {\"vr\": \"UI\", \"Value\": [\"2.16.840.1.114362.1.12289667.25176973841.698218352.160.85\"]}}, {\"00081150\": {\"vr\": \"UI\", \"Value\": [\"1.2.840.10008.5.1.4.1.1.2\"]}, \"00081155\": {\"vr\": \"UI\", \"Value\": [\"2.16.840.1.114362.1.12289667.25176973841.698218352.160.86\"]}}, {\"00081150\": {\"vr\": \"UI\", \"Value\": [\"1.2.840.10008.5.1.4.1.1.2\"]}, \"00081155\": {\"vr\": \"UI\", \"Value\": [\"2.16.840.1.114362.1.12289667.25176973841.698218352.160.87\"]}}, {\"00081150\": {\"vr\": \"UI\", \"Value\": [\"1.2.840.10008.5.1.4.1.1.2\"]}, \"00081155\": {\"vr\": \"UI\", \"Value\": [\"2.16.840.1.114362.1.12289667.25176973841.698218352.160.88\"]}}, {\"00081150\": {\"vr\": \"UI\", \"Value\": [\"1.2.840.10008.5.1.4.1.1.2\"]}, \"00081155\": {\"vr\": \"UI\", \"Value\": [\"2.16.840.1.114362.1.12289667.25176973841.698218352.160.89\"]}}, {\"00081150\": {\"vr\": \"UI\", \"Value\": [\"1.2.840.10008.5.1.4.1.1.2\"]}, \"00081155\": {\"vr\": \"UI\", \"Value\": [\"2.16.840.1.114362.1.12289667.25176973841.698218352.160.90\"]}}, {\"00081150\": {\"vr\": \"UI\", \"Value\": [\"1.2.840.10008.5.1.4.1.1.2\"]}, \"00081155\": {\"vr\": \"UI\", \"Value\": [\"2.16.840.1.114362.1.12289667.25176973841.698218352.160.91\"]}}, {\"00081150\": {\"vr\": \"UI\", \"Value\": [\"1.2.840.10008.5.1.4.1.1.2\"]}, \"00081155\": {\"vr\": \"UI\", \"Value\": [\"2.16.840.1.114362.1.12289667.25176973841.698218352.160.92\"]}}, {\"00081150\": {\"vr\": \"UI\", \"Value\": [\"1.2.840.10008.5.1.4.1.1.2\"]}, \"00081155\": {\"vr\": \"UI\", \"Value\": [\"2.16.840.1.114362.1.12289667.25176973841.698218352.160.93\"]}}, {\"00081150\": {\"vr\": \"UI\", \"Value\": [\"1.2.840.10008.5.1.4.1.1.2\"]}, \"00081155\": {\"vr\": \"UI\", \"Value\": [\"2.16.840.1.114362.1.12289667.25176973841.698218352.160.94\"]}}, {\"00081150\": {\"vr\": \"UI\", \"Value\": [\"1.2.840.10008.5.1.4.1.1.2\"]}, \"00081155\": {\"vr\": \"UI\", \"Value\": [\"2.16.840.1.114362.1.12289667.25176973841.698218352.160.95\"]}}, {\"00081150\": {\"vr\": \"UI\", \"Value\": [\"1.2.840.10008.5.1.4.1.1.2\"]}, \"00081155\": {\"vr\": \"UI\", \"Value\": [\"2.16.840.1.114362.1.12289667.25176973841.698218352.160.96\"]}}, {\"00081150\": {\"vr\": \"UI\", \"Value\": [\"1.2.840.10008.5.1.4.1.1.2\"]}, \"00081155\": {\"vr\": \"UI\", \"Value\": [\"2.16.840.1.114362.1.12289667.25176973841.698218352.160.97\"]}}, {\"00081150\": {\"vr\": \"UI\", \"Value\": [\"1.2.840.10008.5.1.4.1.1.2\"]}, \"00081155\": {\"vr\": \"UI\", \"Value\": [\"2.16.840.1.114362.1.12289667.25176973841.698218352.160.98\"]}}, {\"00081150\": {\"vr\": \"UI\", \"Value\": [\"1.2.840.10008.5.1.4.1.1.2\"]}, \"00081155\": {\"vr\": \"UI\", \"Value\": [\"2.16.840.1.114362.1.12289667.25176973841.698218352.160.99\"]}}, {\"00081150\": {\"vr\": \"UI\", \"Value\": [\"1.2.840.10008.5.1.4.1.1.2\"]}, \"00081155\": {\"vr\": \"UI\", \"Value\": [\"2.16.840.1.114362.1.12289667.25176973841.698218352.160.100\"]}}, {\"00081150\": {\"vr\": \"UI\", \"Value\": [\"1.2.840.10008.5.1.4.1.1.2\"]}, \"00081155\": {\"vr\": \"UI\", \"Value\": [\"2.16.840.1.114362.1.12289667.25176973841.698218352.160.101\"]}}, {\"00081150\": {\"vr\": \"UI\", \"Value\": [\"1.2.840.10008.5.1.4.1.1.2\"]}, \"00081155\": {\"vr\": \"UI\", \"Value\": [\"2.16.840.1.114362.1.12289667.25176973841.698218352.160.102\"]}}, {\"00081150\": {\"vr\": \"UI\", \"Value\": [\"1.2.840.10008.5.1.4.1.1.2\"]}, \"00081155\": {\"vr\": \"UI\", \"Value\": [\"2.16.840.1.114362.1.12289667.25176973841.698218352.160.103\"]}}, {\"00081150\": {\"vr\": \"UI\", \"Value\": [\"1.2.840.10008.5.1.4.1.1.2\"]}, \"00081155\": {\"vr\": \"UI\", \"Value\": [\"2.16.840.1.114362.1.12289667.25176973841.698218352.160.104\"]}}, {\"00081150\": {\"vr\": \"UI\", \"Value\": [\"1.2.840.10008.5.1.4.1.1.2\"]}, \"00081155\": {\"vr\": \"UI\", \"Value\": [\"2.16.840.1.114362.1.12289667.25176973841.698218352.160.105\"]}}, {\"00081150\": {\"vr\": \"UI\", \"Value\": [\"1.2.840.10008.5.1.4.1.1.2\"]}, \"00081155\": {\"vr\": \"UI\", \"Value\": [\"2.16.840.1.114362.1.12289667.25176973841.698218352.160.106\"]}}, {\"00081150\": {\"vr\": \"UI\", \"Value\": [\"1.2.840.10008.5.1.4.1.1.2\"]}, \"00081155\": {\"vr\": \"UI\", \"Value\": [\"2.16.840.1.114362.1.12289667.25176973841.698218352.160.107\"]}}, {\"00081150\": {\"vr\": \"UI\", \"Value\": [\"1.2.840.10008.5.1.4.1.1.2\"]}, \"00081155\": {\"vr\": \"UI\", \"Value\": [\"2.16.840.1.114362.1.12289667.25176973841.698218352.160.108\"]}}, {\"00081150\": {\"vr\": \"UI\", \"Value\": [\"1.2.840.10008.5.1.4.1.1.2\"]}, \"00081155\": {\"vr\": \"UI\", \"Value\": [\"2.16.840.1.114362.1.12289667.25176973841.698218352.160.109\"]}}, {\"00081150\": {\"vr\": \"UI\", \"Value\": [\"1.2.840.10008.5.1.4.1.1.2\"]}, \"00081155\": {\"vr\": \"UI\", \"Value\": [\"2.16.840.1.114362.1.12289667.25176973841.698218352.160.110\"]}}, {\"00081150\": {\"vr\": \"UI\", \"Value\": [\"1.2.840.10008.5.1.4.1.1.2\"]}, \"00081155\": {\"vr\": \"UI\", \"Value\": [\"2.16.840.1.114362.1.12289667.25176973841.698218352.160.111\"]}}, {\"00081150\": {\"vr\": \"UI\", \"Value\": [\"1.2.840.10008.5.1.4.1.1.2\"]}, \"00081155\": {\"vr\": \"UI\", \"Value\": [\"2.16.840.1.114362.1.12289667.25176973841.698218352.160.112\"]}}, {\"00081150\": {\"vr\": \"UI\", \"Value\": [\"1.2.840.10008.5.1.4.1.1.2\"]}, \"00081155\": {\"vr\": \"UI\", \"Value\": [\"2.16.840.1.114362.1.12289667.25176973841.698218352.161.113\"]}}, {\"00081150\": {\"vr\": \"UI\", \"Value\": [\"1.2.840.10008.5.1.4.1.1.2\"]}, \"00081155\": {\"vr\": \"UI\", \"Value\": [\"2.16.840.1.114362.1.12289667.25176973841.698218352.161.114\"]}}, {\"00081150\": {\"vr\": \"UI\", \"Value\": [\"1.2.840.10008.5.1.4.1.1.2\"]}, \"00081155\": {\"vr\": \"UI\", \"Value\": [\"2.16.840.1.114362.1.12289667.25176973841.698218352.161.115\"]}}, {\"00081150\": {\"vr\": \"UI\", \"Value\": [\"1.2.840.10008.5.1.4.1.1.2\"]}, \"00081155\": {\"vr\": \"UI\", \"Value\": [\"2.16.840.1.114362.1.12289667.25176973841.698218352.161.116\"]}}, {\"00081150\": {\"vr\": \"UI\", \"Value\": [\"1.2.840.10008.5.1.4.1.1.2\"]}, \"00081155\": {\"vr\": \"UI\", \"Value\": [\"2.16.840.1.114362.1.12289667.25176973841.698218352.161.117\"]}}, {\"00081150\": {\"vr\": \"UI\", \"Value\": [\"1.2.840.10008.5.1.4.1.1.2\"]}, \"00081155\": {\"vr\": \"UI\", \"Value\": [\"2.16.840.1.114362.1.12289667.25176973841.698218352.161.118\"]}}, {\"00081150\": {\"vr\": \"UI\", \"Value\": [\"1.2.840.10008.5.1.4.1.1.2\"]}, \"00081155\": {\"vr\": \"UI\", \"Value\": [\"2.16.840.1.114362.1.12289667.25176973841.698218352.161.119\"]}}, {\"00081150\": {\"vr\": \"UI\", \"Value\": [\"1.2.840.10008.5.1.4.1.1.2\"]}, \"00081155\": {\"vr\": \"UI\", \"Value\": [\"2.16.840.1.114362.1.12289667.25176973841.698218352.161.120\"]}}, {\"00081150\": {\"vr\": \"UI\", \"Value\": [\"1.2.840.10008.5.1.4.1.1.2\"]}, \"00081155\": {\"vr\": \"UI\", \"Value\": [\"2.16.840.1.114362.1.12289667.25176973841.698218352.161.121\"]}}, {\"00081150\": {\"vr\": \"UI\", \"Value\": [\"1.2.840.10008.5.1.4.1.1.2\"]}, \"00081155\": {\"vr\": \"UI\", \"Value\": [\"2.16.840.1.114362.1.12289667.25176973841.698218352.161.122\"]}}, {\"00081150\": {\"vr\": \"UI\", \"Value\": [\"1.2.840.10008.5.1.4.1.1.2\"]}, \"00081155\": {\"vr\": \"UI\", \"Value\": [\"2.16.840.1.114362.1.12289667.25176973841.698218352.161.123\"]}}, {\"00081150\": {\"vr\": \"UI\", \"Value\": [\"1.2.840.10008.5.1.4.1.1.2\"]}, \"00081155\": {\"vr\": \"UI\", \"Value\": [\"2.16.840.1.114362.1.12289667.25176973841.698218352.161.124\"]}}, {\"00081150\": {\"vr\": \"UI\", \"Value\": [\"1.2.840.10008.5.1.4.1.1.2\"]}, \"00081155\": {\"vr\": \"UI\", \"Value\": [\"2.16.840.1.114362.1.12289667.25176973841.698218352.161.125\"]}}, {\"00081150\": {\"vr\": \"UI\", \"Value\": [\"1.2.840.10008.5.1.4.1.1.2\"]}, \"00081155\": {\"vr\": \"UI\", \"Value\": [\"2.16.840.1.114362.1.12289667.25176973841.698218352.161.126\"]}}, {\"00081150\": {\"vr\": \"UI\", \"Value\": [\"1.2.840.10008.5.1.4.1.1.2\"]}, \"00081155\": {\"vr\": \"UI\", \"Value\": [\"2.16.840.1.114362.1.12289667.25176973841.698218352.161.127\"]}}, {\"00081150\": {\"vr\": \"UI\", \"Value\": [\"1.2.840.10008.5.1.4.1.1.2\"]}, \"00081155\": {\"vr\": \"UI\", \"Value\": [\"2.16.840.1.114362.1.12289667.25176973841.698218352.161.128\"]}}, {\"00081150\": {\"vr\": \"UI\", \"Value\": [\"1.2.840.10008.5.1.4.1.1.2\"]}, \"00081155\": {\"vr\": \"UI\", \"Value\": [\"2.16.840.1.114362.1.12289667.25176973841.698218352.161.129\"]}}, {\"00081150\": {\"vr\": \"UI\", \"Value\": [\"1.2.840.10008.5.1.4.1.1.2\"]}, \"00081155\": {\"vr\": \"UI\", \"Value\": [\"2.16.840.1.114362.1.12289667.25176973841.698218352.161.130\"]}}, {\"00081150\": {\"vr\": \"UI\", \"Value\": [\"1.2.840.10008.5.1.4.1.1.2\"]}, \"00081155\": {\"vr\": \"UI\", \"Value\": [\"2.16.840.1.114362.1.12289667.25176973841.698218352.161.131\"]}}, {\"00081150\": {\"vr\": \"UI\", \"Value\": [\"1.2.840.10008.5.1.4.1.1.2\"]}, \"00081155\": {\"vr\": \"UI\", \"Value\": [\"2.16.840.1.114362.1.12289667.25176973841.698218352.161.132\"]}}, {\"00081150\": {\"vr\": \"UI\", \"Value\": [\"1.2.840.10008.5.1.4.1.1.2\"]}, \"00081155\": {\"vr\": \"UI\", \"Value\": [\"2.16.840.1.114362.1.12289667.25176973841.698218352.161.133\"]}}, {\"00081150\": {\"vr\": \"UI\", \"Value\": [\"1.2.840.10008.5.1.4.1.1.2\"]}, \"00081155\": {\"vr\": \"UI\", \"Value\": [\"2.16.840.1.114362.1.12289667.25176973841.698218352.161.134\"]}}, {\"00081150\": {\"vr\": \"UI\", \"Value\": [\"1.2.840.10008.5.1.4.1.1.2\"]}, \"00081155\": {\"vr\": \"UI\", \"Value\": [\"2.16.840.1.114362.1.12289667.25176973841.698218352.161.135\"]}}, {\"00081150\": {\"vr\": \"UI\", \"Value\": [\"1.2.840.10008.5.1.4.1.1.2\"]}, \"00081155\": {\"vr\": \"UI\", \"Value\": [\"2.16.840.1.114362.1.12289667.25176973841.698218352.161.136\"]}}, {\"00081150\": {\"vr\": \"UI\", \"Value\": [\"1.2.840.10008.5.1.4.1.1.2\"]}, \"00081155\": {\"vr\": \"UI\", \"Value\": [\"2.16.840.1.114362.1.12289667.25176973841.698218352.161.137\"]}}, {\"00081150\": {\"vr\": \"UI\", \"Value\": [\"1.2.840.10008.5.1.4.1.1.2\"]}, \"00081155\": {\"vr\": \"UI\", \"Value\": [\"2.16.840.1.114362.1.12289667.25176973841.698218352.161.138\"]}}, {\"00081150\": {\"vr\": \"UI\", \"Value\": [\"1.2.840.10008.5.1.4.1.1.2\"]}, \"00081155\": {\"vr\": \"UI\", \"Value\": [\"2.16.840.1.114362.1.12289667.25176973841.698218352.161.139\"]}}, {\"00081150\": {\"vr\": \"UI\", \"Value\": [\"1.2.840.10008.5.1.4.1.1.2\"]}, \"00081155\": {\"vr\": \"UI\", \"Value\": [\"2.16.840.1.114362.1.12289667.25176973841.698218352.161.140\"]}}, {\"00081150\": {\"vr\": \"UI\", \"Value\": [\"1.2.840.10008.5.1.4.1.1.2\"]}, \"00081155\": {\"vr\": \"UI\", \"Value\": [\"2.16.840.1.114362.1.12289667.25176973841.698218352.161.141\"]}}, {\"00081150\": {\"vr\": \"UI\", \"Value\": [\"1.2.840.10008.5.1.4.1.1.2\"]}, \"00081155\": {\"vr\": \"UI\", \"Value\": [\"2.16.840.1.114362.1.12289667.25176973841.698218352.161.142\"]}}, {\"00081150\": {\"vr\": \"UI\", \"Value\": [\"1.2.840.10008.5.1.4.1.1.2\"]}, \"00081155\": {\"vr\": \"UI\", \"Value\": [\"2.16.840.1.114362.1.12289667.25176973841.698218352.161.143\"]}}, {\"00081150\": {\"vr\": \"UI\", \"Value\": [\"1.2.840.10008.5.1.4.1.1.2\"]}, \"00081155\": {\"vr\": \"UI\", \"Value\": [\"2.16.840.1.114362.1.12289667.25176973841.698218352.161.144\"]}}, {\"00081150\": {\"vr\": \"UI\", \"Value\": [\"1.2.840.10008.5.1.4.1.1.2\"]}, \"00081155\": {\"vr\": \"UI\", \"Value\": [\"2.16.840.1.114362.1.12289667.25176973841.698218352.161.145\"]}}, {\"00081150\": {\"vr\": \"UI\", \"Value\": [\"1.2.840.10008.5.1.4.1.1.2\"]}, \"00081155\": {\"vr\": \"UI\", \"Value\": [\"2.16.840.1.114362.1.12289667.25176973841.698218352.161.146\"]}}, {\"00081150\": {\"vr\": \"UI\", \"Value\": [\"1.2.840.10008.5.1.4.1.1.2\"]}, \"00081155\": {\"vr\": \"UI\", \"Value\": [\"2.16.840.1.114362.1.12289667.25176973841.698218352.161.147\"]}}, {\"00081150\": {\"vr\": \"UI\", \"Value\": [\"1.2.840.10008.5.1.4.1.1.2\"]}, \"00081155\": {\"vr\": \"UI\", \"Value\": [\"2.16.840.1.114362.1.12289667.25176973841.698218352.161.148\"]}}, {\"00081150\": {\"vr\": \"UI\", \"Value\": [\"1.2.840.10008.5.1.4.1.1.2\"]}, \"00081155\": {\"vr\": \"UI\", \"Value\": [\"2.16.840.1.114362.1.12289667.25176973841.698218352.161.149\"]}}, {\"00081150\": {\"vr\": \"UI\", \"Value\": [\"1.2.840.10008.5.1.4.1.1.2\"]}, \"00081155\": {\"vr\": \"UI\", \"Value\": [\"2.16.840.1.114362.1.12289667.25176973841.698218352.161.150\"]}}, {\"00081150\": {\"vr\": \"UI\", \"Value\": [\"1.2.840.10008.5.1.4.1.1.2\"]}, \"00081155\": {\"vr\": \"UI\", \"Value\": [\"2.16.840.1.114362.1.12289667.25176973841.698218352.161.151\"]}}, {\"00081150\": {\"vr\": \"UI\", \"Value\": [\"1.2.840.10008.5.1.4.1.1.2\"]}, \"00081155\": {\"vr\": \"UI\", \"Value\": [\"2.16.840.1.114362.1.12289667.25176973841.698218352.161.152\"]}}, {\"00081150\": {\"vr\": \"UI\", \"Value\": [\"1.2.840.10008.5.1.4.1.1.2\"]}, \"00081155\": {\"vr\": \"UI\", \"Value\": [\"2.16.840.1.114362.1.12289667.25176973841.698218352.161.153\"]}}, {\"00081150\": {\"vr\": \"UI\", \"Value\": [\"1.2.840.10008.5.1.4.1.1.2\"]}, \"00081155\": {\"vr\": \"UI\", \"Value\": [\"2.16.840.1.114362.1.12289667.25176973841.698218352.161.154\"]}}, {\"00081150\": {\"vr\": \"UI\", \"Value\": [\"1.2.840.10008.5.1.4.1.1.2\"]}, \"00081155\": {\"vr\": \"UI\", \"Value\": [\"2.16.840.1.114362.1.12289667.25176973841.698218352.161.155\"]}}, {\"00081150\": {\"vr\": \"UI\", \"Value\": [\"1.2.840.10008.5.1.4.1.1.2\"]}, \"00081155\": {\"vr\": \"UI\", \"Value\": [\"2.16.840.1.114362.1.12289667.25176973841.698218352.161.156\"]}}]}, \"00200052\": {\"vr\": \"UI\", \"Value\": [\"2.16.840.1.114362.1.12289667.25176973841.698218352.167.335\"]}, \"00700309\": {\"vr\": \"SQ\", \"Value\": [{\"0070030A\": {\"vr\": \"SQ\", \"Value\": [{\"0070030C\": {\"vr\": \"CS\", \"Value\": [\"RIGID\"]}, \"300600C6\": {\"vr\": \"DS\", \"Value\": [0.99856412410736, -0.0499182567, -0.0194296780973, -4.2504997253417, 0.04986081644892, 0.99875026941299, -0.0034306943416, 201.772155761718, 0.01957666501402, 0.00245705246925, 0.99980521202087, -521.27423095703, 0.0, 0.0, 0.0, 1.0]}}]}, \"0070030D\": {\"vr\": \"SQ\", \"Value\": [{\"00080100\": {\"vr\": \"SH\", \"Value\": [\"125025\"]}, \"00080102\": {\"vr\": \"SH\", \"Value\": [\"DCM\"]}, \"00080104\": {\"vr\": \"LO\", \"Value\": [\"Visual Alignment\"]}}]}}]}}]}}'"
      ]
     },
     "execution_count": 50,
     "metadata": {},
     "output_type": "execute_result"
    }
   ],
   "source": [
    "reg_json"
   ]
  },
  {
   "cell_type": "code",
   "execution_count": 54,
   "metadata": {},
   "outputs": [],
   "source": [
    "with open(\"reg_json.json\", \"w\") as js:\n",
    "    json.dump(reg_json, js, indent=4)"
   ]
  },
  {
   "cell_type": "code",
   "execution_count": 55,
   "metadata": {},
   "outputs": [],
   "source": [
    "with open(\"reg_ds.txt\", 'w') as rds:\n",
    "    print(reg_ds, file=rds)"
   ]
  },
  {
   "cell_type": "code",
   "execution_count": null,
   "metadata": {},
   "outputs": [],
   "source": []
  }
 ],
 "metadata": {
  "kernelspec": {
   "display_name": "ergalio",
   "language": "python",
   "name": "python3"
  },
  "language_info": {
   "codemirror_mode": {
    "name": "ipython",
    "version": 3
   },
   "file_extension": ".py",
   "mimetype": "text/x-python",
   "name": "python",
   "nbconvert_exporter": "python",
   "pygments_lexer": "ipython3",
   "version": "3.11.9"
  }
 },
 "nbformat": 4,
 "nbformat_minor": 4
}
