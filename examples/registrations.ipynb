{
 "cells": [
  {
   "cell_type": "code",
   "execution_count": 3,
   "metadata": {},
   "outputs": [],
   "source": [
    "import numpy as np\n",
    "import SimpleITK as sitk\n",
    "import matplotlib.pyplot as plt\n",
    "from rosamllib.readers import DICOMImageReader, REGReader\n",
    "from rosamllib.registration import ImageRegistration\n",
    "from rosamllib.viewers import visualize_fusion\n",
    "# %matplotlib widget\n",
    "# %matplotlib inline"
   ]
  },
  {
   "cell_type": "code",
   "execution_count": 4,
   "metadata": {},
   "outputs": [],
   "source": [
    "ct_path = r\"C:\\Users\\yabdulkadir\\Desktop\\open_source\\Registration\\test_files\\BUSBY^STEVEN^WAYNE_4281344_CT_2020-08-17_153226_Neck^.FRAMELESS.HEAD.NECK.(Adult)_Spine..1.5..B30s_n152__00000\"\n",
    "mr_path = r\"C:\\Users\\yabdulkadir\\Desktop\\open_source\\Registration\\test_files\\BUSBY^STEVEN^WAYNE_4281344_MR_2020-08-10_174754_MR.BRAIN.WO+W.CONTRAST_AX.T1.MPRAGE..BRAIN.POST_n176__00000\"\n",
    "reg_path = r\"C:\\Users\\yabdulkadir\\Desktop\\open_source\\Registration\\test_files\\BUSBY^STEVEN^WAYNE_4281344_REG_2020-08-10_174754_MR.BRAIN.WO+W.CONTRAST_CHART.ROUNDS.Aug.2020_n1__00000\\2.16.840.1.114362.1.11775105.23599837070.555500807.249.156.dcm\""
   ]
  },
  {
   "cell_type": "code",
   "execution_count": 5,
   "metadata": {},
   "outputs": [],
   "source": [
    "ct_image = DICOMImageReader(ct_path).read()\n",
    "mr_image = DICOMImageReader(mr_path).read()\n",
    "reg = REGReader(reg_path).read()"
   ]
  },
  {
   "cell_type": "code",
   "execution_count": 6,
   "metadata": {},
   "outputs": [
    {
     "data": {
      "text/plain": [
       "(512, 512, 152)"
      ]
     },
     "execution_count": 6,
     "metadata": {},
     "output_type": "execute_result"
    }
   ],
   "source": [
    "ct_image.GetSize()"
   ]
  },
  {
   "cell_type": "code",
   "execution_count": 7,
   "metadata": {},
   "outputs": [],
   "source": [
    "ct_img = ct_image.get_image_array()\n",
    "mr_img = mr_image.get_image_array()"
   ]
  },
  {
   "cell_type": "code",
   "execution_count": 8,
   "metadata": {},
   "outputs": [
    {
     "name": "stdout",
     "output_type": "stream",
     "text": [
      "(152, 512, 512)\n",
      "(176, 256, 256)\n"
     ]
    }
   ],
   "source": [
    "print(ct_img.shape)\n",
    "print(mr_img.shape)"
   ]
  },
  {
   "cell_type": "code",
   "execution_count": 9,
   "metadata": {},
   "outputs": [
    {
     "data": {
      "application/vnd.jupyter.widget-view+json": {
       "model_id": "55275b39e24349cf87b023c165c0feac",
       "version_major": 2,
       "version_minor": 0
      },
      "text/plain": [
       "interactive(children=(IntSlider(value=255, description='slice_idx', max=511), FloatSlider(value=0.5, descripti…"
      ]
     },
     "metadata": {},
     "output_type": "display_data"
    }
   ],
   "source": [
    "visualize_fusion(ct_image, mr_image, center_align=True, axis=2, cmap=plt.cm.Greys_r, origin='lower')"
   ]
  },
  {
   "cell_type": "code",
   "execution_count": 10,
   "metadata": {},
   "outputs": [],
   "source": [
    "# registered_img = register_images(ct_reader, mr_reader, reg_reader)\n",
    "img_reg = ImageRegistration(reg, ct_image, mr_image)\n",
    "registered_image = img_reg.apply_registration()"
   ]
  },
  {
   "cell_type": "code",
   "execution_count": 11,
   "metadata": {},
   "outputs": [
    {
     "data": {
      "application/vnd.jupyter.widget-view+json": {
       "model_id": "b442d501f5a94bdfb30373fd85db61e0",
       "version_major": 2,
       "version_minor": 0
      },
      "text/plain": [
       "interactive(children=(IntSlider(value=255, description='slice_idx', max=511), FloatSlider(value=0.5, descripti…"
      ]
     },
     "metadata": {},
     "output_type": "display_data"
    }
   ],
   "source": [
    "visualize_fusion(ct_image, registered_image, center_align=True, axis=2, cmap=plt.cm.Greys_r, origin='lower')"
   ]
  },
  {
   "cell_type": "code",
   "execution_count": null,
   "metadata": {},
   "outputs": [],
   "source": []
  }
 ],
 "metadata": {
  "kernelspec": {
   "display_name": "ergalio",
   "language": "python",
   "name": "python3"
  },
  "language_info": {
   "codemirror_mode": {
    "name": "ipython",
    "version": 3
   },
   "file_extension": ".py",
   "mimetype": "text/x-python",
   "name": "python",
   "nbconvert_exporter": "python",
   "pygments_lexer": "ipython3",
   "version": "3.11.9"
  }
 },
 "nbformat": 4,
 "nbformat_minor": 4
}
