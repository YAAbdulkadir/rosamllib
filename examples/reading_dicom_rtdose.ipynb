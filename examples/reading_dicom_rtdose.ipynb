{
 "cells": [
  {
   "cell_type": "markdown",
   "metadata": {},
   "source": [
    "# Reading RTDOSE files and resampling to the Referenced Image Grid\n",
    "---"
   ]
  },
  {
   "cell_type": "code",
   "execution_count": 2,
   "metadata": {},
   "outputs": [],
   "source": [
    "import numpy as np\n",
    "import matplotlib.pyplot as plt\n",
    "from rosamllib.readers import DICOMImageReader, RTDoseReader\n",
    "from rosamllib.viewers import interactive_image_viewer"
   ]
  },
  {
   "cell_type": "code",
   "execution_count": 3,
   "metadata": {},
   "outputs": [],
   "source": [
    "# get the paths to the rtdose file and the referenced image\n",
    "rtdose_path = r\"path/to/rtdose/dicom\"\n",
    "ct_path = r\"path/to/reference/dicom/image\""
   ]
  },
  {
   "cell_type": "code",
   "execution_count": 4,
   "metadata": {},
   "outputs": [],
   "source": [
    "# read the dose file and the referenced image\n",
    "rtdose = RTDoseReader(rtdose_path).read()\n",
    "ct_image = DICOMImageReader(ct_path).read()"
   ]
  },
  {
   "cell_type": "code",
   "execution_count": null,
   "metadata": {},
   "outputs": [],
   "source": [
    "# the size of the dose array stored in dicom\n",
    "rtdose.GetSize()"
   ]
  },
  {
   "cell_type": "code",
   "execution_count": null,
   "metadata": {},
   "outputs": [],
   "source": [
    "# get the image array\n",
    "img = ct_image.get_image_array()\n",
    "img.shape"
   ]
  },
  {
   "cell_type": "code",
   "execution_count": null,
   "metadata": {},
   "outputs": [],
   "source": [
    "# resample the dose to the referenced image grid\n",
    "resampled_dose = rtdose.resample_dose_to_image_grid(ct_image)\n",
    "resampled_dose_array = resampled_dose.get_dose_array()\n",
    "resampled_dose_array.shape"
   ]
  },
  {
   "cell_type": "code",
   "execution_count": 8,
   "metadata": {},
   "outputs": [],
   "source": [
    "# apply windowing and leveling for the image\n",
    "window_level = 50\n",
    "window_width = 400\n",
    "min_val = window_level - (window_width / 2)\n",
    "max_val = window_level + (window_width / 2)\n",
    "\n",
    "windowed_img = np.clip(img, min_val, max_val)"
   ]
  },
  {
   "cell_type": "code",
   "execution_count": 9,
   "metadata": {},
   "outputs": [],
   "source": [
    "# display the axial, sagittal and coronal planes for selected slices\n",
    "axial_indx = 150\n",
    "coronal_indx = img.shape[1] // 2\n",
    "sagittal_indx = img.shape[2] // 2\n",
    "\n",
    "dose_threshold = np.max(resampled_dose_array) / 2"
   ]
  },
  {
   "cell_type": "code",
   "execution_count": null,
   "metadata": {},
   "outputs": [],
   "source": [
    "fig = plt.figure(figsize=(10, 8))\n",
    "\n",
    "# axial\n",
    "axial_ax = fig.add_subplot(1, 2, 1)\n",
    "axial_ax.imshow(windowed_img[axial_indx], cmap='gray')\n",
    "axial_overlay = np.ma.masked_less(resampled_dose_array[axial_indx], dose_threshold)\n",
    "axial_ax.imshow(axial_overlay, cmap='jet', alpha=0.5)\n",
    "axial_ax.set_title('Axial')\n",
    "axial_ax.axis('off')\n",
    "\n",
    "# sagittal\n",
    "sagittal_ax = fig.add_subplot(2, 2, 2)\n",
    "sagittal_ax.imshow(windowed_img[:,:,sagittal_indx], cmap='gray', origin='lower')\n",
    "sagittal_overlay = np.ma.masked_less(resampled_dose_array[:,:,sagittal_indx], dose_threshold)\n",
    "sagittal_ax.imshow(sagittal_overlay, cmap='jet', alpha=0.5, origin='lower')\n",
    "sagittal_ax.set_title('Sagittal')\n",
    "sagittal_ax.axis('off')\n",
    "\n",
    "# coronal\n",
    "coronal_ax = fig.add_subplot(2, 2, 4)\n",
    "coronal_ax.imshow(windowed_img[:,coronal_indx,:], cmap='gray', origin='lower')\n",
    "coronal_overlay = np.ma.masked_less(resampled_dose_array[:,coronal_indx,:], dose_threshold)\n",
    "coronal_ax.imshow(coronal_overlay, cmap='jet', alpha=0.5, origin='lower')\n",
    "coronal_ax.set_title('Coronal')\n",
    "coronal_ax.axis('off')\n",
    "\n",
    "plt.tight_layout()\n",
    "plt.show()"
   ]
  },
  {
   "cell_type": "code",
   "execution_count": 11,
   "metadata": {},
   "outputs": [],
   "source": [
    "# generate DRR in the coronal and sagittal planes and overlay with dose\n",
    "coronal_img = np.sum(windowed_img, axis=1)\n",
    "sagittal_img = np.sum(windowed_img, axis=2)\n",
    "coronal_dose = np.sum(np.ma.masked_less(resampled_dose_array, dose_threshold), axis=1)\n",
    "sagittal_dose = np.sum(np.ma.masked_less(resampled_dose_array, dose_threshold), axis=2)"
   ]
  },
  {
   "cell_type": "code",
   "execution_count": null,
   "metadata": {},
   "outputs": [],
   "source": [
    "plt.imshow(coronal_img, cmap='gray', origin='lower')\n",
    "plt.imshow(coronal_dose, cmap='jet', alpha=0.5, origin='lower')\n",
    "plt.axis('off')\n",
    "plt.title('DRR coronal')\n",
    "plt.show()"
   ]
  },
  {
   "cell_type": "code",
   "execution_count": null,
   "metadata": {},
   "outputs": [],
   "source": [
    "plt.imshow(sagittal_img, cmap='gray', origin='lower')\n",
    "plt.imshow(sagittal_dose, cmap='jet', alpha=0.5, origin='lower')\n",
    "plt.axis('off')\n",
    "plt.title('DRR sagittal')\n",
    "plt.show()"
   ]
  },
  {
   "cell_type": "code",
   "execution_count": null,
   "metadata": {},
   "outputs": [],
   "source": [
    "# use the interactive display\n",
    "interactive_image_viewer(ct_image, dose_array=resampled_dose_array, dose_units=resampled_dose.DoseUnits, cmap='gray')"
   ]
  },
  {
   "cell_type": "code",
   "execution_count": null,
   "metadata": {},
   "outputs": [],
   "source": []
  }
 ],
 "metadata": {
  "kernelspec": {
   "display_name": "ergalio",
   "language": "python",
   "name": "python3"
  },
  "language_info": {
   "codemirror_mode": {
    "name": "ipython",
    "version": 3
   },
   "file_extension": ".py",
   "mimetype": "text/x-python",
   "name": "python",
   "nbconvert_exporter": "python",
   "pygments_lexer": "ipython3",
   "version": "3.11.9"
  }
 },
 "nbformat": 4,
 "nbformat_minor": 2
}
