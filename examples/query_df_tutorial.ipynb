{
  "cells": [
    {
      "cell_type": "markdown",
      "metadata": {},
      "source": [
        "# `query_df` — A Practical Tutorial\n",
        "\n",
        "This notebook shows how to use the **generic** `query_df` utility from `rosamllib.utils` to filter arbitrary pandas DataFrames using:\n",
        "- Exact matches, wildcards (`*`, `?`) with escaping\n",
        "- Ranges (`gte`, `lte`, `gt`, `lt`, `eq`, `neq`)\n",
        "- Regex / inverse regex\n",
        "- IN / NOT IN (`in`, `nin`)\n",
        "- Existence checks (`exists`, `missing`)\n",
        "- Container-aware queries (e.g., lists inside cells)\n",
        "- Dot-paths into nested dicts/lists inside a cell (e.g., `Meta.series.desc`, `Meta.angles[0]`)\n",
        "- Approximate numeric equality (`approx`)\n",
        "- Callable, per-cell predicates\n",
        "- Custom operators via `register_op`\n",
        "\n"
      ]
    },
    {
      "cell_type": "markdown",
      "metadata": {},
      "source": [
        "## 0) Setup\n",
        "\n",
        "Import the function and (optionally) the registry helpers so you can add custom operators later."
      ]
    },
    {
      "cell_type": "code",
      "execution_count": 1,
      "metadata": {},
      "outputs": [
        {
          "name": "stdout",
          "output_type": "stream",
          "text": [
            "Python: 3.11.9 | packaged by Anaconda, Inc. | (main, Apr 19 2024, 16:40:41) [MSC v.1916 64 bit (AMD64)]\n",
            "pandas: 2.2.3\n",
            "query_df available ops: ['NotRegEx', 'RegEx', 'approx', 'callable', 'contains', 'eq', 'exists', 'gt', 'gte', 'in', 'in_last_days', 'lt', 'lte', 'missing', 'neq', 'nin', 'time_between']\n"
          ]
        }
      ],
      "source": [
        "import sys, pandas as pd\n",
        "from rosamllib.utils import query_df, register_op, _OPS\n",
        "print('Python:', sys.version)\n",
        "print('pandas:', pd.__version__)\n",
        "print('query_df available ops:', sorted(_OPS.keys()))"
      ]
    },
    {
      "cell_type": "markdown",
      "metadata": {},
      "source": [
        "## 1) Create a toy dataset\n",
        "We'll create a small DataFrame that mixes strings, numbers, lists, and nested dicts/lists."
      ]
    },
    {
      "cell_type": "code",
      "execution_count": 2,
      "metadata": {},
      "outputs": [
        {
          "data": {
            "text/html": [
              "<div>\n",
              "<style scoped>\n",
              "    .dataframe tbody tr th:only-of-type {\n",
              "        vertical-align: middle;\n",
              "    }\n",
              "\n",
              "    .dataframe tbody tr th {\n",
              "        vertical-align: top;\n",
              "    }\n",
              "\n",
              "    .dataframe thead th {\n",
              "        text-align: right;\n",
              "    }\n",
              "</style>\n",
              "<table border=\"1\" class=\"dataframe\">\n",
              "  <thead>\n",
              "    <tr style=\"text-align: right;\">\n",
              "      <th></th>\n",
              "      <th>PatientID</th>\n",
              "      <th>Modality</th>\n",
              "      <th>Age</th>\n",
              "      <th>Score</th>\n",
              "      <th>StudyDate</th>\n",
              "      <th>Tags</th>\n",
              "      <th>Meta</th>\n",
              "    </tr>\n",
              "  </thead>\n",
              "  <tbody>\n",
              "    <tr>\n",
              "      <th>0</th>\n",
              "      <td>P001</td>\n",
              "      <td>CT</td>\n",
              "      <td>42</td>\n",
              "      <td>1.000001</td>\n",
              "      <td>2023-01-01</td>\n",
              "      <td>[head, contrast]</td>\n",
              "      <td>{'series': {'desc': 'Head CT w/ contrast'}, 'a...</td>\n",
              "    </tr>\n",
              "    <tr>\n",
              "      <th>1</th>\n",
              "      <td>P002</td>\n",
              "      <td>MR</td>\n",
              "      <td>35</td>\n",
              "      <td>0.999999</td>\n",
              "      <td>2023-02-15</td>\n",
              "      <td>[knee]</td>\n",
              "      <td>{'series': {'desc': 'Knee MR T1'}, 'angles': [...</td>\n",
              "    </tr>\n",
              "    <tr>\n",
              "      <th>2</th>\n",
              "      <td>PX03</td>\n",
              "      <td>CT</td>\n",
              "      <td>60</td>\n",
              "      <td>1.250000</td>\n",
              "      <td>2023-03-01</td>\n",
              "      <td>[]</td>\n",
              "      <td>{'series': {'desc': 'Chest CT'}, 'angles': []}</td>\n",
              "    </tr>\n",
              "    <tr>\n",
              "      <th>3</th>\n",
              "      <td>P004</td>\n",
              "      <td>None</td>\n",
              "      <td>29</td>\n",
              "      <td>1.000000</td>\n",
              "      <td>2023-04-20</td>\n",
              "      <td>[head, noncontrast]</td>\n",
              "      <td>{'series': {'desc': 'Head CT plain'}, 'angles'...</td>\n",
              "    </tr>\n",
              "  </tbody>\n",
              "</table>\n",
              "</div>"
            ],
            "text/plain": [
              "  PatientID Modality  Age     Score   StudyDate                 Tags  \\\n",
              "0      P001       CT   42  1.000001  2023-01-01     [head, contrast]   \n",
              "1      P002       MR   35  0.999999  2023-02-15               [knee]   \n",
              "2      PX03       CT   60  1.250000  2023-03-01                   []   \n",
              "3      P004     None   29  1.000000  2023-04-20  [head, noncontrast]   \n",
              "\n",
              "                                                Meta  \n",
              "0  {'series': {'desc': 'Head CT w/ contrast'}, 'a...  \n",
              "1  {'series': {'desc': 'Knee MR T1'}, 'angles': [...  \n",
              "2     {'series': {'desc': 'Chest CT'}, 'angles': []}  \n",
              "3  {'series': {'desc': 'Head CT plain'}, 'angles'...  "
            ]
          },
          "execution_count": 2,
          "metadata": {},
          "output_type": "execute_result"
        }
      ],
      "source": [
        "import numpy as np\n",
        "from datetime import date\n",
        "\n",
        "df = pd.DataFrame([\n",
        "    {\n",
        "        'PatientID': 'P001',\n",
        "        'Modality': 'CT',\n",
        "        'Age': 42,\n",
        "        'Score': 1.000001,\n",
        "        'StudyDate': '2023-01-01',\n",
        "        'Tags': ['head', 'contrast'],\n",
        "        'Meta': {'series': {'desc': 'Head CT w/ contrast'}, 'angles': [0.0, 90.0]},\n",
        "    },\n",
        "    {\n",
        "        'PatientID': 'P002',\n",
        "        'Modality': 'MR',\n",
        "        'Age': 35,\n",
        "        'Score': 0.999999,\n",
        "        'StudyDate': '2023-02-15',\n",
        "        'Tags': ['knee'],\n",
        "        'Meta': {'series': {'desc': 'Knee MR T1'}, 'angles': [15.0]},\n",
        "    },\n",
        "    {\n",
        "        'PatientID': 'PX03',\n",
        "        'Modality': 'CT',\n",
        "        'Age': 60,\n",
        "        'Score': 1.25,\n",
        "        'StudyDate': '2023-03-01',\n",
        "        'Tags': [],\n",
        "        'Meta': {'series': {'desc': 'Chest CT'}, 'angles': []},\n",
        "    },\n",
        "    {\n",
        "        'PatientID': 'P004',\n",
        "        'Modality': None,\n",
        "        'Age': 29,\n",
        "        'Score': 1.0,\n",
        "        'StudyDate': '2023-04-20',\n",
        "        'Tags': ['head', 'noncontrast'],\n",
        "        'Meta': {'series': {'desc': 'Head CT plain'}, 'angles': [0.0]},\n",
        "    },\n",
        "])\n",
        "\n",
        "df"
      ]
    },
    {
      "cell_type": "markdown",
      "metadata": {},
      "source": [
        "## 2) Exact and Wildcard Matching\n",
        "- Exact: `{'column': 'value'}`\n",
        "- Wildcards: `*` (many), `?` (one). Escape literal `*`/`?` with `\\*`/`\\?`."
      ]
    },
    {
      "cell_type": "code",
      "execution_count": 3,
      "metadata": {},
      "outputs": [
        {
          "data": {
            "text/html": [
              "<div>\n",
              "<style scoped>\n",
              "    .dataframe tbody tr th:only-of-type {\n",
              "        vertical-align: middle;\n",
              "    }\n",
              "\n",
              "    .dataframe tbody tr th {\n",
              "        vertical-align: top;\n",
              "    }\n",
              "\n",
              "    .dataframe thead th {\n",
              "        text-align: right;\n",
              "    }\n",
              "</style>\n",
              "<table border=\"1\" class=\"dataframe\">\n",
              "  <thead>\n",
              "    <tr style=\"text-align: right;\">\n",
              "      <th></th>\n",
              "      <th>PatientID</th>\n",
              "    </tr>\n",
              "  </thead>\n",
              "  <tbody>\n",
              "    <tr>\n",
              "      <th>0</th>\n",
              "      <td>P001</td>\n",
              "    </tr>\n",
              "    <tr>\n",
              "      <th>1</th>\n",
              "      <td>P002</td>\n",
              "    </tr>\n",
              "    <tr>\n",
              "      <th>3</th>\n",
              "      <td>P004</td>\n",
              "    </tr>\n",
              "  </tbody>\n",
              "</table>\n",
              "</div>"
            ],
            "text/plain": [
              "  PatientID\n",
              "0      P001\n",
              "1      P002\n",
              "3      P004"
            ]
          },
          "execution_count": 3,
          "metadata": {},
          "output_type": "execute_result"
        }
      ],
      "source": [
        "query_df(df, PatientID='P00*')[['PatientID']]"
      ]
    },
    {
      "cell_type": "markdown",
      "metadata": {},
      "source": [
        "## 3) Regex & Case-Insensitive Matching\n",
        "- Use `{'RegEx': pattern}` or `{'NotRegEx': pattern}`.\n",
        "- Set `case_insensitive=True` to fold string comparisons and regex matches."
      ]
    },
    {
      "cell_type": "code",
      "execution_count": 4,
      "metadata": {},
      "outputs": [
        {
          "name": "stderr",
          "output_type": "stream",
          "text": [
            "C:\\Users\\yabdulkadir\\Desktop\\open_source\\Github\\rosamllib\\src\\rosamllib\\utils\\query_df.py:263: UserWarning: This pattern is interpreted as a regular expression, and has match groups. To actually get the groups, use str.extract.\n",
            "  return s2.str.contains(pattern, na=False, regex=True, flags=flags)\n"
          ]
        },
        {
          "data": {
            "text/html": [
              "<div>\n",
              "<style scoped>\n",
              "    .dataframe tbody tr th:only-of-type {\n",
              "        vertical-align: middle;\n",
              "    }\n",
              "\n",
              "    .dataframe tbody tr th {\n",
              "        vertical-align: top;\n",
              "    }\n",
              "\n",
              "    .dataframe thead th {\n",
              "        text-align: right;\n",
              "    }\n",
              "</style>\n",
              "<table border=\"1\" class=\"dataframe\">\n",
              "  <thead>\n",
              "    <tr style=\"text-align: right;\">\n",
              "      <th></th>\n",
              "      <th>PatientID</th>\n",
              "      <th>Modality</th>\n",
              "    </tr>\n",
              "  </thead>\n",
              "  <tbody>\n",
              "    <tr>\n",
              "      <th>0</th>\n",
              "      <td>P001</td>\n",
              "      <td>CT</td>\n",
              "    </tr>\n",
              "    <tr>\n",
              "      <th>2</th>\n",
              "      <td>PX03</td>\n",
              "      <td>CT</td>\n",
              "    </tr>\n",
              "  </tbody>\n",
              "</table>\n",
              "</div>"
            ],
            "text/plain": [
              "  PatientID Modality\n",
              "0      P001       CT\n",
              "2      PX03       CT"
            ]
          },
          "execution_count": 4,
          "metadata": {},
          "output_type": "execute_result"
        }
      ],
      "source": [
        "query_df(df, case_insensitive=True, Modality={'RegEx': '^c(t|oncomputed tomography)?$'})[['PatientID','Modality']]"
      ]
    },
    {
      "cell_type": "code",
      "execution_count": 5,
      "id": "8ddb4b66",
      "metadata": {},
      "outputs": [
        {
          "data": {
            "text/html": [
              "<div>\n",
              "<style scoped>\n",
              "    .dataframe tbody tr th:only-of-type {\n",
              "        vertical-align: middle;\n",
              "    }\n",
              "\n",
              "    .dataframe tbody tr th {\n",
              "        vertical-align: top;\n",
              "    }\n",
              "\n",
              "    .dataframe thead th {\n",
              "        text-align: right;\n",
              "    }\n",
              "</style>\n",
              "<table border=\"1\" class=\"dataframe\">\n",
              "  <thead>\n",
              "    <tr style=\"text-align: right;\">\n",
              "      <th></th>\n",
              "      <th>PatientID</th>\n",
              "      <th>Modality</th>\n",
              "    </tr>\n",
              "  </thead>\n",
              "  <tbody>\n",
              "    <tr>\n",
              "      <th>0</th>\n",
              "      <td>P001</td>\n",
              "      <td>CT</td>\n",
              "    </tr>\n",
              "    <tr>\n",
              "      <th>2</th>\n",
              "      <td>PX03</td>\n",
              "      <td>CT</td>\n",
              "    </tr>\n",
              "  </tbody>\n",
              "</table>\n",
              "</div>"
            ],
            "text/plain": [
              "  PatientID Modality\n",
              "0      P001       CT\n",
              "2      PX03       CT"
            ]
          },
          "execution_count": 5,
          "metadata": {},
          "output_type": "execute_result"
        }
      ],
      "source": [
        "query_df(\n",
        "    df,\n",
        "    case_insensitive=True,\n",
        "    Modality={'RegEx': r'^(?:ct|computed tomography)$'}\n",
        ")[['PatientID','Modality']]"
      ]
    },
    {
      "cell_type": "markdown",
      "metadata": {},
      "source": [
        "## 4) Ranges / Comparison Operators\n",
        "Supported: `gte`, `lte`, `gt`, `lt`, `eq`, `neq`."
      ]
    },
    {
      "cell_type": "code",
      "execution_count": 6,
      "metadata": {},
      "outputs": [
        {
          "data": {
            "text/html": [
              "<div>\n",
              "<style scoped>\n",
              "    .dataframe tbody tr th:only-of-type {\n",
              "        vertical-align: middle;\n",
              "    }\n",
              "\n",
              "    .dataframe tbody tr th {\n",
              "        vertical-align: top;\n",
              "    }\n",
              "\n",
              "    .dataframe thead th {\n",
              "        text-align: right;\n",
              "    }\n",
              "</style>\n",
              "<table border=\"1\" class=\"dataframe\">\n",
              "  <thead>\n",
              "    <tr style=\"text-align: right;\">\n",
              "      <th></th>\n",
              "      <th>PatientID</th>\n",
              "      <th>Age</th>\n",
              "    </tr>\n",
              "  </thead>\n",
              "  <tbody>\n",
              "    <tr>\n",
              "      <th>0</th>\n",
              "      <td>P001</td>\n",
              "      <td>42</td>\n",
              "    </tr>\n",
              "    <tr>\n",
              "      <th>2</th>\n",
              "      <td>PX03</td>\n",
              "      <td>60</td>\n",
              "    </tr>\n",
              "  </tbody>\n",
              "</table>\n",
              "</div>"
            ],
            "text/plain": [
              "  PatientID  Age\n",
              "0      P001   42\n",
              "2      PX03   60"
            ]
          },
          "execution_count": 6,
          "metadata": {},
          "output_type": "execute_result"
        }
      ],
      "source": [
        "query_df(df, Age={'gte': 40, 'lte': 60})[['PatientID','Age']]"
      ]
    },
    {
      "cell_type": "markdown",
      "metadata": {},
      "source": [
        "## 5) IN / NOT IN, Exists / Missing"
      ]
    },
    {
      "cell_type": "code",
      "execution_count": 7,
      "metadata": {},
      "outputs": [
        {
          "data": {
            "text/html": [
              "<div>\n",
              "<style scoped>\n",
              "    .dataframe tbody tr th:only-of-type {\n",
              "        vertical-align: middle;\n",
              "    }\n",
              "\n",
              "    .dataframe tbody tr th {\n",
              "        vertical-align: top;\n",
              "    }\n",
              "\n",
              "    .dataframe thead th {\n",
              "        text-align: right;\n",
              "    }\n",
              "</style>\n",
              "<table border=\"1\" class=\"dataframe\">\n",
              "  <thead>\n",
              "    <tr style=\"text-align: right;\">\n",
              "      <th></th>\n",
              "      <th>PatientID</th>\n",
              "      <th>Modality</th>\n",
              "    </tr>\n",
              "  </thead>\n",
              "  <tbody>\n",
              "    <tr>\n",
              "      <th>0</th>\n",
              "      <td>P001</td>\n",
              "      <td>CT</td>\n",
              "    </tr>\n",
              "    <tr>\n",
              "      <th>2</th>\n",
              "      <td>PX03</td>\n",
              "      <td>CT</td>\n",
              "    </tr>\n",
              "  </tbody>\n",
              "</table>\n",
              "</div>"
            ],
            "text/plain": [
              "  PatientID Modality\n",
              "0      P001       CT\n",
              "2      PX03       CT"
            ]
          },
          "metadata": {},
          "output_type": "display_data"
        },
        {
          "data": {
            "text/html": [
              "<div>\n",
              "<style scoped>\n",
              "    .dataframe tbody tr th:only-of-type {\n",
              "        vertical-align: middle;\n",
              "    }\n",
              "\n",
              "    .dataframe tbody tr th {\n",
              "        vertical-align: top;\n",
              "    }\n",
              "\n",
              "    .dataframe thead th {\n",
              "        text-align: right;\n",
              "    }\n",
              "</style>\n",
              "<table border=\"1\" class=\"dataframe\">\n",
              "  <thead>\n",
              "    <tr style=\"text-align: right;\">\n",
              "      <th></th>\n",
              "      <th>PatientID</th>\n",
              "      <th>Modality</th>\n",
              "    </tr>\n",
              "  </thead>\n",
              "  <tbody>\n",
              "    <tr>\n",
              "      <th>3</th>\n",
              "      <td>P004</td>\n",
              "      <td>None</td>\n",
              "    </tr>\n",
              "  </tbody>\n",
              "</table>\n",
              "</div>"
            ],
            "text/plain": [
              "  PatientID Modality\n",
              "3      P004     None"
            ]
          },
          "metadata": {},
          "output_type": "display_data"
        },
        {
          "data": {
            "text/html": [
              "<div>\n",
              "<style scoped>\n",
              "    .dataframe tbody tr th:only-of-type {\n",
              "        vertical-align: middle;\n",
              "    }\n",
              "\n",
              "    .dataframe tbody tr th {\n",
              "        vertical-align: top;\n",
              "    }\n",
              "\n",
              "    .dataframe thead th {\n",
              "        text-align: right;\n",
              "    }\n",
              "</style>\n",
              "<table border=\"1\" class=\"dataframe\">\n",
              "  <thead>\n",
              "    <tr style=\"text-align: right;\">\n",
              "      <th></th>\n",
              "      <th>PatientID</th>\n",
              "      <th>Modality</th>\n",
              "    </tr>\n",
              "  </thead>\n",
              "  <tbody>\n",
              "    <tr>\n",
              "      <th>0</th>\n",
              "      <td>P001</td>\n",
              "      <td>CT</td>\n",
              "    </tr>\n",
              "    <tr>\n",
              "      <th>1</th>\n",
              "      <td>P002</td>\n",
              "      <td>MR</td>\n",
              "    </tr>\n",
              "    <tr>\n",
              "      <th>2</th>\n",
              "      <td>PX03</td>\n",
              "      <td>CT</td>\n",
              "    </tr>\n",
              "  </tbody>\n",
              "</table>\n",
              "</div>"
            ],
            "text/plain": [
              "  PatientID Modality\n",
              "0      P001       CT\n",
              "1      P002       MR\n",
              "2      PX03       CT"
            ]
          },
          "metadata": {},
          "output_type": "display_data"
        },
        {
          "data": {
            "text/html": [
              "<div>\n",
              "<style scoped>\n",
              "    .dataframe tbody tr th:only-of-type {\n",
              "        vertical-align: middle;\n",
              "    }\n",
              "\n",
              "    .dataframe tbody tr th {\n",
              "        vertical-align: top;\n",
              "    }\n",
              "\n",
              "    .dataframe thead th {\n",
              "        text-align: right;\n",
              "    }\n",
              "</style>\n",
              "<table border=\"1\" class=\"dataframe\">\n",
              "  <thead>\n",
              "    <tr style=\"text-align: right;\">\n",
              "      <th></th>\n",
              "      <th>PatientID</th>\n",
              "      <th>Modality</th>\n",
              "    </tr>\n",
              "  </thead>\n",
              "  <tbody>\n",
              "    <tr>\n",
              "      <th>3</th>\n",
              "      <td>P004</td>\n",
              "      <td>None</td>\n",
              "    </tr>\n",
              "  </tbody>\n",
              "</table>\n",
              "</div>"
            ],
            "text/plain": [
              "  PatientID Modality\n",
              "3      P004     None"
            ]
          },
          "metadata": {},
          "output_type": "display_data"
        }
      ],
      "source": [
        "display(query_df(df, Modality={'in': ['CT','PT']})[['PatientID','Modality']])\n",
        "display(query_df(df, Modality={'nin': ['CT','MR']})[['PatientID','Modality']])\n",
        "display(query_df(df, Modality={'exists': True})[['PatientID','Modality']])\n",
        "display(query_df(df, Modality={'missing': True})[['PatientID','Modality']])"
      ]
    },
    {
      "cell_type": "markdown",
      "metadata": {},
      "source": [
        "## 6) Container-Aware Queries\n",
        "For list-like cells (e.g., `Tags`), `contains` checks membership. A plain `eq` with a scalar also falls back to membership when the cell is a container."
      ]
    },
    {
      "cell_type": "code",
      "execution_count": 8,
      "metadata": {},
      "outputs": [
        {
          "data": {
            "text/html": [
              "<div>\n",
              "<style scoped>\n",
              "    .dataframe tbody tr th:only-of-type {\n",
              "        vertical-align: middle;\n",
              "    }\n",
              "\n",
              "    .dataframe tbody tr th {\n",
              "        vertical-align: top;\n",
              "    }\n",
              "\n",
              "    .dataframe thead th {\n",
              "        text-align: right;\n",
              "    }\n",
              "</style>\n",
              "<table border=\"1\" class=\"dataframe\">\n",
              "  <thead>\n",
              "    <tr style=\"text-align: right;\">\n",
              "      <th></th>\n",
              "      <th>PatientID</th>\n",
              "      <th>Tags</th>\n",
              "    </tr>\n",
              "  </thead>\n",
              "  <tbody>\n",
              "    <tr>\n",
              "      <th>0</th>\n",
              "      <td>P001</td>\n",
              "      <td>[head, contrast]</td>\n",
              "    </tr>\n",
              "    <tr>\n",
              "      <th>3</th>\n",
              "      <td>P004</td>\n",
              "      <td>[head, noncontrast]</td>\n",
              "    </tr>\n",
              "  </tbody>\n",
              "</table>\n",
              "</div>"
            ],
            "text/plain": [
              "  PatientID                 Tags\n",
              "0      P001     [head, contrast]\n",
              "3      P004  [head, noncontrast]"
            ]
          },
          "metadata": {},
          "output_type": "display_data"
        },
        {
          "data": {
            "text/html": [
              "<div>\n",
              "<style scoped>\n",
              "    .dataframe tbody tr th:only-of-type {\n",
              "        vertical-align: middle;\n",
              "    }\n",
              "\n",
              "    .dataframe tbody tr th {\n",
              "        vertical-align: top;\n",
              "    }\n",
              "\n",
              "    .dataframe thead th {\n",
              "        text-align: right;\n",
              "    }\n",
              "</style>\n",
              "<table border=\"1\" class=\"dataframe\">\n",
              "  <thead>\n",
              "    <tr style=\"text-align: right;\">\n",
              "      <th></th>\n",
              "      <th>PatientID</th>\n",
              "      <th>Tags</th>\n",
              "    </tr>\n",
              "  </thead>\n",
              "  <tbody>\n",
              "    <tr>\n",
              "      <th>0</th>\n",
              "      <td>P001</td>\n",
              "      <td>[head, contrast]</td>\n",
              "    </tr>\n",
              "  </tbody>\n",
              "</table>\n",
              "</div>"
            ],
            "text/plain": [
              "  PatientID              Tags\n",
              "0      P001  [head, contrast]"
            ]
          },
          "metadata": {},
          "output_type": "display_data"
        }
      ],
      "source": [
        "display(query_df(df, Tags={'contains': 'head'})[['PatientID','Tags']])\n",
        "display(query_df(df, Tags='contrast')[['PatientID','Tags']])  # scalar membership fallback"
      ]
    },
    {
      "cell_type": "markdown",
      "metadata": {},
      "source": [
        "## 7) Approximate Numeric Equality\n",
        "Use `approx` with `value` plus `atol`/`rtol`."
      ]
    },
    {
      "cell_type": "code",
      "execution_count": 9,
      "metadata": {},
      "outputs": [
        {
          "data": {
            "text/html": [
              "<div>\n",
              "<style scoped>\n",
              "    .dataframe tbody tr th:only-of-type {\n",
              "        vertical-align: middle;\n",
              "    }\n",
              "\n",
              "    .dataframe tbody tr th {\n",
              "        vertical-align: top;\n",
              "    }\n",
              "\n",
              "    .dataframe thead th {\n",
              "        text-align: right;\n",
              "    }\n",
              "</style>\n",
              "<table border=\"1\" class=\"dataframe\">\n",
              "  <thead>\n",
              "    <tr style=\"text-align: right;\">\n",
              "      <th></th>\n",
              "      <th>PatientID</th>\n",
              "      <th>Score</th>\n",
              "    </tr>\n",
              "  </thead>\n",
              "  <tbody>\n",
              "    <tr>\n",
              "      <th>0</th>\n",
              "      <td>P001</td>\n",
              "      <td>1.000001</td>\n",
              "    </tr>\n",
              "    <tr>\n",
              "      <th>1</th>\n",
              "      <td>P002</td>\n",
              "      <td>0.999999</td>\n",
              "    </tr>\n",
              "    <tr>\n",
              "      <th>3</th>\n",
              "      <td>P004</td>\n",
              "      <td>1.000000</td>\n",
              "    </tr>\n",
              "  </tbody>\n",
              "</table>\n",
              "</div>"
            ],
            "text/plain": [
              "  PatientID     Score\n",
              "0      P001  1.000001\n",
              "1      P002  0.999999\n",
              "3      P004  1.000000"
            ]
          },
          "execution_count": 9,
          "metadata": {},
          "output_type": "execute_result"
        }
      ],
      "source": [
        "query_df(df, Score={'approx': {'value': 1.0, 'atol': 1e-6, 'rtol': 1e-6}})[['PatientID','Score']]"
      ]
    },
    {
      "cell_type": "markdown",
      "metadata": {},
      "source": [
        "## 8) Callable Predicates\n",
        "Pass a function that takes a single cell and returns `True`/`False`."
      ]
    },
    {
      "cell_type": "code",
      "execution_count": 10,
      "metadata": {},
      "outputs": [
        {
          "data": {
            "text/html": [
              "<div>\n",
              "<style scoped>\n",
              "    .dataframe tbody tr th:only-of-type {\n",
              "        vertical-align: middle;\n",
              "    }\n",
              "\n",
              "    .dataframe tbody tr th {\n",
              "        vertical-align: top;\n",
              "    }\n",
              "\n",
              "    .dataframe thead th {\n",
              "        text-align: right;\n",
              "    }\n",
              "</style>\n",
              "<table border=\"1\" class=\"dataframe\">\n",
              "  <thead>\n",
              "    <tr style=\"text-align: right;\">\n",
              "      <th></th>\n",
              "      <th>PatientID</th>\n",
              "      <th>Age</th>\n",
              "    </tr>\n",
              "  </thead>\n",
              "  <tbody>\n",
              "    <tr>\n",
              "      <th>1</th>\n",
              "      <td>P002</td>\n",
              "      <td>35</td>\n",
              "    </tr>\n",
              "    <tr>\n",
              "      <th>2</th>\n",
              "      <td>PX03</td>\n",
              "      <td>60</td>\n",
              "    </tr>\n",
              "  </tbody>\n",
              "</table>\n",
              "</div>"
            ],
            "text/plain": [
              "  PatientID  Age\n",
              "1      P002   35\n",
              "2      PX03   60"
            ]
          },
          "execution_count": 10,
          "metadata": {},
          "output_type": "execute_result"
        }
      ],
      "source": [
        "query_df(df, Age=lambda a: a is not None and a % 5 == 0)[['PatientID','Age']]"
      ]
    },
    {
      "cell_type": "markdown",
      "metadata": {},
      "source": [
        "## 9) Dot-Paths into Nested Dicts / Lists in a Cell\n",
        "You can reference nested content like `Meta.series.desc` or `Meta.angles[0]`. The dot-path walker supports sequence indices and `[*]` to iterate all list items."
      ]
    },
    {
      "cell_type": "code",
      "execution_count": 11,
      "metadata": {},
      "outputs": [
        {
          "data": {
            "text/html": [
              "<div>\n",
              "<style scoped>\n",
              "    .dataframe tbody tr th:only-of-type {\n",
              "        vertical-align: middle;\n",
              "    }\n",
              "\n",
              "    .dataframe tbody tr th {\n",
              "        vertical-align: top;\n",
              "    }\n",
              "\n",
              "    .dataframe thead th {\n",
              "        text-align: right;\n",
              "    }\n",
              "</style>\n",
              "<table border=\"1\" class=\"dataframe\">\n",
              "  <thead>\n",
              "    <tr style=\"text-align: right;\">\n",
              "      <th></th>\n",
              "      <th>PatientID</th>\n",
              "      <th>Meta</th>\n",
              "    </tr>\n",
              "  </thead>\n",
              "  <tbody>\n",
              "    <tr>\n",
              "      <th>0</th>\n",
              "      <td>P001</td>\n",
              "      <td>{'series': {'desc': 'Head CT w/ contrast'}, 'a...</td>\n",
              "    </tr>\n",
              "    <tr>\n",
              "      <th>3</th>\n",
              "      <td>P004</td>\n",
              "      <td>{'series': {'desc': 'Head CT plain'}, 'angles'...</td>\n",
              "    </tr>\n",
              "  </tbody>\n",
              "</table>\n",
              "</div>"
            ],
            "text/plain": [
              "  PatientID                                               Meta\n",
              "0      P001  {'series': {'desc': 'Head CT w/ contrast'}, 'a...\n",
              "3      P004  {'series': {'desc': 'Head CT plain'}, 'angles'..."
            ]
          },
          "metadata": {},
          "output_type": "display_data"
        },
        {
          "data": {
            "text/html": [
              "<div>\n",
              "<style scoped>\n",
              "    .dataframe tbody tr th:only-of-type {\n",
              "        vertical-align: middle;\n",
              "    }\n",
              "\n",
              "    .dataframe tbody tr th {\n",
              "        vertical-align: top;\n",
              "    }\n",
              "\n",
              "    .dataframe thead th {\n",
              "        text-align: right;\n",
              "    }\n",
              "</style>\n",
              "<table border=\"1\" class=\"dataframe\">\n",
              "  <thead>\n",
              "    <tr style=\"text-align: right;\">\n",
              "      <th></th>\n",
              "      <th>PatientID</th>\n",
              "      <th>Meta</th>\n",
              "    </tr>\n",
              "  </thead>\n",
              "  <tbody>\n",
              "    <tr>\n",
              "      <th>0</th>\n",
              "      <td>P001</td>\n",
              "      <td>{'series': {'desc': 'Head CT w/ contrast'}, 'a...</td>\n",
              "    </tr>\n",
              "    <tr>\n",
              "      <th>3</th>\n",
              "      <td>P004</td>\n",
              "      <td>{'series': {'desc': 'Head CT plain'}, 'angles'...</td>\n",
              "    </tr>\n",
              "  </tbody>\n",
              "</table>\n",
              "</div>"
            ],
            "text/plain": [
              "  PatientID                                               Meta\n",
              "0      P001  {'series': {'desc': 'Head CT w/ contrast'}, 'a...\n",
              "3      P004  {'series': {'desc': 'Head CT plain'}, 'angles'..."
            ]
          },
          "metadata": {},
          "output_type": "display_data"
        }
      ],
      "source": [
        "display(query_df(df, **{'Meta.series.desc': {'RegEx': 'Head.*'}})[['PatientID','Meta']])\n",
        "display(query_df(df, **{'Meta.angles[0]': {'gte': 0, 'lte': 1}})[['PatientID','Meta']])"
      ]
    },
    {
      "cell_type": "markdown",
      "metadata": {},
      "source": [
        "## 10) OR Across Multiple Conditions for the Same Column\n",
        "Pass a list of conditions — they’re OR’ed **within the same column**; AND’ed across different columns."
      ]
    },
    {
      "cell_type": "code",
      "execution_count": 12,
      "metadata": {},
      "outputs": [
        {
          "data": {
            "text/html": [
              "<div>\n",
              "<style scoped>\n",
              "    .dataframe tbody tr th:only-of-type {\n",
              "        vertical-align: middle;\n",
              "    }\n",
              "\n",
              "    .dataframe tbody tr th {\n",
              "        vertical-align: top;\n",
              "    }\n",
              "\n",
              "    .dataframe thead th {\n",
              "        text-align: right;\n",
              "    }\n",
              "</style>\n",
              "<table border=\"1\" class=\"dataframe\">\n",
              "  <thead>\n",
              "    <tr style=\"text-align: right;\">\n",
              "      <th></th>\n",
              "      <th>PatientID</th>\n",
              "      <th>Modality</th>\n",
              "    </tr>\n",
              "  </thead>\n",
              "  <tbody>\n",
              "    <tr>\n",
              "      <th>0</th>\n",
              "      <td>P001</td>\n",
              "      <td>CT</td>\n",
              "    </tr>\n",
              "    <tr>\n",
              "      <th>1</th>\n",
              "      <td>P002</td>\n",
              "      <td>MR</td>\n",
              "    </tr>\n",
              "    <tr>\n",
              "      <th>2</th>\n",
              "      <td>PX03</td>\n",
              "      <td>CT</td>\n",
              "    </tr>\n",
              "  </tbody>\n",
              "</table>\n",
              "</div>"
            ],
            "text/plain": [
              "  PatientID Modality\n",
              "0      P001       CT\n",
              "1      P002       MR\n",
              "2      PX03       CT"
            ]
          },
          "execution_count": 12,
          "metadata": {},
          "output_type": "execute_result"
        }
      ],
      "source": [
        "query_df(df, Modality=['CT', {'RegEx': '^M'}])[['PatientID','Modality']]"
      ]
    },
    {
      "cell_type": "markdown",
      "metadata": {},
      "source": [
        "## 11) Combine Multiple Filters (AND semantics across columns)"
      ]
    },
    {
      "cell_type": "code",
      "execution_count": 13,
      "metadata": {},
      "outputs": [
        {
          "data": {
            "text/html": [
              "<div>\n",
              "<style scoped>\n",
              "    .dataframe tbody tr th:only-of-type {\n",
              "        vertical-align: middle;\n",
              "    }\n",
              "\n",
              "    .dataframe tbody tr th {\n",
              "        vertical-align: top;\n",
              "    }\n",
              "\n",
              "    .dataframe thead th {\n",
              "        text-align: right;\n",
              "    }\n",
              "</style>\n",
              "<table border=\"1\" class=\"dataframe\">\n",
              "  <thead>\n",
              "    <tr style=\"text-align: right;\">\n",
              "      <th></th>\n",
              "      <th>PatientID</th>\n",
              "      <th>Modality</th>\n",
              "      <th>Tags</th>\n",
              "      <th>Meta</th>\n",
              "    </tr>\n",
              "  </thead>\n",
              "  <tbody>\n",
              "    <tr>\n",
              "      <th>0</th>\n",
              "      <td>P001</td>\n",
              "      <td>CT</td>\n",
              "      <td>[head, contrast]</td>\n",
              "      <td>{'series': {'desc': 'Head CT w/ contrast'}, 'a...</td>\n",
              "    </tr>\n",
              "  </tbody>\n",
              "</table>\n",
              "</div>"
            ],
            "text/plain": [
              "  PatientID Modality              Tags  \\\n",
              "0      P001       CT  [head, contrast]   \n",
              "\n",
              "                                                Meta  \n",
              "0  {'series': {'desc': 'Head CT w/ contrast'}, 'a...  "
            ]
          },
          "execution_count": 13,
          "metadata": {},
          "output_type": "execute_result"
        }
      ],
      "source": [
        "query_df(\n",
        "    df,\n",
        "    Modality='CT',\n",
        "    Tags={'contains': 'head'},\n",
        "    **{'Meta.series.desc': {'RegEx': '.*contrast.*'}},\n",
        ")[['PatientID','Modality','Tags','Meta']]"
      ]
    },
    {
      "cell_type": "markdown",
      "metadata": {},
      "source": [
        "## 12) Custom Operators via `register_op`\n",
        "You can add domain-specific operators without modifying `query_df`. An operator receives the column *Series*, the user-supplied value, and a context dict; it must return a boolean mask."
      ]
    },
    {
      "cell_type": "code",
      "execution_count": 14,
      "metadata": {},
      "outputs": [
        {
          "name": "stdout",
          "output_type": "stream",
          "text": [
            "Registered ops: ['NotRegEx', 'RegEx', 'approx', 'callable', 'contains', 'eq', 'exists', 'gt', 'gte', 'in', 'in_last_days', 'lt', 'lte', 'missing', 'near_int', 'neq', 'nin', 'time_between']\n"
          ]
        },
        {
          "data": {
            "text/html": [
              "<div>\n",
              "<style scoped>\n",
              "    .dataframe tbody tr th:only-of-type {\n",
              "        vertical-align: middle;\n",
              "    }\n",
              "\n",
              "    .dataframe tbody tr th {\n",
              "        vertical-align: top;\n",
              "    }\n",
              "\n",
              "    .dataframe thead th {\n",
              "        text-align: right;\n",
              "    }\n",
              "</style>\n",
              "<table border=\"1\" class=\"dataframe\">\n",
              "  <thead>\n",
              "    <tr style=\"text-align: right;\">\n",
              "      <th></th>\n",
              "      <th>PatientID</th>\n",
              "      <th>Age</th>\n",
              "    </tr>\n",
              "  </thead>\n",
              "  <tbody>\n",
              "    <tr>\n",
              "      <th>1</th>\n",
              "      <td>P002</td>\n",
              "      <td>35</td>\n",
              "    </tr>\n",
              "  </tbody>\n",
              "</table>\n",
              "</div>"
            ],
            "text/plain": [
              "  PatientID  Age\n",
              "1      P002   35"
            ]
          },
          "execution_count": 14,
          "metadata": {},
          "output_type": "execute_result"
        }
      ],
      "source": [
        "def op_near_int(series, target, ctx):\n",
        "    \"\"\"True if value is within 1 of target integer (handles NaN).\"\"\"\n",
        "    try:\n",
        "        tgt = int(target)\n",
        "    except Exception:\n",
        "        return pd.Series(False, index=series.index)\n",
        "    return (series.astype('float64') - tgt).abs().le(1)\n",
        "\n",
        "register_op('near_int', op_near_int)\n",
        "print('Registered ops:', sorted(_OPS.keys()))\n",
        "query_df(df, Age={'near_int': 35})[['PatientID','Age']]"
      ]
    },
    {
      "cell_type": "markdown",
      "id": "5c38d32e",
      "metadata": {},
      "source": [
        "# 13) Dates & times (best practices)"
      ]
    },
    {
      "cell_type": "code",
      "execution_count": 15,
      "id": "68fece26",
      "metadata": {},
      "outputs": [
        {
          "data": {
            "text/html": [
              "<div>\n",
              "<style scoped>\n",
              "    .dataframe tbody tr th:only-of-type {\n",
              "        vertical-align: middle;\n",
              "    }\n",
              "\n",
              "    .dataframe tbody tr th {\n",
              "        vertical-align: top;\n",
              "    }\n",
              "\n",
              "    .dataframe thead th {\n",
              "        text-align: right;\n",
              "    }\n",
              "</style>\n",
              "<table border=\"1\" class=\"dataframe\">\n",
              "  <thead>\n",
              "    <tr style=\"text-align: right;\">\n",
              "      <th></th>\n",
              "      <th>PatientID</th>\n",
              "      <th>StudyDate</th>\n",
              "      <th>AcqDateTime</th>\n",
              "      <th>SeriesTime</th>\n",
              "    </tr>\n",
              "  </thead>\n",
              "  <tbody>\n",
              "    <tr>\n",
              "      <th>0</th>\n",
              "      <td>A</td>\n",
              "      <td>2024-02-15</td>\n",
              "      <td>2024-03-01 08:12:00+00:00</td>\n",
              "      <td>08:30:00</td>\n",
              "    </tr>\n",
              "    <tr>\n",
              "      <th>1</th>\n",
              "      <td>B</td>\n",
              "      <td>2024-03-01</td>\n",
              "      <td>2024-03-01 23:59:59+00:00</td>\n",
              "      <td>23:30:00</td>\n",
              "    </tr>\n",
              "    <tr>\n",
              "      <th>2</th>\n",
              "      <td>C</td>\n",
              "      <td>2023-12-31</td>\n",
              "      <td>2023-12-31 23:00:00+00:00</td>\n",
              "      <td>01:15:00</td>\n",
              "    </tr>\n",
              "    <tr>\n",
              "      <th>3</th>\n",
              "      <td>D</td>\n",
              "      <td>2024-03-15</td>\n",
              "      <td>2024-03-15 00:00:01+00:00</td>\n",
              "      <td>22:15:00</td>\n",
              "    </tr>\n",
              "  </tbody>\n",
              "</table>\n",
              "</div>"
            ],
            "text/plain": [
              "  PatientID   StudyDate               AcqDateTime SeriesTime\n",
              "0         A  2024-02-15 2024-03-01 08:12:00+00:00   08:30:00\n",
              "1         B  2024-03-01 2024-03-01 23:59:59+00:00   23:30:00\n",
              "2         C  2023-12-31 2023-12-31 23:00:00+00:00   01:15:00\n",
              "3         D  2024-03-15 2024-03-15 00:00:01+00:00   22:15:00"
            ]
          },
          "execution_count": 15,
          "metadata": {},
          "output_type": "execute_result"
        }
      ],
      "source": [
        "df = pd.DataFrame({\n",
        "    \"PatientID\": [\"A\",\"B\",\"C\",\"D\"],\n",
        "    \"StudyDate\": [\"2024-02-15\", \"2024-03-01\", \"2023-12-31\", \"2024-03-15\"],  # dates\n",
        "    \"AcqDateTime\": [\n",
        "        \"2024-03-01T08:12:00Z\",\n",
        "        \"2024-03-01T23:59:59Z\",\n",
        "        \"2023-12-31T23:00:00Z\",\n",
        "        \"2024-03-15T00:00:01Z\",\n",
        "    ],  # datetimes\n",
        "    \"SeriesTime\": [\"08:30:00\",\"23:30:00\",\"01:15:00\",\"22:15:00\"],  # time-of-day\n",
        "})\n",
        "\n",
        "# Coerce columns to appropriate dtypes once (recommended)\n",
        "df[\"StudyDate\"]   = pd.to_datetime(df[\"StudyDate\"], errors=\"coerce\").dt.date\n",
        "df[\"AcqDateTime\"] = pd.to_datetime(df[\"AcqDateTime\"], errors=\"coerce\", utc=True)\n",
        "df[\"SeriesTime\"]  = pd.to_datetime(df[\"SeriesTime\"], errors=\"coerce\", format=\"%H:%M:%S\").dt.time\n",
        "\n",
        "df"
      ]
    },
    {
      "cell_type": "code",
      "execution_count": 16,
      "id": "da805ed2",
      "metadata": {},
      "outputs": [
        {
          "data": {
            "text/html": [
              "<div>\n",
              "<style scoped>\n",
              "    .dataframe tbody tr th:only-of-type {\n",
              "        vertical-align: middle;\n",
              "    }\n",
              "\n",
              "    .dataframe tbody tr th {\n",
              "        vertical-align: top;\n",
              "    }\n",
              "\n",
              "    .dataframe thead th {\n",
              "        text-align: right;\n",
              "    }\n",
              "</style>\n",
              "<table border=\"1\" class=\"dataframe\">\n",
              "  <thead>\n",
              "    <tr style=\"text-align: right;\">\n",
              "      <th></th>\n",
              "      <th>PatientID</th>\n",
              "      <th>AcqDateTime</th>\n",
              "    </tr>\n",
              "  </thead>\n",
              "  <tbody>\n",
              "    <tr>\n",
              "      <th>0</th>\n",
              "      <td>A</td>\n",
              "      <td>2024-03-01 08:12:00+00:00</td>\n",
              "    </tr>\n",
              "    <tr>\n",
              "      <th>1</th>\n",
              "      <td>B</td>\n",
              "      <td>2024-03-01 23:59:59+00:00</td>\n",
              "    </tr>\n",
              "    <tr>\n",
              "      <th>3</th>\n",
              "      <td>D</td>\n",
              "      <td>2024-03-15 00:00:01+00:00</td>\n",
              "    </tr>\n",
              "  </tbody>\n",
              "</table>\n",
              "</div>"
            ],
            "text/plain": [
              "  PatientID               AcqDateTime\n",
              "0         A 2024-03-01 08:12:00+00:00\n",
              "1         B 2024-03-01 23:59:59+00:00\n",
              "3         D 2024-03-15 00:00:01+00:00"
            ]
          },
          "execution_count": 16,
          "metadata": {},
          "output_type": "execute_result"
        }
      ],
      "source": [
        "# Range queries on date/datetime\n",
        "# Acquisitions on/after March 1, 2024 (UTC)\n",
        "query_df(df, AcqDateTime={\"gte\": \"2024-03-01T00:00:00Z\"})[\n",
        "    [\"PatientID\",\"AcqDateTime\"]\n",
        "]"
      ]
    },
    {
      "cell_type": "code",
      "execution_count": 17,
      "id": "4e1f3a58",
      "metadata": {},
      "outputs": [
        {
          "data": {
            "text/html": [
              "<div>\n",
              "<style scoped>\n",
              "    .dataframe tbody tr th:only-of-type {\n",
              "        vertical-align: middle;\n",
              "    }\n",
              "\n",
              "    .dataframe tbody tr th {\n",
              "        vertical-align: top;\n",
              "    }\n",
              "\n",
              "    .dataframe thead th {\n",
              "        text-align: right;\n",
              "    }\n",
              "</style>\n",
              "<table border=\"1\" class=\"dataframe\">\n",
              "  <thead>\n",
              "    <tr style=\"text-align: right;\">\n",
              "      <th></th>\n",
              "      <th>PatientID</th>\n",
              "      <th>StudyDate</th>\n",
              "    </tr>\n",
              "  </thead>\n",
              "  <tbody>\n",
              "    <tr>\n",
              "      <th>0</th>\n",
              "      <td>A</td>\n",
              "      <td>2024-02-15</td>\n",
              "    </tr>\n",
              "  </tbody>\n",
              "</table>\n",
              "</div>"
            ],
            "text/plain": [
              "  PatientID   StudyDate\n",
              "0         A  2024-02-15"
            ]
          },
          "execution_count": 17,
          "metadata": {},
          "output_type": "execute_result"
        }
      ],
      "source": [
        "query_df(df, StudyDate={\"eq\": \"2024-02-15\"})[[\"PatientID\",\"StudyDate\"]]"
      ]
    },
    {
      "cell_type": "code",
      "execution_count": 18,
      "id": "2b09c3c7",
      "metadata": {},
      "outputs": [
        {
          "data": {
            "text/html": [
              "<div>\n",
              "<style scoped>\n",
              "    .dataframe tbody tr th:only-of-type {\n",
              "        vertical-align: middle;\n",
              "    }\n",
              "\n",
              "    .dataframe tbody tr th {\n",
              "        vertical-align: top;\n",
              "    }\n",
              "\n",
              "    .dataframe thead th {\n",
              "        text-align: right;\n",
              "    }\n",
              "</style>\n",
              "<table border=\"1\" class=\"dataframe\">\n",
              "  <thead>\n",
              "    <tr style=\"text-align: right;\">\n",
              "      <th></th>\n",
              "      <th>PatientID</th>\n",
              "      <th>SeriesTime</th>\n",
              "    </tr>\n",
              "  </thead>\n",
              "  <tbody>\n",
              "    <tr>\n",
              "      <th>0</th>\n",
              "      <td>A</td>\n",
              "      <td>08:30:00</td>\n",
              "    </tr>\n",
              "  </tbody>\n",
              "</table>\n",
              "</div>"
            ],
            "text/plain": [
              "  PatientID SeriesTime\n",
              "0         A   08:30:00"
            ]
          },
          "execution_count": 18,
          "metadata": {},
          "output_type": "execute_result"
        }
      ],
      "source": [
        "# Time-of-day comparisons\n",
        "# After 14:00:00\n",
        "query_df(df, SeriesTime={\"gte\": \"14:00:00\"})[[\"PatientID\",\"SeriesTime\"]]\n",
        "\n",
        "# Exactly 08:30:00\n",
        "query_df(df, SeriesTime={\"eq\": \"08:30:00\"})[[\"PatientID\",\"SeriesTime\"]]"
      ]
    },
    {
      "cell_type": "code",
      "execution_count": 19,
      "id": "24a17d9f",
      "metadata": {},
      "outputs": [
        {
          "data": {
            "text/html": [
              "<div>\n",
              "<style scoped>\n",
              "    .dataframe tbody tr th:only-of-type {\n",
              "        vertical-align: middle;\n",
              "    }\n",
              "\n",
              "    .dataframe tbody tr th {\n",
              "        vertical-align: top;\n",
              "    }\n",
              "\n",
              "    .dataframe thead th {\n",
              "        text-align: right;\n",
              "    }\n",
              "</style>\n",
              "<table border=\"1\" class=\"dataframe\">\n",
              "  <thead>\n",
              "    <tr style=\"text-align: right;\">\n",
              "      <th></th>\n",
              "      <th>PatientID</th>\n",
              "      <th>AcqDateTime</th>\n",
              "    </tr>\n",
              "  </thead>\n",
              "  <tbody>\n",
              "  </tbody>\n",
              "</table>\n",
              "</div>"
            ],
            "text/plain": [
              "Empty DataFrame\n",
              "Columns: [PatientID, AcqDateTime]\n",
              "Index: []"
            ]
          },
          "execution_count": 19,
          "metadata": {},
          "output_type": "execute_result"
        }
      ],
      "source": [
        "# Usage (e.g., last 7 days)\n",
        "query_df(df, AcqDateTime={\"in_last_days\": 7})[\n",
        "    [\"PatientID\",\"AcqDateTime\"]\n",
        "]"
      ]
    },
    {
      "cell_type": "markdown",
      "metadata": {},
      "source": [
        "## 14) Notes & Tips\n",
        "- **Dot-paths** only traverse within a single cell (e.g., a `dict`/`list` stored in a column). They do not join across rows/tables.\n",
        "- For **date**-like strings, prefer converting your DataFrame columns to `datetime64[ns]` first for efficient range queries.\n",
        "- Use `case_insensitive=True` to normalize string comparisons and regex.\n",
        "- For **float** comparisons, prefer `approx` over `eq` to avoid surprise misses due to precision.\n",
        "- You can add any number of custom operators with `register_op(name, fn)`.\n",
        "\n",
        "That’s it — happy querying!"
      ]
    },
    {
      "cell_type": "code",
      "execution_count": 20,
      "id": "5aa2b7a0",
      "metadata": {},
      "outputs": [],
      "source": [
        "import datetime as dt"
      ]
    },
    {
      "cell_type": "code",
      "execution_count": 21,
      "id": "1d3a4eb1",
      "metadata": {},
      "outputs": [
        {
          "data": {
            "text/html": [
              "<div>\n",
              "<style scoped>\n",
              "    .dataframe tbody tr th:only-of-type {\n",
              "        vertical-align: middle;\n",
              "    }\n",
              "\n",
              "    .dataframe tbody tr th {\n",
              "        vertical-align: top;\n",
              "    }\n",
              "\n",
              "    .dataframe thead th {\n",
              "        text-align: right;\n",
              "    }\n",
              "</style>\n",
              "<table border=\"1\" class=\"dataframe\">\n",
              "  <thead>\n",
              "    <tr style=\"text-align: right;\">\n",
              "      <th></th>\n",
              "      <th>PatientID</th>\n",
              "      <th>SeriesDT</th>\n",
              "    </tr>\n",
              "  </thead>\n",
              "  <tbody>\n",
              "    <tr>\n",
              "      <th>1</th>\n",
              "      <td>P2</td>\n",
              "      <td>2024-02-15 14:05:00</td>\n",
              "    </tr>\n",
              "    <tr>\n",
              "      <th>2</th>\n",
              "      <td>P3</td>\n",
              "      <td>2024-02-20 23:45:00</td>\n",
              "    </tr>\n",
              "  </tbody>\n",
              "</table>\n",
              "</div>"
            ],
            "text/plain": [
              "  PatientID            SeriesDT\n",
              "1        P2 2024-02-15 14:05:00\n",
              "2        P3 2024-02-20 23:45:00"
            ]
          },
          "execution_count": 21,
          "metadata": {},
          "output_type": "execute_result"
        }
      ],
      "source": [
        "df = pd.DataFrame({\n",
        "    \"PatientID\": [\"P1\",\"P2\",\"P3\",\"P4\"],\n",
        "    \"StudyDate\": pd.to_datetime([\"2024-02-14\",\"2024-02-15\",\"2024-02-20\",\"2024-01-01\"]),\n",
        "    \"SeriesTime\": [dt.time(8,30), dt.time(14,5), dt.time(23,45), dt.time(3,15)],\n",
        "    \"SeriesDT\": pd.to_datetime([\"2024-02-14 08:30:00\",\n",
        "                                \"2024-02-15 14:05:00\",\n",
        "                                \"2024-02-20 23:45:00\",\n",
        "                                \"2024-01-01 03:15:00\"])\n",
        "})\n",
        "\n",
        "# 1) Time-of-day window 08:00..15:00 (inclusive)\n",
        "query_df(df, SeriesTime={\"time_between\": [\"08:00\", \"15:00\"]})[[\"PatientID\",\"SeriesTime\"]]\n",
        "\n",
        "# 2) Wrap-around window 22:00..06:00 (overnight)\n",
        "query_df(df, SeriesTime={\"time_between\": [\"22:00\", \"06:00\"]})[[\"PatientID\",\"SeriesTime\"]]\n",
        "\n",
        "# 3) Last 30 days by StudyDate (date column)\n",
        "query_df(df, StudyDate={\"in_last_days\": 30})[[\"PatientID\",\"StudyDate\"]]\n",
        "\n",
        "# 4) Last 7 days by SeriesDT (datetime column), with fixed reference \"now\"\n",
        "ref_now = dt.datetime(2024, 2, 21, 12, 0, 0)\n",
        "query_df(df, SeriesDT={\"in_last_days\": {\"days\": 7, \"now\": ref_now}})[[\"PatientID\",\"SeriesDT\"]]"
      ]
    },
    {
      "cell_type": "code",
      "execution_count": null,
      "id": "e9efd5bd",
      "metadata": {},
      "outputs": [],
      "source": []
    }
  ],
  "metadata": {
    "created": "2025-09-28T02:11:20.237146Z",
    "kernelspec": {
      "display_name": "rosamllib_dev",
      "language": "python",
      "name": "python3"
    },
    "language_info": {
      "codemirror_mode": {
        "name": "ipython",
        "version": 3
      },
      "file_extension": ".py",
      "mimetype": "text/x-python",
      "name": "python",
      "nbconvert_exporter": "python",
      "pygments_lexer": "ipython3",
      "version": "3.11.9"
    }
  },
  "nbformat": 4,
  "nbformat_minor": 5
}
