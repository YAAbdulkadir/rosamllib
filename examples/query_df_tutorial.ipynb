{
  "cells": [
    {
      "cell_type": "markdown",
      "metadata": {},
      "source": [
        "# `query_df` \u2014 A Practical Tutorial\n",
        "\n",
        "This notebook shows how to use the **generic** `query_df` utility from `rosamllib.utils` to filter arbitrary pandas DataFrames using:\n",
        "- Exact matches, wildcards (`*`, `?`) with escaping\n",
        "- Ranges (`gte`, `lte`, `gt`, `lt`, `eq`, `neq`)\n",
        "- Regex / inverse regex\n",
        "- IN / NOT IN (`in`, `nin`)\n",
        "- Existence checks (`exists`, `missing`)\n",
        "- Container-aware queries (e.g., lists inside cells)\n",
        "- Dot-paths into nested dicts/lists inside a cell (e.g., `Meta.series.desc`, `Meta.angles[0]`)\n",
        "- Approximate numeric equality (`approx`)\n",
        "- Callable, per-cell predicates\n",
        "- Custom operators via `register_op`\n",
        "\n",
        "> The function is **domain-agnostic**. Any DICOM-specific helpers should live in higher-level code (e.g., your `DICOMLoader.query`).\n"
      ]
    },
    {
      "cell_type": "markdown",
      "metadata": {},
      "source": [
        "## 0) Setup\n",
        "\n",
        "Import the function and (optionally) the registry helpers so you can add custom operators later."
      ]
    },
    {
      "cell_type": "code",
      "execution_count": null,
      "metadata": {},
      "outputs": [],
      "source": [
        "import sys, pandas as pd\n",
        "from rosamllib.utils import query_df, register_op, _OPS\n",
        "print('Python:', sys.version)\n",
        "print('pandas:', pd.__version__)\n",
        "print('query_df available ops:', sorted(_OPS.keys()))"
      ]
    },
    {
      "cell_type": "markdown",
      "metadata": {},
      "source": [
        "## 1) Create a toy dataset\n",
        "We'll create a small DataFrame that mixes strings, numbers, lists, and nested dicts/lists."
      ]
    },
    {
      "cell_type": "code",
      "execution_count": null,
      "metadata": {},
      "outputs": [],
      "source": [
        "import numpy as np\n",
        "from datetime import date\n",
        "\n",
        "df = pd.DataFrame([\n",
        "    {\n",
        "        'PatientID': 'P001',\n",
        "        'Modality': 'CT',\n",
        "        'Age': 42,\n",
        "        'Score': 1.000001,\n",
        "        'StudyDate': '2023-01-01',\n",
        "        'Tags': ['head', 'contrast'],\n",
        "        'Meta': {'series': {'desc': 'Head CT w/ contrast'}, 'angles': [0.0, 90.0]},\n",
        "    },\n",
        "    {\n",
        "        'PatientID': 'P002',\n",
        "        'Modality': 'MR',\n",
        "        'Age': 35,\n",
        "        'Score': 0.999999,\n",
        "        'StudyDate': '2023-02-15',\n",
        "        'Tags': ['knee'],\n",
        "        'Meta': {'series': {'desc': 'Knee MR T1'}, 'angles': [15.0]},\n",
        "    },\n",
        "    {\n",
        "        'PatientID': 'PX03',\n",
        "        'Modality': 'CT',\n",
        "        'Age': 60,\n",
        "        'Score': 1.25,\n",
        "        'StudyDate': '2023-03-01',\n",
        "        'Tags': [],\n",
        "        'Meta': {'series': {'desc': 'Chest CT'}, 'angles': []},\n",
        "    },\n",
        "    {\n",
        "        'PatientID': 'P004',\n",
        "        'Modality': None,\n",
        "        'Age': 29,\n",
        "        'Score': 1.0,\n",
        "        'StudyDate': '2023-04-20',\n",
        "        'Tags': ['head', 'noncontrast'],\n",
        "        'Meta': {'series': {'desc': 'Head CT plain'}, 'angles': [0.0]},\n",
        "    },\n",
        "])\n",
        "\n",
        "df"
      ]
    },
    {
      "cell_type": "markdown",
      "metadata": {},
      "source": [
        "## 2) Exact and Wildcard Matching\n",
        "- Exact: `{'column': 'value'}`\n",
        "- Wildcards: `*` (many), `?` (one). Escape literal `*`/`?` with `\\*`/`\\?`."
      ]
    },
    {
      "cell_type": "code",
      "execution_count": null,
      "metadata": {},
      "outputs": [],
      "source": [
        "query_df(df, PatientID='P00*')[['PatientID']]"
      ]
    },
    {
      "cell_type": "markdown",
      "metadata": {},
      "source": [
        "## 3) Regex & Case-Insensitive Matching\n",
        "- Use `{'RegEx': pattern}` or `{'NotRegEx': pattern}`.\n",
        "- Set `case_insensitive=True` to fold string comparisons and regex matches."
      ]
    },
    {
      "cell_type": "code",
      "execution_count": null,
      "metadata": {},
      "outputs": [],
      "source": [
        "query_df(df, case_insensitive=True, Modality={'RegEx': '^c(t|oncomputed tomography)?$'})[['PatientID','Modality']]"
      ]
    },
    {
      "cell_type": "markdown",
      "metadata": {},
      "source": [
        "## 4) Ranges / Comparison Operators\n",
        "Supported: `gte`, `lte`, `gt`, `lt`, `eq`, `neq`."
      ]
    },
    {
      "cell_type": "code",
      "execution_count": null,
      "metadata": {},
      "outputs": [],
      "source": [
        "query_df(df, Age={'gte': 40, 'lte': 60})[['PatientID','Age']]"
      ]
    },
    {
      "cell_type": "markdown",
      "metadata": {},
      "source": [
        "## 5) IN / NOT IN, Exists / Missing"
      ]
    },
    {
      "cell_type": "code",
      "execution_count": null,
      "metadata": {},
      "outputs": [],
      "source": [
        "display(query_df(df, Modality={'in': ['CT','PT']})[['PatientID','Modality']])\n",
        "display(query_df(df, Modality={'nin': ['CT','MR']})[['PatientID','Modality']])\n",
        "display(query_df(df, Modality={'exists': True})[['PatientID','Modality']])\n",
        "display(query_df(df, Modality={'missing': True})[['PatientID','Modality']])"
      ]
    },
    {
      "cell_type": "markdown",
      "metadata": {},
      "source": [
        "## 6) Container-Aware Queries\n",
        "For list-like cells (e.g., `Tags`), `contains` checks membership. A plain `eq` with a scalar also falls back to membership when the cell is a container."
      ]
    },
    {
      "cell_type": "code",
      "execution_count": null,
      "metadata": {},
      "outputs": [],
      "source": [
        "display(query_df(df, Tags={'contains': 'head'})[['PatientID','Tags']])\n",
        "display(query_df(df, Tags='contrast')[['PatientID','Tags']])  # scalar membership fallback"
      ]
    },
    {
      "cell_type": "markdown",
      "metadata": {},
      "source": [
        "## 7) Approximate Numeric Equality\n",
        "Use `approx` with `value` plus `atol`/`rtol`."
      ]
    },
    {
      "cell_type": "code",
      "execution_count": null,
      "metadata": {},
      "outputs": [],
      "source": [
        "query_df(df, Score={'approx': {'value': 1.0, 'atol': 1e-6, 'rtol': 1e-6}})[['PatientID','Score']]"
      ]
    },
    {
      "cell_type": "markdown",
      "metadata": {},
      "source": [
        "## 8) Callable Predicates\n",
        "Pass a function that takes a single cell and returns `True`/`False`."
      ]
    },
    {
      "cell_type": "code",
      "execution_count": null,
      "metadata": {},
      "outputs": [],
      "source": [
        "query_df(df, Age=lambda a: a is not None and a % 5 == 0)[['PatientID','Age']]"
      ]
    },
    {
      "cell_type": "markdown",
      "metadata": {},
      "source": [
        "## 9) Dot-Paths into Nested Dicts / Lists in a Cell\n",
        "You can reference nested content like `Meta.series.desc` or `Meta.angles[0]`. The dot-path walker supports sequence indices and `[*]` to iterate all list items."
      ]
    },
    {
      "cell_type": "code",
      "execution_count": null,
      "metadata": {},
      "outputs": [],
      "source": [
        "display(query_df(df, **{'Meta.series.desc': {'RegEx': 'Head.*'}})[['PatientID','Meta']])\n",
        "display(query_df(df, **{'Meta.angles[0]': {'gte': 0, 'lte': 1}})[['PatientID','Meta']])"
      ]
    },
    {
      "cell_type": "markdown",
      "metadata": {},
      "source": [
        "## 10) OR Across Multiple Conditions for the Same Column\n",
        "Pass a list of conditions \u2014 they\u2019re OR\u2019ed **within the same column**; AND\u2019ed across different columns."
      ]
    },
    {
      "cell_type": "code",
      "execution_count": null,
      "metadata": {},
      "outputs": [],
      "source": [
        "query_df(df, Modality=['CT', {'RegEx': '^M'}])[['PatientID','Modality']]"
      ]
    },
    {
      "cell_type": "markdown",
      "metadata": {},
      "source": [
        "## 11) Combine Multiple Filters (AND semantics across columns)"
      ]
    },
    {
      "cell_type": "code",
      "execution_count": null,
      "metadata": {},
      "outputs": [],
      "source": [
        "query_df(\n",
        "    df,\n",
        "    Modality='CT',\n",
        "    Tags={'contains': 'head'},\n",
        "    **{'Meta.series.desc': {'RegEx': '.*contrast.*'}},\n",
        ")[['PatientID','Modality','Tags','Meta']]"
      ]
    },
    {
      "cell_type": "markdown",
      "metadata": {},
      "source": [
        "## 12) Custom Operators via `register_op`\n",
        "You can add domain-specific operators without modifying `query_df`. An operator receives the column *Series*, the user-supplied value, and a context dict; it must return a boolean mask."
      ]
    },
    {
      "cell_type": "code",
      "execution_count": null,
      "metadata": {},
      "outputs": [],
      "source": [
        "def op_near_int(series, target, ctx):\n",
        "    \"\"\"True if value is within 1 of target integer (handles NaN).\"\"\"\n",
        "    try:\n",
        "        tgt = int(target)\n",
        "    except Exception:\n",
        "        return pd.Series(False, index=series.index)\n",
        "    return (series.astype('float64') - tgt).abs().le(1)\n",
        "\n",
        "register_op('near_int', op_near_int)\n",
        "print('Registered ops:', sorted(_OPS.keys()))\n",
        "query_df(df, Age={'near_int': 35})[['PatientID','Age']]"
      ]
    },
    {
      "cell_type": "markdown",
      "metadata": {},
      "source": [
        "## 13) Notes & Tips\n",
        "- **Dot-paths** only traverse within a single cell (e.g., a `dict`/`list` stored in a column). They do not join across rows/tables.\n",
        "- For **date**-like strings, prefer converting your DataFrame columns to `datetime64[ns]` first for efficient range queries.\n",
        "- Use `case_insensitive=True` to normalize string comparisons and regex.\n",
        "- For **float** comparisons, prefer `approx` over `eq` to avoid surprise misses due to precision.\n",
        "- You can add any number of custom operators with `register_op(name, fn)`.\n",
        "\n",
        "That\u2019s it \u2014 happy querying!"
      ]
    }
  ],
  "metadata": {
    "kernelspec": {
      "display_name": "Python 3",
      "language": "python",
      "name": "python3"
    },
    "language_info": {
      "name": "python",
      "version": "3.x"
    },
    "created": "2025-09-28T02:11:20.237146Z"
  },
  "nbformat": 4,
  "nbformat_minor": 5
}