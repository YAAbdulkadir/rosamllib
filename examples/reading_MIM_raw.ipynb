{
 "cells": [
  {
   "cell_type": "markdown",
   "id": "c8abd1b2",
   "metadata": {},
   "source": [
    "# 📘 Reading MIM DICOM RAW Files\n",
    "\n",
    "MIM software sometimes exports entire sessions as a single **DICOM RAW file**.\n",
    "These files can contain multiple embedded DICOM datasets, such as:\n",
    " - RTSTRUCT (contours)\n",
    " - REG (registration)\n",
    "\n",
    "\n",
    " The code below demonstrates how to:\n",
    " 1. Load a MIM DICOM RAW file.\n",
    " 2. Use `rosamllib.readers.DICOMRawReader` to parse it.\n",
    " 3. Extract and inspect the embedded DICOM datasets.\n",
    "\n",
    " ---\n",
    " **Reference:** [`rosamllib` GitHub Repository](https://github.com/YAAbdulkadir/rosamllib)\n",
    "\n",
    " `rosamllib` is a Python library developed to streamline DICOM data handling, including reading, parsing,\n",
    " referencing, and visualizing radiotherapy-related datasets (CT, RTSTRUCT, RTDOSE, REG, etc.)."
   ]
  },
  {
   "cell_type": "code",
   "execution_count": null,
   "id": "a2b00bd8",
   "metadata": {},
   "outputs": [],
   "source": [
    "from rosamllib.readers import DICOMRawReader\n",
    "from pathlib import Path"
   ]
  },
  {
   "cell_type": "markdown",
   "id": "9ced2f52",
   "metadata": {},
   "source": [
    "## Step 1: Specify the path to the MIM RAW DICOM file\n",
    "Replace the path below with the location of your `.dcm` file exported by MIM."
   ]
  },
  {
   "cell_type": "code",
   "execution_count": 37,
   "id": "e5b3ce0f",
   "metadata": {},
   "outputs": [],
   "source": [
    "file_path = Path(r\"path/to/dicom/raw/file\") # replace the path with the location of your raw file"
   ]
  },
  {
   "cell_type": "markdown",
   "id": "7af7d299",
   "metadata": {},
   "source": [
    "## Step 2: Initialize the DICOMRawReader\n",
    "\n",
    "The `DICOMRawReader` is a high-level reader class from **rosamllib** that knows how to parse MIM’s\n",
    "DICOM RAW file format. It automatically detects and extracts embedded DICOM datasets."
   ]
  },
  {
   "cell_type": "code",
   "execution_count": 18,
   "id": "b34b90da",
   "metadata": {},
   "outputs": [],
   "source": [
    "raw = DICOMRawReader(file_path)\n",
    "raw.read()\n"
   ]
  },
  {
   "cell_type": "markdown",
   "id": "c2321c58",
   "metadata": {},
   "source": [
    "### 🔹 Alternate Initialization\n",
    "`DICOMRawReader` can also accept an **already loaded pydicom Dataset**, for example if you have already read it via `pydicom.dcmread()` or received it from a C-MOVE operation.\n",
    "\n",
    "\n",
    "```python\n",
    "import pydicom\n",
    "ds = pydicom.dcmread(file_path)\n",
    "raw = DICOMRawReader(ds) # dataset object accepted directly\n",
    "raw.read()\n",
    "```\n",
    "\n",
    "\n",
    "This is particularly useful when working with DICOM networking workflows or when the file is already in memory.\n",
    "\n",
    "\n",
    "---"
   ]
  },
  {
   "cell_type": "markdown",
   "id": "465ad4b6",
   "metadata": {},
   "source": [
    "## Step 3: Retrieve Embedded Datasets\n",
    "\n",
    "Once the file is read, you can access the embedded datasets (e.g., RTSTRUCT, REG, etc.)\n",
    "using the `get_embedded_datasets()` method.\n",
    "\n",
    "This returns a list of pydicom `Dataset` objects, each representing an individual DICOM file."
   ]
  },
  {
   "cell_type": "code",
   "execution_count": 25,
   "id": "255e2c28",
   "metadata": {},
   "outputs": [],
   "source": [
    "embedded_datasets = raw.get_embedded_datasets()"
   ]
  },
  {
   "cell_type": "code",
   "execution_count": 36,
   "id": "3cb1ae80",
   "metadata": {},
   "outputs": [
    {
     "name": "stdout",
     "output_type": "stream",
     "text": [
      "3\n",
      "REG\n",
      "CONTOUR Res Cav HERE\n"
     ]
    }
   ],
   "source": [
    "print(len(embedded_datasets))   # Number of embedded DICOM datasets found\n",
    "print(embedded_datasets[0].Modality)    # Modality of the first embedded dataset\n",
    "reg = embedded_datasets[0] # Example: select first embedded dataset (e.g., REG)\n",
    "print(reg.SeriesDescription) # View its series description"
   ]
  }
 ],
 "metadata": {
  "kernelspec": {
   "display_name": "rosamllib_dev",
   "language": "python",
   "name": "python3"
  },
  "language_info": {
   "codemirror_mode": {
    "name": "ipython",
    "version": 3
   },
   "file_extension": ".py",
   "mimetype": "text/x-python",
   "name": "python",
   "nbconvert_exporter": "python",
   "pygments_lexer": "ipython3",
   "version": "3.11.9"
  }
 },
 "nbformat": 4,
 "nbformat_minor": 5
}
