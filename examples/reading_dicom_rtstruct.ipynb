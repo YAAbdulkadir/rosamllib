{
 "cells": [
  {
   "cell_type": "markdown",
   "metadata": {},
   "source": [
    "# Reading RTSTRUCT files and extracting binary masks\n",
    "---"
   ]
  },
  {
   "cell_type": "code",
   "execution_count": 1,
   "metadata": {},
   "outputs": [],
   "source": [
    "import SimpleITK as sitk\n",
    "from rosamllib.readers import DICOMImageReader, RTStructReader\n",
    "from rosamllib.viewers import interactive_image_viewer"
   ]
  },
  {
   "cell_type": "code",
   "execution_count": 2,
   "metadata": {},
   "outputs": [],
   "source": [
    "# path to the rtstruct file and the referenced image\n",
    "rtstruct_path = r\"D:\\DosePredictionData\\FROM_ARIA\\6410035\\RTSTRUCT-1.2.246.352.71.2.613150734779.7949820.20211116165515\"\n",
    "ct_path = r\"D:\\DosePredictionData\\FROM_ARIA\\6410035\\CT-2.16.840.1.114362.1.12046989.23926098466.594372267.335.2\""
   ]
  },
  {
   "cell_type": "code",
   "execution_count": 3,
   "metadata": {},
   "outputs": [],
   "source": [
    "# read the rtstruct file and the referenced image\n",
    "rtstruct = RTStructReader(rtstruct_path).read()\n",
    "ct_image = DICOMImageReader(ct_path).read()"
   ]
  },
  {
   "cell_type": "code",
   "execution_count": 4,
   "metadata": {},
   "outputs": [],
   "source": [
    "# set the referenced image\n",
    "rtstruct.set_referenced_image(ct_image)"
   ]
  },
  {
   "cell_type": "code",
   "execution_count": 5,
   "metadata": {},
   "outputs": [],
   "source": [
    "# get the structure names\n",
    "structures = rtstruct.get_structure_names()"
   ]
  },
  {
   "cell_type": "code",
   "execution_count": 6,
   "metadata": {},
   "outputs": [
    {
     "name": "stdout",
     "output_type": "stream",
     "text": [
      "['GTV_Preop', 'C_CTV_60', 'P_PTV_60', 'P_PTV_54', 'P_PTV_50', 'BODY', 'O_brainstem', 'O_brainstem_exp', 'O_cord', 'O_cord_exp', 'O_chiasm', 'O_orbit_R', 'O_orbit_L', 'O_lens_R', 'O_lens_L', 'O_opticnerve_R', 'O_opticnerve_L', 'O_brain', 'O_parotid_R', 'O_parotid_L', 'O_mandible', 'O_lips', 'O_cochlea_L', 'O_cochlea_R', 'O_larynx', 'O_pharynx', 'O_esophagus', 'O_oralcavity', 'O_CPI', 'O_TMJ_L', 'O_TMJ_R', 'O_lung_L', 'O_lung_R', 'Artifact', 'O_pharynx-PTV', 'O_cochlea_R_exp', 'O_cochlea_L_exp', 'O_SMG_R', 'O_SMG_L', 'O_LacGland_R', 'O_LacGland_L', 'O_trachea', 'O_Retina_R', 'O_Retina_L', 'T_PTV60_exp', 'T_PTV54_exp', 'T_PTV50_exp', 'T_PTV_54', 'T_PTV_50', 'T_PTV_all', 'T_PTVall_exp', 'T_Brain', 'T_OpN_R', 'T_OpN_L', 'T_Chiasm', 'T_Parotid_R', 'T_Parotid_L', 'T_SMG_R', 'T_SMG_L', 'T_OralCv-PTV', 'T_Avoid_PostNck', 'T_OppApp', 'T_OppApp_exp', 'T_PTV_60', 'T_Orbits_exp', 'T_GTV_inner', 'T_PTV60-GTV', 'T_Avoid_60', 'T_Avoid_54', 'T_Avoid_50', 'T_Avoid_54_optic', 'T_Avoid_45_orb', 'T_Avoid_54_opt1', 'T_Avoid_45_orb1', 'T_Avoid_50%', 'T_Avoid_hot', 'T_Dose 111[%]', 'T_Avoid_52', 'T_Dose 110[%]', 'T_Avoid_20', 'T_Avoid_hot_1']\n"
     ]
    }
   ],
   "source": [
    "print(structures)"
   ]
  },
  {
   "cell_type": "code",
   "execution_count": 7,
   "metadata": {},
   "outputs": [
    {
     "data": {
      "text/plain": [
       "(268, 512, 512)"
      ]
     },
     "execution_count": 7,
     "metadata": {},
     "output_type": "execute_result"
    }
   ],
   "source": [
    "# get some of the structure masks\n",
    "selected_structures = [\"Body\", \"O_Bldr\", \"O_Femr_Rt\", \"O_Femr_Lt\", \"O_Rctm\"]\n",
    "structure_masks = {}\n",
    "for structure in structures:\n",
    "    structure_masks[structure] = {\"mask\": sitk.GetArrayFromImage(rtstruct.get_structure_mask(structure)),\n",
    "                                  \"color\": rtstruct.get_structure_color(structure)}\n",
    "structure_masks[\"BODY\"][\"mask\"].shape"
   ]
  },
  {
   "cell_type": "code",
   "execution_count": 8,
   "metadata": {},
   "outputs": [
    {
     "data": {
      "text/plain": [
       "[0, 255, 0]"
      ]
     },
     "execution_count": 8,
     "metadata": {},
     "output_type": "execute_result"
    }
   ],
   "source": [
    "structure_masks[\"BODY\"][\"color\"]"
   ]
  },
  {
   "cell_type": "code",
   "execution_count": 9,
   "metadata": {},
   "outputs": [
    {
     "data": {
      "text/plain": [
       "(268, 512, 512)"
      ]
     },
     "execution_count": 9,
     "metadata": {},
     "output_type": "execute_result"
    }
   ],
   "source": [
    "# get the image array\n",
    "img = ct_image.get_image_array()\n",
    "img.shape"
   ]
  },
  {
   "cell_type": "code",
   "execution_count": 10,
   "metadata": {},
   "outputs": [
    {
     "data": {
      "application/vnd.jupyter.widget-view+json": {
       "model_id": "30b6d4d30e8545a28ac273d3acbb0d02",
       "version_major": 2,
       "version_minor": 0
      },
      "text/plain": [
       "IntSlider(value=134, description='Slice', max=267)"
      ]
     },
     "metadata": {},
     "output_type": "display_data"
    },
    {
     "data": {
      "application/vnd.jupyter.widget-view+json": {
       "model_id": "f941c9607a9d40e0b22ccee929978a3d",
       "version_major": 2,
       "version_minor": 0
      },
      "text/plain": [
       "VBox(children=(HBox(children=(VBox(children=(Output(),)), VBox(children=(HBox(children=(HTML(value=\"<div style…"
      ]
     },
     "metadata": {},
     "output_type": "display_data"
    }
   ],
   "source": [
    "interactive_image_viewer(img, structure_masks, cmap='grey')"
   ]
  },
  {
   "cell_type": "code",
   "execution_count": null,
   "metadata": {},
   "outputs": [],
   "source": []
  }
 ],
 "metadata": {
  "kernelspec": {
   "display_name": "ergalio",
   "language": "python",
   "name": "python3"
  },
  "language_info": {
   "codemirror_mode": {
    "name": "ipython",
    "version": 3
   },
   "file_extension": ".py",
   "mimetype": "text/x-python",
   "name": "python",
   "nbconvert_exporter": "python",
   "pygments_lexer": "ipython3",
   "version": "3.11.9"
  }
 },
 "nbformat": 4,
 "nbformat_minor": 4
}
