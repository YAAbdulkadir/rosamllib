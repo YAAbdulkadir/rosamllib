{
 "cells": [
  {
   "cell_type": "code",
   "execution_count": null,
   "id": "a778933b",
   "metadata": {},
   "outputs": [],
   "source": [
    "import os\n",
    "import shutil\n",
    "from pathlib import Path\n",
    "from datetime import datetime\n",
    "from queue import Queue\n",
    "from pynetdicom import debug_logger\n",
    "from pydicom.dataset import Dataset\n",
    "from pydicom.sequence import Sequence\n",
    "from rosamllib.networking import QueryRetrieveSCU, StoreSCP\n",
    "from rosamllib.utils import query_df, get_referenced_sop_instance_uids\n",
    "from tqdm.notebook import tqdm\n",
    "import warnings\n",
    "warnings.filterwarnings(\n",
    "    \"ignore\",\n",
    "    message=r\"Invalid value for VR\",\n",
    ")"
   ]
  },
  {
   "cell_type": "code",
   "execution_count": null,
   "id": "6540467b",
   "metadata": {},
   "outputs": [],
   "source": [
    "MODALITY_BY_CLASS_UID = {\n",
    "    \"1.2.840.10008.5.1.4.1.1.2\": \"CT\",\n",
    "    \"1.2.840.10008.5.1.4.1.1.4\": \"MR\",\n",
    "    \"1.2.840.10008.5.1.4.1.1.128\": \"PT\",\n",
    "    \"1.2.840.10008.5.1.4.1.1.481.1\": \"RTIMAGE\",\n",
    "    \"1.2.840.10008.5.1.4.1.1.1\": \"CR\",\n",
    "    \"1.2.840.10008.5.1.4.1.1.481.4\": \"RTRECORD\",\n",
    "    \"1.2.840.10008.5.1.4.1.1.481.5\": \"RTPLAN\",\n",
    "    \"1.2.840.10008.5.1.4.1.1.481.2\": \"RTDOSE\",\n",
    "    \"1.2.840.10008.5.1.4.1.1.481.3\": \"RTSTRUCT\",\n",
    "    \"1.2.840.10008.5.1.4.1.1.66.1\": \"REG\",\n",
    "}\n",
    "\n",
    "CLASS_UID_BY_MODALITY = {\n",
    "    \"RTRECORD\": \"1.2.840.10008.5.1.4.1.1.481.4\",\n",
    "    \"RTPLAN\": \"1.2.840.10008.5.1.4.1.1.481.5\",\n",
    "    \"RTDOSE\": \"1.2.840.10008.5.1.4.1.1.481.2\",\n",
    "    \"RTSTRUCT\": \"1.2.840.10008.5.1.4.1.1.481.3\",\n",
    "    \"REG\": \"1.2.840.10008.5.1.4.1.1.66.1\",\n",
    "    \"CT\": \"1.2.840.10008.5.1.4.1.1.2\",\n",
    "    \"MR\": \"1.2.840.10008.5.1.4.1.1.4\",\n",
    "    \"PT\": \"1.2.840.10008.5.1.4.1.1.128\",\n",
    "    \"RTIMAGE\": \"1.2.840.10008.5.1.4.1.1.481.1\",\n",
    "    \"CR\": \"1.2.840.10008.5.1.4.1.1.1\",\n",
    "}"
   ]
  },
  {
   "cell_type": "code",
   "execution_count": null,
   "id": "7c11dd74",
   "metadata": {},
   "outputs": [],
   "source": [
    "scu = QueryRetrieveSCU(\"YA_DOSE\")\n",
    "scu.configure_logging(log_to_file=True, log_to_console=False, log_file_path=f\"qr_scu_{datetime.today().strftime('%Y-%m-%d')}.log\")\n",
    "scu.add_remote_ae(\"ARIA\", \"ARIA_AE_TITLE\", \"ARIA_IP\", \"ARIA_PORT\") # Replace placeholders\n",
    "scu.add_remote_ae(\"YA_DOSE\", \"YA_DOSE\", \"YA_DOSE_IP\", \"YA_DOSE_PORT\") # Replace placeholders"
   ]
  },
  {
   "cell_type": "code",
   "execution_count": null,
   "id": "078bef90",
   "metadata": {},
   "outputs": [],
   "source": [
    "# Start the scp\n",
    "scp = StoreSCP(\"YA_DOSE\", \"YA_DOSE_IP\", \"YA_DOSE_PORT\") # Replace placeholders\n",
    "scp.configure_logging(log_to_file=True, log_to_console=False, log_file_path=f\"store_scp_{datetime.today().strftime('%Y-%m-%d')}.log\")\n",
    "scp.start(block=False)"
   ]
  },
  {
   "cell_type": "code",
   "execution_count": null,
   "id": "236862eb",
   "metadata": {},
   "outputs": [],
   "source": [
    "scu.c_echo(\"YA_DOSE\")"
   ]
  },
  {
   "cell_type": "code",
   "execution_count": null,
   "id": "a61cbb91",
   "metadata": {},
   "outputs": [],
   "source": [
    "scu.c_echo(\"ARIA\")"
   ]
  },
  {
   "cell_type": "code",
   "execution_count": null,
   "id": "fdcd316a",
   "metadata": {},
   "outputs": [],
   "source": [
    "received_dcm = []\n",
    "def stage_received_dcms(event):\n",
    "    ds = event.dataset\n",
    "    received_dcm.append(ds)"
   ]
  },
  {
   "cell_type": "code",
   "execution_count": null,
   "id": "08b14382",
   "metadata": {},
   "outputs": [],
   "source": [
    "def save_received_dcms(event):\n",
    "    ds = event.dataset\n",
    "    ds.file_meta = event.file_meta\n",
    "    data_path = Path(r\"D:\\DosePredictionData\\FROM_ARIA_TEST\")\n",
    "    save_path = data_path/f\"{ds.PatientID}\"/f\"{ds.Modality}-{ds.SeriesInstanceUID}\"/f\"{ds.Modality}.{ds.SOPInstanceUID}.dcm\"\n",
    "    save_path.parent.mkdir(parents=True, exist_ok=True)\n",
    "    ds.save_as(save_path, write_like_original=False)"
   ]
  },
  {
   "cell_type": "code",
   "execution_count": null,
   "id": "51c155a8",
   "metadata": {},
   "outputs": [],
   "source": [
    "scp.add_custom_function_store(stage_received_dcms)"
   ]
  },
  {
   "cell_type": "code",
   "execution_count": null,
   "id": "ab6b8466",
   "metadata": {},
   "outputs": [],
   "source": [
    "# Query for all RTPlans from ARIA\n",
    "plan_ds = Dataset()\n",
    "plan_ds.PatientID = \"\"\n",
    "plan_ds.StudyInstanceUID = \"\"\n",
    "plan_ds.SeriesInstanceUID = \"\"\n",
    "plan_ds.SOPInstanceUID = \"\"\n",
    "plan_ds.SOPClassUID = CLASS_UID_BY_MODALITY[\"RTPLAN\"]\n",
    "plan_ds.Modality = \"RTPLAN\"\n",
    "plan_ds.StudyDate = \"\"\n",
    "plan_ds.ApprovalStatus = \"\"\n",
    "plan_ds.RTPlanName = \"\"\n",
    "plan_ds.RTPlanLabel = \"\"\n",
    "plan_ds.RTPlanDate = \"\"\n",
    "plan_ds.QueryRetrieveLevel = \"IMAGE\"\n",
    "results = scu.c_find(\"ARIA\", plan_ds)"
   ]
  },
  {
   "cell_type": "code",
   "execution_count": null,
   "id": "f4a5a9d5",
   "metadata": {},
   "outputs": [],
   "source": [
    "# Plan names to filter\n",
    "plan_names = [\n",
    "    \"*1*BOT*\", \n",
    "    \"*1*Neck*\", \n",
    "    \"*1*Ophr*\", \n",
    "    \"*1H*N*\", \n",
    "    \"*1*Prtd*\", \n",
    "    \"*1*FOM*\", \n",
    "    \"*1*Cavs*\", \n",
    "    \"*1*Mxla*\", \n",
    "    \"*1*Nphr*\", \n",
    "    \"*1*Phnx*\", \n",
    "    \"*1*Sins*\", \n",
    "    \"*1*Sphn*\", \n",
    "    \"*1*tnsl*\"\n",
    "    ]"
   ]
  },
  {
   "cell_type": "code",
   "execution_count": null,
   "id": "e90b9cd2",
   "metadata": {},
   "outputs": [],
   "source": [
    "results_df = QueryRetrieveSCU.convert_results_to_df(results, plan_ds)\n",
    "len(results_df)"
   ]
  },
  {
   "cell_type": "code",
   "execution_count": null,
   "id": "56c0a102",
   "metadata": {},
   "outputs": [],
   "source": [
    "# filter for plans where RTPlanLabels match the plan_names list\n",
    "filters = {\"RTPlanLabel\": plan_names}\n",
    "filtered_df = query_df(results_df, **filters)\n",
    "# filtered_df.to_csv(\"../csv/all_HN_plans_aria.csv\")\n",
    "len(filtered_df)"
   ]
  },
  {
   "cell_type": "code",
   "execution_count": null,
   "id": "57da130c",
   "metadata": {},
   "outputs": [],
   "source": [
    "# filter for approved plans only\n",
    "filters_approved = {\"RTPlanLabel\": plan_names, \"ApprovalStatus\": \"APPROVED\"}\n",
    "approved_df = query_df(results_df, **filters_approved)\n",
    "# approved_df.to_csv(\"../csv/all_approved_HN_plans.csv\")\n",
    "len(approved_df)"
   ]
  },
  {
   "cell_type": "code",
   "execution_count": null,
   "id": "e86563b5",
   "metadata": {},
   "outputs": [],
   "source": [
    "# filter the boost plans out\n",
    "filter_non_boost = {\"RTPlanLabel\": {\"neq\":\"b*\"}}\n",
    "approved_non_boost_df = query_df(approved_df, **filter_non_boost).reset_index(drop=True)\n",
    "# approved_non_boost_df.to_csv(\"../csv/approved_HN_non_boost_plans.csv\")\n",
    "len(approved_non_boost_df)"
   ]
  },
  {
   "cell_type": "code",
   "execution_count": null,
   "id": "708cfc13",
   "metadata": {},
   "outputs": [],
   "source": [
    "# filter for plans after 2015\n",
    "filter_plan_date = {\"RTPlanDate\": {\"gte\":\"2015-01-01\"}}\n",
    "approved_non_boost_gte_2015_df = query_df(approved_non_boost_df, **filter_plan_date)\n",
    "len(approved_non_boost_gte_2015_df)"
   ]
  },
  {
   "cell_type": "code",
   "execution_count": null,
   "id": "4f6053ed",
   "metadata": {},
   "outputs": [],
   "source": [
    "approved_non_boost_gte_2015_df.head()"
   ]
  },
  {
   "cell_type": "code",
   "execution_count": null,
   "id": "4ddc07f9",
   "metadata": {},
   "outputs": [],
   "source": [
    "# Query for RTRECORDs that refernce the RTPlans \n",
    "# then filter out RTPlans not referenced by any RTRECORDS \n",
    "# (check if it is different from 1275)\n",
    "record_results_list = []\n",
    "unique_plan_results = set()\n",
    "record_query_ds = Dataset()\n",
    "record_query_ds.PatientID = \"\"\n",
    "record_query_ds.StudyInstanceUID = \"\"\n",
    "record_query_ds.SeriesInstanceUID = \"\"\n",
    "record_query_ds.SOPInstanceUID = \"\"\n",
    "record_query_ds.SOPClassUID = CLASS_UID_BY_MODALITY[\"RTRECORD\"]\n",
    "record_query_ds.ReferencedSOPClassUID = CLASS_UID_BY_MODALITY[\"RTPLAN\"]\n",
    "record_query_ds.ReferencedSOPInstanceUID = \"\"\n",
    "record_query_ds.QueryRetrieveLevel = \"IMAGE\"\n",
    "for indx, row in tqdm(approved_non_boost_gte_2015_df.iterrows(), \n",
    "                      total=len(approved_non_boost_gte_2015_df), \n",
    "                      desc=\"Processing plans\", leave=False):\n",
    "    record_query_ds.PatientID = row[\"PatientID\"]\n",
    "    record_query_ds.StudyInstanceUID = row[\"StudyInstanceUID\"]\n",
    "    record_query_ds.ReferencedSOPInstanceUID = row[\"SOPInstanceUID\"]\n",
    "    record_results = scu.c_find(\"ARIA\", record_query_ds)\n",
    "    if record_results:\n",
    "        for record in record_results:\n",
    "            if record.ReferencedSOPInstanceUID == row[\"SOPInstanceUID\"]:\n",
    "                record.Modality = \"RTRECORD\"\n",
    "                if row[\"SOPInstanceUID\"] not in unique_plan_results:\n",
    "                    unique_plan_results.add(row[\"SOPInstanceUID\"])\n",
    "                    record_results_list.append(record)"
   ]
  },
  {
   "cell_type": "code",
   "execution_count": null,
   "id": "9617263a",
   "metadata": {},
   "outputs": [],
   "source": [
    "len(unique_plan_results)"
   ]
  },
  {
   "cell_type": "code",
   "execution_count": null,
   "id": "ab5720ae",
   "metadata": {},
   "outputs": [],
   "source": [
    "len(record_results_list)"
   ]
  },
  {
   "cell_type": "code",
   "execution_count": null,
   "id": "99af605b",
   "metadata": {},
   "outputs": [],
   "source": [
    "records_with_unique_referenced_plans_df = QueryRetrieveSCU.convert_results_to_df(record_results_list, record_query_ds)"
   ]
  },
  {
   "cell_type": "code",
   "execution_count": null,
   "id": "f1f2cdd3",
   "metadata": {},
   "outputs": [],
   "source": [
    "len(records_with_unique_referenced_plans_df)"
   ]
  },
  {
   "cell_type": "code",
   "execution_count": null,
   "id": "47c29ba5",
   "metadata": {},
   "outputs": [],
   "source": [
    "# records_with_unique_referenced_plans_df.to_csv(\"../csv/records_with_unique_referenced_plans_aria.csv\")"
   ]
  },
  {
   "cell_type": "code",
   "execution_count": null,
   "id": "0806da6f",
   "metadata": {},
   "outputs": [],
   "source": [
    "no_record_plans = []\n",
    "for indx, row in approved_non_boost_gte_2015_df.iterrows():\n",
    "    if row[\"SOPInstanceUID\"] not in unique_plan_results:\n",
    "        no_record_plans.append(row[\"SOPInstanceUID\"])"
   ]
  },
  {
   "cell_type": "code",
   "execution_count": null,
   "id": "0c898a6c",
   "metadata": {},
   "outputs": [],
   "source": [
    "len(no_record_plans)"
   ]
  },
  {
   "cell_type": "code",
   "execution_count": null,
   "id": "ac818c0b",
   "metadata": {},
   "outputs": [],
   "source": [
    "# plans that are referenced by at least one RTRECORD\n",
    "nonboost_plans_with_records_df = approved_non_boost_gte_2015_df[\n",
    "    approved_non_boost_gte_2015_df[\"SOPInstanceUID\"].isin(unique_plan_results)\n",
    "].reset_index(drop=True)\n",
    "len(nonboost_plans_with_records_df)"
   ]
  },
  {
   "cell_type": "code",
   "execution_count": null,
   "id": "512eca88",
   "metadata": {},
   "outputs": [],
   "source": [
    "c_move_queue = Queue()"
   ]
  },
  {
   "cell_type": "code",
   "execution_count": null,
   "id": "9d317152",
   "metadata": {},
   "outputs": [],
   "source": [
    "# for each filtered plan, query for the dose, rtstruct and ct image and add to queue only if it has all\n",
    "for indx, row in tqdm(nonboost_plans_with_records_df.iterrows(), \n",
    "                      total=len(nonboost_plans_with_records_df), \n",
    "                      desc=\"Processing plans\", \n",
    "                      leave=False):\n",
    "    # Move RTPlan to staging\n",
    "    plan_move_ds = Dataset()\n",
    "    plan_move_ds.PatientID = row[\"PatientID\"]\n",
    "    plan_move_ds.StudyInstanceUID = row[\"StudyInstanceUID\"]\n",
    "    plan_move_ds.SeriesInstanceUID = row[\"SeriesInstanceUID\"]\n",
    "    plan_move_ds.SOPInstanceUID = row[\"SOPInstanceUID\"]\n",
    "    plan_move_ds.QueryRetrieveLevel = \"IMAGE\"\n",
    "    scu.c_move(\"ARIA\", plan_move_ds, \"YA_DOSE\")\n",
    "    if received_dcm:\n",
    "        ds_plan = received_dcm[0]\n",
    "        received_dcm = []\n",
    "        # query for all RTDose that reference the RTPlan\n",
    "        dose_query_ds = Dataset()\n",
    "        dose_query_ds.PatientID = row[\"PatientID\"]\n",
    "        dose_query_ds.StudyInstanceUID = row[\"StudyInstanceUID\"]\n",
    "        dose_query_ds.SeriesInstanceUID = \"\"\n",
    "        dose_query_ds.SOPInstanceUID = \"\"\n",
    "        dose_query_ds.SOPClassUID = CLASS_UID_BY_MODALITY[\"RTDOSE\"]\n",
    "        ReferencedRTPlanSequence = Sequence()\n",
    "        ReferencedRTPlanDataset = Dataset()\n",
    "        ReferencedRTPlanDataset.ReferencedSOPClassUID = (\n",
    "            CLASS_UID_BY_MODALITY[\"RTPLAN\"]\n",
    "        )\n",
    "        ReferencedRTPlanDataset.ReferencedSOPInstanceUID = row[\"SOPInstanceUID\"]\n",
    "        ReferencedRTPlanSequence.append(ReferencedRTPlanDataset)\n",
    "        dose_query_ds.ReferencedRTPlanSequence = ReferencedRTPlanSequence\n",
    "        dose_query_ds.DoseSummationType = \"PLAN\"\n",
    "        dose_query_ds.QueryRetrieveLevel = \"IMAGE\"\n",
    "        dose_results = scu.c_find(\"ARIA\", dose_query_ds)\n",
    "        if dose_results:\n",
    "            # get the referenced RTStruct UID\n",
    "            referenced_items = get_referenced_sop_instance_uids(ds_plan)\n",
    "            referenced_structs = referenced_items.get(CLASS_UID_BY_MODALITY[\"RTSTRUCT\"], None)\n",
    "            if referenced_structs:\n",
    "                struct_uid = referenced_structs[0]\n",
    "                # move the RTStruct to staging\n",
    "                struct_move_ds = Dataset()\n",
    "                struct_move_ds.PatientID = row[\"PatientID\"]\n",
    "                struct_move_ds.StudyInstanceUID = row[\"StudyInstanceUID\"]\n",
    "                struct_move_ds.SeriesInstanceUID = \"\"\n",
    "                struct_move_ds.SOPInstanceUID = struct_uid\n",
    "                struct_move_ds.QueryRetrieveLevel = \"IMAGE\"\n",
    "                scu.c_move(\"ARIA\", struct_move_ds, \"YA_DOSE\")\n",
    "                if received_dcm:\n",
    "                    ds_struct = received_dcm[0]\n",
    "                    received_dcm = []\n",
    "                    # get the referenced image UID\n",
    "                    referenced_slices = get_referenced_sop_instance_uids(ds_struct)\n",
    "                    referenced_ct_slices = referenced_slices.get(CLASS_UID_BY_MODALITY[\"CT\"], None)\n",
    "                    if referenced_ct_slices:\n",
    "                        slice_uid = referenced_ct_slices[0]\n",
    "                        # query and get the SeriesInstanceUID of the image\n",
    "                        ct_query_ds = Dataset()\n",
    "                        ct_query_ds.PatientID = row[\"PatientID\"]\n",
    "                        ct_query_ds.StudyInstanceUID = row[\"StudyInstanceUID\"]\n",
    "                        ct_query_ds.SeriesInstanceUID = \"\"\n",
    "                        ct_query_ds.SOPInstanceUID = slice_uid\n",
    "                        ct_query_ds.QueryRetrieveLevel = \"IMAGE\"\n",
    "                        ct_results = scu.c_find(\"ARIA\", ct_query_ds)\n",
    "                        if ct_results:\n",
    "                            # queue everything for moving to save\n",
    "                            for ct_move_ds in ct_results:\n",
    "                                ct_move_ds.SOPInstanceUID = \"\"\n",
    "                                ct_move_ds.QueryRetrieveLevel = \"SERIES\"\n",
    "                                c_move_queue.put(ct_move_ds)\n",
    "                            c_move_queue.put(struct_move_ds)\n",
    "                            c_move_queue.put(plan_move_ds)\n",
    "                            for dose_move_ds in dose_results:\n",
    "                                c_move_queue.put(dose_move_ds) "
   ]
  },
  {
   "cell_type": "code",
   "execution_count": null,
   "id": "19d5156d",
   "metadata": {},
   "outputs": [],
   "source": [
    "c_move_queue.qsize()"
   ]
  },
  {
   "cell_type": "code",
   "execution_count": null,
   "id": "514f738e",
   "metadata": {},
   "outputs": [],
   "source": [
    "scp.remove_custom_function_store(stage_received_dcms)"
   ]
  },
  {
   "cell_type": "code",
   "execution_count": null,
   "id": "c59b716e",
   "metadata": {},
   "outputs": [],
   "source": [
    "scp.add_custom_function_store(save_received_dcms)"
   ]
  },
  {
   "cell_type": "code",
   "execution_count": null,
   "id": "a1729be6",
   "metadata": {},
   "outputs": [],
   "source": [
    "error_ds = []"
   ]
  },
  {
   "cell_type": "code",
   "execution_count": null,
   "id": "eb0ad81c",
   "metadata": {},
   "outputs": [],
   "source": [
    "# now move all complete data (plan, dose, struct, planning image)\n",
    "while not c_move_queue.empty():\n",
    "    move_ds = c_move_queue.get()\n",
    "    try:\n",
    "        scu.c_move(\"ARIA\", move_ds, \"YA_DOSE\")\n",
    "    except Exception:\n",
    "        error_ds.append(move_ds)"
   ]
  },
  {
   "cell_type": "code",
   "execution_count": null,
   "id": "6c3036e1",
   "metadata": {},
   "outputs": [],
   "source": [
    "len(error_ds)"
   ]
  },
  {
   "cell_type": "code",
   "execution_count": null,
   "id": "7d502f4d",
   "metadata": {},
   "outputs": [],
   "source": [
    "scp.stop()"
   ]
  }
 ],
 "metadata": {
  "kernelspec": {
   "display_name": "dose_prediction",
   "language": "python",
   "name": "python3"
  },
  "language_info": {
   "codemirror_mode": {
    "name": "ipython",
    "version": 3
   },
   "file_extension": ".py",
   "mimetype": "text/x-python",
   "name": "python",
   "nbconvert_exporter": "python",
   "pygments_lexer": "ipython3",
   "version": "3.11.10"
  }
 },
 "nbformat": 4,
 "nbformat_minor": 5
}
